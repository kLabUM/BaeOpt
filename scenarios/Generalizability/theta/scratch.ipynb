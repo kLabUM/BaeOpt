{
 "cells": [
  {
   "cell_type": "code",
   "execution_count": 21,
   "metadata": {},
   "outputs": [],
   "source": [
    "import pickle\n",
    "import pystorms\n",
    "import numpy as np\n",
    "from GPyOpt.methods import BayesianOptimization\n",
    "\n",
    "\n",
    "# Define the performance\n",
    "def f_loss(x):\n",
    "    env = pystorms.scenarios.theta()\n",
    "    done = False\n",
    "\n",
    "    actions = x.flatten()\n",
    "    while not done:\n",
    "        done = env.step(actions)\n",
    "\n",
    "    loss = env.performance()\n",
    "    return loss\n",
    "\n",
    "\n",
    "# Set the random seed\n",
    "np.random.seed(42)\n",
    "\n",
    "\n",
    "# Define gpopt\n",
    "domain = [\n",
    "    {\"name\": \"var_1\", \"type\": \"continuous\", \"domain\": (0.0, 1.0)},\n",
    "    {\"name\": \"var_2\", \"type\": \"continuous\", \"domain\": (0.0, 1.0)},\n",
    "]\n",
    "\n",
    "myBopt = BayesianOptimization(\n",
    "    f=f_loss,\n",
    "    domain=domain,\n",
    "    model_type=\"GP\",\n",
    "    acquisition_type=\"EI\",\n",
    "    initial_design_numdata=0,\n",
    ")"
   ]
  },
  {
   "cell_type": "code",
   "execution_count": 23,
   "metadata": {},
   "outputs": [
    {
     "name": "stdout",
     "output_type": "stream",
     "text": [
      "[0.04456019 0.06226965]\n"
     ]
    }
   ],
   "source": [
    "for i in [10]:\n",
    "    myBopt.__dict__.update(pickle.load(open(\"./ckpts1/Bayopt\"+str(i), \"rb\")))\n",
    "    myBopt._compute_results()\n",
    "    print(myBopt.x_opt)"
   ]
  },
  {
   "cell_type": "markdown",
   "metadata": {},
   "source": [
    "Seems like BaeOpt figured out the solution in 10hits. Magic!"
   ]
  },
  {
   "cell_type": "code",
   "execution_count": null,
   "metadata": {},
   "outputs": [],
   "source": []
  }
 ],
 "metadata": {
  "kernelspec": {
   "display_name": "Python 3",
   "language": "python",
   "name": "python3"
  },
  "language_info": {
   "codemirror_mode": {
    "name": "ipython",
    "version": 3
   },
   "file_extension": ".py",
   "mimetype": "text/x-python",
   "name": "python",
   "nbconvert_exporter": "python",
   "pygments_lexer": "ipython3",
   "version": "3.7.7"
  }
 },
 "nbformat": 4,
 "nbformat_minor": 4
}
