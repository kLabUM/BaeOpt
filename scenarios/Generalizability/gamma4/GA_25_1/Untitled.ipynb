{
 "cells": [
  {
   "cell_type": "code",
   "execution_count": 1,
   "metadata": {},
   "outputs": [],
   "source": [
    "import glob\n",
    "import numpy as np\n",
    "import pandas as pd"
   ]
  },
  {
   "cell_type": "code",
   "execution_count": 2,
   "metadata": {},
   "outputs": [],
   "source": [
    "files = glob.glob(\"*.npy\")"
   ]
  },
  {
   "cell_type": "code",
   "execution_count": 3,
   "metadata": {},
   "outputs": [],
   "source": [
    "data = {}\n",
    "for idx, i in enumerate(files):\n",
    "    data[idx] = np.load(i, allow_pickle=True).item()"
   ]
  },
  {
   "cell_type": "code",
   "execution_count": 4,
   "metadata": {},
   "outputs": [],
   "source": [
    "performance = [data[i][\"Minima\"] for i in data.keys()]"
   ]
  },
  {
   "cell_type": "code",
   "execution_count": 5,
   "metadata": {},
   "outputs": [
    {
     "data": {
      "text/plain": [
       "6446.5979170028295"
      ]
     },
     "execution_count": 5,
     "metadata": {},
     "output_type": "execute_result"
    }
   ],
   "source": [
    "np.mean(performance)"
   ]
  },
  {
   "cell_type": "code",
   "execution_count": 6,
   "metadata": {},
   "outputs": [
    {
     "data": {
      "text/plain": [
       "4077.4308095861834"
      ]
     },
     "execution_count": 6,
     "metadata": {},
     "output_type": "execute_result"
    }
   ],
   "source": [
    "np.std(performance)"
   ]
  },
  {
   "cell_type": "code",
   "execution_count": 7,
   "metadata": {},
   "outputs": [
    {
     "data": {
      "text/plain": [
       "72"
      ]
     },
     "execution_count": 7,
     "metadata": {},
     "output_type": "execute_result"
    }
   ],
   "source": [
    "len(performance)"
   ]
  },
  {
   "cell_type": "code",
   "execution_count": 12,
   "metadata": {},
   "outputs": [],
   "source": [
    "performance = [data[i][\"Total_evaluations\"] + 10 for i in data.keys()]"
   ]
  },
  {
   "cell_type": "code",
   "execution_count": 13,
   "metadata": {},
   "outputs": [
    {
     "data": {
      "text/plain": [
       "20"
      ]
     },
     "execution_count": 13,
     "metadata": {},
     "output_type": "execute_result"
    }
   ],
   "source": [
    "np.min(performance)"
   ]
  },
  {
   "cell_type": "code",
   "execution_count": 14,
   "metadata": {},
   "outputs": [
    {
     "data": {
      "text/plain": [
       "[25,\n",
       " 24,\n",
       " 25,\n",
       " 25,\n",
       " 32,\n",
       " 29,\n",
       " 34,\n",
       " 28,\n",
       " 23,\n",
       " 22,\n",
       " 30,\n",
       " 24,\n",
       " 28,\n",
       " 32,\n",
       " 32,\n",
       " 28,\n",
       " 22,\n",
       " 27,\n",
       " 33,\n",
       " 34,\n",
       " 28,\n",
       " 30,\n",
       " 26,\n",
       " 28,\n",
       " 23,\n",
       " 28,\n",
       " 29,\n",
       " 30,\n",
       " 31,\n",
       " 28,\n",
       " 32,\n",
       " 31,\n",
       " 28,\n",
       " 24,\n",
       " 30,\n",
       " 34,\n",
       " 29,\n",
       " 20,\n",
       " 29,\n",
       " 28,\n",
       " 28,\n",
       " 29,\n",
       " 24,\n",
       " 28,\n",
       " 28,\n",
       " 30,\n",
       " 25,\n",
       " 35,\n",
       " 28,\n",
       " 26,\n",
       " 33,\n",
       " 32,\n",
       " 27,\n",
       " 24,\n",
       " 25,\n",
       " 24,\n",
       " 32,\n",
       " 29,\n",
       " 23,\n",
       " 33,\n",
       " 29,\n",
       " 29,\n",
       " 29,\n",
       " 32,\n",
       " 26,\n",
       " 29,\n",
       " 23,\n",
       " 24,\n",
       " 30,\n",
       " 27,\n",
       " 25,\n",
       " 29]"
      ]
     },
     "execution_count": 14,
     "metadata": {},
     "output_type": "execute_result"
    }
   ],
   "source": [
    "performance"
   ]
  },
  {
   "cell_type": "code",
   "execution_count": null,
   "metadata": {},
   "outputs": [],
   "source": []
  }
 ],
 "metadata": {
  "kernelspec": {
   "display_name": "Python 3",
   "language": "python",
   "name": "python3"
  },
  "language_info": {
   "codemirror_mode": {
    "name": "ipython",
    "version": 3
   },
   "file_extension": ".py",
   "mimetype": "text/x-python",
   "name": "python",
   "nbconvert_exporter": "python",
   "pygments_lexer": "ipython3",
   "version": "3.7.7"
  }
 },
 "nbformat": 4,
 "nbformat_minor": 4
}
