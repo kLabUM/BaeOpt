{
 "cells": [
  {
   "cell_type": "code",
   "execution_count": 1,
   "metadata": {},
   "outputs": [],
   "source": [
    "import pystorms\n",
    "import numpy as np\n",
    "import pandas as pd\n",
    "import matplotlib.pyplot as plt"
   ]
  },
  {
   "cell_type": "code",
   "execution_count": 2,
   "metadata": {},
   "outputs": [],
   "source": [
    "env = pystorms.scenarios.gamma()\n",
    "done = False\n",
    "while not done:\n",
    "    done = env.step([0.40239219,0.8650595,0.27036193,0.41429693])"
   ]
  },
  {
   "cell_type": "code",
   "execution_count": 6,
   "metadata": {},
   "outputs": [
    {
     "data": {
      "text/plain": [
       "[<matplotlib.lines.Line2D at 0x11f1c7d50>]"
      ]
     },
     "execution_count": 6,
     "metadata": {},
     "output_type": "execute_result"
    },
    {
     "data": {
      "image/png": "[encoded data removed]",
      "text/plain": [
       "<Figure size 432x288 with 1 Axes>"
      ]
     },
     "metadata": {
      "needs_background": "light"
     },
     "output_type": "display_data"
    }
   ],
   "source": [
    "plt.plot(env.data_log[\"flow\"][\"O1\"])\n",
    "plt.plot(env.data_log[\"flow\"][\"O2\"])\n",
    "plt.plot(env.data_log[\"flow\"][\"O3\"])\n",
    "plt.plot(env.data_log[\"flow\"][\"O4\"])"
   ]
  },
  {
   "cell_type": "markdown",
   "metadata": {},
   "source": [
    "# Uncontrolled response"
   ]
  },
  {
   "cell_type": "code",
   "execution_count": 7,
   "metadata": {},
   "outputs": [],
   "source": [
    "env_uc = pystorms.scenarios.gamma()\n",
    "done = False\n",
    "while not done:\n",
    "    done = env_uc.step()"
   ]
  },
  {
   "cell_type": "markdown",
   "metadata": {},
   "source": [
    "# Bayes Control"
   ]
  },
  {
   "cell_type": "code",
   "execution_count": 10,
   "metadata": {},
   "outputs": [
    {
     "name": "stdout",
     "output_type": "stream",
     "text": [
      "num acquisition: 1, time elapsed: 6.42s\n",
      "num acquisition: 2, time elapsed: 9.58s\n",
      "num acquisition: 3, time elapsed: 12.83s\n",
      "num acquisition: 4, time elapsed: 16.26s\n",
      "num acquisition: 5, time elapsed: 23.81s\n",
      "num acquisition: 6, time elapsed: 29.86s\n",
      "num acquisition: 7, time elapsed: 37.41s\n",
      "num acquisition: 8, time elapsed: 40.99s\n",
      "num acquisition: 9, time elapsed: 44.35s\n",
      "num acquisition: 10, time elapsed: 50.46s\n",
      "num acquisition: 11, time elapsed: 53.72s\n",
      "num acquisition: 12, time elapsed: 57.05s\n",
      "num acquisition: 13, time elapsed: 63.76s\n",
      "num acquisition: 14, time elapsed: 67.14s\n",
      "num acquisition: 15, time elapsed: 70.46s\n",
      "num acquisition: 16, time elapsed: 73.80s\n",
      "num acquisition: 17, time elapsed: 80.17s\n",
      "num acquisition: 18, time elapsed: 83.41s\n",
      "num acquisition: 19, time elapsed: 86.70s\n",
      "num acquisition: 20, time elapsed: 90.06s\n",
      "num acquisition: 21, time elapsed: 98.05s\n",
      "num acquisition: 22, time elapsed: 104.12s\n",
      "num acquisition: 23, time elapsed: 107.40s\n",
      "num acquisition: 24, time elapsed: 110.79s\n",
      "Model Saved, num acquisition 25\n",
      "num acquisition: 25, time elapsed: 114.02s\n",
      "num acquisition: 26, time elapsed: 121.14s\n",
      "num acquisition: 27, time elapsed: 124.48s\n",
      "num acquisition: 28, time elapsed: 127.86s\n",
      "num acquisition: 29, time elapsed: 131.13s\n",
      "num acquisition: 30, time elapsed: 134.64s\n",
      "num acquisition: 31, time elapsed: 141.14s\n",
      "num acquisition: 32, time elapsed: 148.80s\n",
      "num acquisition: 33, time elapsed: 152.44s\n",
      "num acquisition: 34, time elapsed: 156.22s\n",
      "num acquisition: 35, time elapsed: 165.03s\n",
      "num acquisition: 36, time elapsed: 169.22s\n",
      "num acquisition: 37, time elapsed: 172.54s\n",
      "num acquisition: 38, time elapsed: 175.89s\n",
      "num acquisition: 39, time elapsed: 182.93s\n",
      "num acquisition: 40, time elapsed: 189.13s\n",
      "num acquisition: 41, time elapsed: 192.62s\n",
      "num acquisition: 42, time elapsed: 195.99s\n",
      "num acquisition: 43, time elapsed: 199.36s\n",
      "num acquisition: 44, time elapsed: 206.18s\n",
      "num acquisition: 45, time elapsed: 212.34s\n",
      "num acquisition: 46, time elapsed: 215.51s\n",
      "num acquisition: 47, time elapsed: 222.26s\n",
      "num acquisition: 48, time elapsed: 226.27s\n",
      "num acquisition: 49, time elapsed: 230.29s\n",
      "Model Saved, num acquisition 50\n",
      "num acquisition: 50, time elapsed: 233.96s\n",
      "num acquisition: 51, time elapsed: 238.22s\n",
      "num acquisition: 52, time elapsed: 245.30s\n",
      "num acquisition: 53, time elapsed: 251.84s\n",
      "num acquisition: 54, time elapsed: 260.24s\n",
      "num acquisition: 55, time elapsed: 268.51s\n",
      "num acquisition: 56, time elapsed: 275.52s\n",
      "num acquisition: 57, time elapsed: 278.88s\n",
      "num acquisition: 58, time elapsed: 286.46s\n",
      "num acquisition: 59, time elapsed: 291.00s\n",
      "num acquisition: 60, time elapsed: 294.80s\n",
      "num acquisition: 61, time elapsed: 303.26s\n",
      "num acquisition: 62, time elapsed: 310.83s\n",
      "num acquisition: 63, time elapsed: 314.49s\n",
      "num acquisition: 64, time elapsed: 322.28s\n",
      "num acquisition: 65, time elapsed: 325.85s\n",
      "num acquisition: 66, time elapsed: 334.18s\n",
      "num acquisition: 67, time elapsed: 338.01s\n",
      "num acquisition: 68, time elapsed: 345.02s\n",
      "num acquisition: 69, time elapsed: 352.59s\n",
      "num acquisition: 70, time elapsed: 356.19s\n",
      "num acquisition: 71, time elapsed: 362.92s\n",
      "num acquisition: 72, time elapsed: 369.98s\n",
      "num acquisition: 73, time elapsed: 378.19s\n",
      "num acquisition: 74, time elapsed: 381.91s\n",
      "Model Saved, num acquisition 75\n",
      "num acquisition: 75, time elapsed: 389.93s\n",
      "num acquisition: 76, time elapsed: 398.09s\n",
      "num acquisition: 77, time elapsed: 402.01s\n",
      "num acquisition: 78, time elapsed: 405.56s\n",
      "num acquisition: 79, time elapsed: 408.97s\n",
      "num acquisition: 80, time elapsed: 413.23s\n",
      "num acquisition: 81, time elapsed: 416.68s\n",
      "num acquisition: 82, time elapsed: 423.87s\n",
      "num acquisition: 83, time elapsed: 431.06s\n",
      "num acquisition: 84, time elapsed: 434.65s\n",
      "num acquisition: 85, time elapsed: 438.18s\n",
      "num acquisition: 86, time elapsed: 445.65s\n",
      "num acquisition: 87, time elapsed: 449.38s\n",
      "num acquisition: 88, time elapsed: 456.37s\n",
      "num acquisition: 89, time elapsed: 460.17s\n",
      "num acquisition: 90, time elapsed: 467.35s\n",
      "num acquisition: 91, time elapsed: 474.26s\n",
      "num acquisition: 92, time elapsed: 478.31s\n",
      "num acquisition: 93, time elapsed: 482.16s\n",
      "num acquisition: 94, time elapsed: 489.94s\n",
      "num acquisition: 95, time elapsed: 493.77s\n",
      "num acquisition: 96, time elapsed: 497.55s\n",
      "num acquisition: 97, time elapsed: 506.04s\n",
      "num acquisition: 98, time elapsed: 512.62s\n",
      "num acquisition: 99, time elapsed: 516.38s\n",
      "Model Saved, num acquisition 100\n",
      "num acquisition: 100, time elapsed: 520.09s\n",
      "num acquisition: 101, time elapsed: 523.78s\n",
      "num acquisition: 102, time elapsed: 531.71s\n",
      "num acquisition: 103, time elapsed: 535.68s\n",
      "num acquisition: 104, time elapsed: 539.66s\n",
      "num acquisition: 105, time elapsed: 543.70s\n",
      "num acquisition: 106, time elapsed: 547.79s\n",
      "num acquisition: 107, time elapsed: 551.55s\n",
      "num acquisition: 108, time elapsed: 558.87s\n",
      "num acquisition: 109, time elapsed: 566.60s\n",
      "num acquisition: 110, time elapsed: 571.10s\n",
      "num acquisition: 111, time elapsed: 579.92s\n",
      "num acquisition: 112, time elapsed: 586.67s\n",
      "num acquisition: 113, time elapsed: 594.95s\n",
      "num acquisition: 114, time elapsed: 603.49s\n",
      "num acquisition: 115, time elapsed: 610.96s\n",
      "num acquisition: 116, time elapsed: 614.93s\n",
      "num acquisition: 117, time elapsed: 623.36s\n",
      "num acquisition: 118, time elapsed: 631.41s\n",
      "num acquisition: 119, time elapsed: 635.45s\n",
      "num acquisition: 120, time elapsed: 643.54s\n",
      "num acquisition: 121, time elapsed: 650.40s\n",
      "num acquisition: 122, time elapsed: 657.23s\n",
      "num acquisition: 123, time elapsed: 661.15s\n",
      "num acquisition: 124, time elapsed: 665.06s\n",
      "Model Saved, num acquisition 125\n",
      "num acquisition: 125, time elapsed: 669.82s\n",
      "num acquisition: 126, time elapsed: 674.00s\n",
      "num acquisition: 127, time elapsed: 682.69s\n",
      "num acquisition: 128, time elapsed: 686.98s\n",
      "num acquisition: 129, time elapsed: 691.10s\n",
      "num acquisition: 130, time elapsed: 695.34s\n",
      "num acquisition: 131, time elapsed: 703.18s\n",
      "num acquisition: 132, time elapsed: 710.63s\n",
      "num acquisition: 133, time elapsed: 714.72s\n",
      "num acquisition: 134, time elapsed: 722.84s\n",
      "num acquisition: 135, time elapsed: 731.01s\n",
      "num acquisition: 136, time elapsed: 735.19s\n",
      "num acquisition: 137, time elapsed: 739.69s\n",
      "num acquisition: 138, time elapsed: 747.82s\n",
      "num acquisition: 139, time elapsed: 756.25s\n",
      "num acquisition: 140, time elapsed: 761.03s\n",
      "num acquisition: 141, time elapsed: 765.51s\n",
      "num acquisition: 142, time elapsed: 772.67s\n",
      "num acquisition: 143, time elapsed: 777.18s\n",
      "num acquisition: 144, time elapsed: 786.69s\n",
      "num acquisition: 145, time elapsed: 794.69s\n",
      "num acquisition: 146, time elapsed: 798.94s\n",
      "num acquisition: 147, time elapsed: 807.08s\n",
      "num acquisition: 148, time elapsed: 811.59s\n",
      "num acquisition: 149, time elapsed: 819.22s\n",
      "Model Saved, num acquisition 150\n",
      "num acquisition: 150, time elapsed: 823.76s\n",
      "num acquisition: 151, time elapsed: 831.84s\n",
      "num acquisition: 152, time elapsed: 839.33s\n",
      "num acquisition: 153, time elapsed: 847.30s\n",
      "num acquisition: 154, time elapsed: 852.50s\n",
      "num acquisition: 155, time elapsed: 861.10s\n",
      "num acquisition: 156, time elapsed: 869.29s\n",
      "num acquisition: 157, time elapsed: 877.72s\n",
      "num acquisition: 158, time elapsed: 883.05s\n",
      "num acquisition: 159, time elapsed: 891.07s\n",
      "num acquisition: 160, time elapsed: 899.51s\n",
      "num acquisition: 161, time elapsed: 904.96s\n",
      "num acquisition: 162, time elapsed: 909.69s\n",
      "num acquisition: 163, time elapsed: 918.14s\n",
      "num acquisition: 164, time elapsed: 923.72s\n",
      "num acquisition: 165, time elapsed: 932.62s\n",
      "num acquisition: 166, time elapsed: 942.48s\n",
      "num acquisition: 167, time elapsed: 951.90s\n",
      "num acquisition: 168, time elapsed: 959.17s\n",
      "num acquisition: 169, time elapsed: 969.60s\n",
      "num acquisition: 170, time elapsed: 978.99s\n",
      "num acquisition: 171, time elapsed: 985.25s\n",
      "num acquisition: 172, time elapsed: 994.45s\n",
      "num acquisition: 173, time elapsed: 999.69s\n",
      "num acquisition: 174, time elapsed: 1007.97s\n",
      "Model Saved, num acquisition 175\n",
      "num acquisition: 175, time elapsed: 1016.98s\n",
      "num acquisition: 176, time elapsed: 1022.51s\n",
      "num acquisition: 177, time elapsed: 1028.06s\n",
      "num acquisition: 178, time elapsed: 1036.00s\n",
      "num acquisition: 179, time elapsed: 1040.94s\n",
      "num acquisition: 180, time elapsed: 1049.66s\n",
      "num acquisition: 181, time elapsed: 1058.45s\n",
      "num acquisition: 182, time elapsed: 1064.01s\n",
      "num acquisition: 183, time elapsed: 1069.55s\n",
      "num acquisition: 184, time elapsed: 1076.58s\n",
      "num acquisition: 185, time elapsed: 1082.45s\n",
      "num acquisition: 186, time elapsed: 1092.69s\n",
      "num acquisition: 187, time elapsed: 1101.86s\n",
      "num acquisition: 188, time elapsed: 1111.79s\n",
      "num acquisition: 189, time elapsed: 1120.46s\n",
      "num acquisition: 190, time elapsed: 1128.93s\n",
      "num acquisition: 191, time elapsed: 1137.13s\n",
      "num acquisition: 192, time elapsed: 1142.78s\n",
      "num acquisition: 193, time elapsed: 1149.41s\n",
      "num acquisition: 194, time elapsed: 1159.64s\n",
      "num acquisition: 195, time elapsed: 1165.32s\n",
      "num acquisition: 196, time elapsed: 1170.93s\n",
      "num acquisition: 197, time elapsed: 1176.70s\n",
      "num acquisition: 198, time elapsed: 1186.22s\n",
      "num acquisition: 199, time elapsed: 1196.32s\n",
      "Model Saved, num acquisition 200\n",
      "num acquisition: 200, time elapsed: 1202.16s\n"
     ]
    },
    {
     "data": {
      "text/plain": [
       "{'25': './42_200_GeneralizabilityGamma4/Bayopt25',\n",
       " '50': './42_200_GeneralizabilityGamma4/Bayopt50',\n",
       " '75': './42_200_GeneralizabilityGamma4/Bayopt75',\n",
       " '100': './42_200_GeneralizabilityGamma4/Bayopt100',\n",
       " '125': './42_200_GeneralizabilityGamma4/Bayopt125',\n",
       " '150': './42_200_GeneralizabilityGamma4/Bayopt150',\n",
       " '175': './42_200_GeneralizabilityGamma4/Bayopt175',\n",
       " '200': './42_200_GeneralizabilityGamma4/Bayopt200'}"
      ]
     },
     "execution_count": 10,
     "metadata": {},
     "output_type": "execute_result"
    }
   ],
   "source": [
    "import os\n",
    "import argparse\n",
    "import numpy as np\n",
    "import pandas as pd\n",
    "from pystorms.scenarios import gamma\n",
    "from GPyOpt.methods import BayesianOptimization\n",
    "\n",
    "\n",
    "# Gamma Scenario for the basins in series\n",
    "def GammaData(actions, CTRL_ASSETS=4):\n",
    "\n",
    "    # Initialize the scenario\n",
    "    env = gamma()\n",
    "    done = False\n",
    "\n",
    "    # Modify the logger function to store depths\n",
    "    env.data_log[\"depthN\"] = {}\n",
    "    for i in np.linspace(1, CTRL_ASSETS, CTRL_ASSETS, dtype=int):\n",
    "        env.data_log[\"depthN\"][str(i)] = []\n",
    "\n",
    "    # Dont log the params from upstream, we donot care about them\n",
    "    for i in np.linspace(CTRL_ASSETS + 1, 11, 11 - CTRL_ASSETS, dtype=int):\n",
    "        del env.data_log[\"flow\"]['O' + str(i)]\n",
    "        del env.data_log[\"flooding\"][str(i)]\n",
    "\n",
    "    # Simulate controlled response\n",
    "    while not done:\n",
    "        done = env.step(actions)\n",
    "\n",
    "    # Return the logged params\n",
    "    return env.data_log\n",
    "\n",
    "\n",
    "# Objective Function\n",
    "def f_loss(x):\n",
    "    # GypOpt uses 2d array\n",
    "    # pystorms requies 1d array\n",
    "    x = x.flatten()\n",
    "\n",
    "    # Simulate the response of control actions\n",
    "    data = GammaData(x)\n",
    "\n",
    "    # Convert to pandas dataframes\n",
    "    depths = pd.DataFrame.from_dict(data[\"depthN\"])\n",
    "    flows = pd.DataFrame.from_dict(data[\"flow\"])\n",
    "    flooding = pd.DataFrame.from_dict(data[\"flooding\"])\n",
    "\n",
    "    # Compute loss - check the performance metric equation in Readme\n",
    "    loss = 0.0\n",
    "\n",
    "    # Flooding loss\n",
    "    for node in flooding.keys():\n",
    "        if flooding[node].sum() > 0.0:\n",
    "            loss += 10 ** 4 * flooding[node].sum()\n",
    "\n",
    "    # Flow deviation\n",
    "    flows = flows.sub(4.0)\n",
    "    flows[flows < 0.0] = 0.0\n",
    "    loss += flows.sum().sum()\n",
    "\n",
    "    # Prevent basins from storing water at the end.\n",
    "    for i in depths.values[-1]:\n",
    "        if i > 0.1:\n",
    "            loss += i * 10 ** 3\n",
    "\n",
    "    return loss\n",
    "\n",
    "# Set the random seed\n",
    "np.random.seed(42)\n",
    "\n",
    "# Set path to save model runs\n",
    "save_path = \"./\" + str(42) + \"_\" + str(200) + \"_GeneralizabilityGamma4\"\n",
    "os.mkdir(save_path)\n",
    "\n",
    "\n",
    "# Create the domain\n",
    "domain = []\n",
    "for i in range(1, 5):\n",
    "    domain.append({\"name\": \"var_\" + str(i), \"type\": \"continuous\", \"domain\": (0.0, 1.0)})\n",
    "\n",
    "\n",
    "myBopt = BayesianOptimization(\n",
    "    f=f_loss, domain=domain,\n",
    "    model_type=\"GP\",\n",
    "    acquisition_type=\"EI\",\n",
    ")\n",
    "\n",
    "myBopt.run_optimization(\n",
    "    save_path,\n",
    "    report_file=save_path + \"_report.txt\",\n",
    "    max_iter=200,\n",
    "    save_inter_models=True,\n",
    "    intervals=25,\n",
    "    verbosity=True,\n",
    "    eps=0.005,\n",
    ")"
   ]
  },
  {
   "cell_type": "code",
   "execution_count": 11,
   "metadata": {},
   "outputs": [
    {
     "data": {
      "text/plain": [
       "array([0.34895609, 1.        , 0.21987084, 0.20640974])"
      ]
     },
     "execution_count": 11,
     "metadata": {},
     "output_type": "execute_result"
    }
   ],
   "source": [
    "myBopt.x_opt"
   ]
  },
  {
   "cell_type": "code",
   "execution_count": 12,
   "metadata": {},
   "outputs": [],
   "source": [
    "env = pystorms.scenarios.gamma()\n",
    "done = False\n",
    "while not done:\n",
    "    done = env.step(myBopt.x_opt)"
   ]
  },
  {
   "cell_type": "code",
   "execution_count": 13,
   "metadata": {},
   "outputs": [
    {
     "data": {
      "text/plain": [
       "402895865.4322442"
      ]
     },
     "execution_count": 13,
     "metadata": {},
     "output_type": "execute_result"
    }
   ],
   "source": [
    "env.performance()"
   ]
  },
  {
   "cell_type": "code",
   "execution_count": 16,
   "metadata": {},
   "outputs": [
    {
     "data": {
      "text/plain": [
       "[<matplotlib.lines.Line2D at 0x12d71d990>]"
      ]
     },
     "execution_count": 16,
     "metadata": {},
     "output_type": "execute_result"
    },
    {
     "data": {
      "image/png": "[encoded data removed]",
      "text/plain": [
       "<Figure size 432x288 with 1 Axes>"
      ]
     },
     "metadata": {
      "needs_background": "light"
     },
     "output_type": "display_data"
    }
   ],
   "source": [
    "plt.plot(env.data_log[\"flow\"][\"O1\"])\n",
    "plt.plot(env.data_log[\"flow\"][\"O2\"])\n",
    "plt.plot(env.data_log[\"flow\"][\"O3\"])\n",
    "plt.plot(env.data_log[\"flow\"][\"O4\"])"
   ]
  },
  {
   "cell_type": "code",
   "execution_count": null,
   "metadata": {},
   "outputs": [],
   "source": []
  }
 ],
 "metadata": {
  "kernelspec": {
   "display_name": "Python 3",
   "language": "python",
   "name": "python3"
  },
  "language_info": {
   "codemirror_mode": {
    "name": "ipython",
    "version": 3
   },
   "file_extension": ".py",
   "mimetype": "text/x-python",
   "name": "python",
   "nbconvert_exporter": "python",
   "pygments_lexer": "ipython3",
   "version": "3.7.7"
  }
 },
 "nbformat": 4,
 "nbformat_minor": 4
}
