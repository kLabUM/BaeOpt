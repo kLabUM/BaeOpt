{
 "cells": [
  {
   "cell_type": "markdown",
   "metadata": {},
   "source": [
    "# Scalabilty: Convergence\n",
    "\n",
    "Understand the ability of the algorithm to converge onto a solution, as the number of control point increase. Given that there is some inherent randomness in the approach, this is evaluated across random seeds. "
   ]
  },
  {
   "cell_type": "code",
   "execution_count": 1,
   "metadata": {},
   "outputs": [],
   "source": [
    "import os\n",
    "import re\n",
    "import glob\n",
    "import numpy as np\n",
    "import pandas as pd\n",
    "import seaborn as sns\n",
    "import matplotlib.pyplot as plt\n",
    "from pystorms.scenarios import gamma"
   ]
  },
  {
   "cell_type": "markdown",
   "metadata": {},
   "source": [
    "## Extract simulation metrics"
   ]
  },
  {
   "cell_type": "code",
   "execution_count": null,
   "metadata": {},
   "outputs": [],
   "source": [
    "def extract_performance(path=\".\",\n",
    "                        seed=None,\n",
    "                        controller=None):\n",
    "    \n",
    "    metrics = {\"time\": [],\n",
    "               \"performance\": [],\n",
    "               \"control_points\": [],\n",
    "               \"iterations\": [],\n",
    "               'completed': [],\n",
    "               'seed':[]}\n",
    "    \n",
    "    if controller==None:\n",
    "        if seed is None:\n",
    "            reports = glob.glob(path + \"/*_Scalability_report.txt\")\n",
    "        else:\n",
    "            reports = glob.glob(path + str(seed) +\"_*_Scalability_report.txt\")\n",
    "    else:\n",
    "        if seed is None:\n",
    "            reports = glob.glob(path + \"/*?[_\" + str(controller) + \"_]_Scalability_report.txt\")\n",
    "        else:\n",
    "            reports = glob.glob(path + str(seed) +\"_\" + str(controller) + \"_Scalability_report.txt\")\n",
    "            \n",
    "            \n",
    "    # parse them to find the compute time and performance for each controller\n",
    "    for file in reports:\n",
    "        if seed is None:\n",
    "            metrics[\"seed\"].append(int(re.search(r\"\\d+\\.?\\d*\", file).__getitem__(0)))\n",
    "        \n",
    "        metrics[\"control_points\"].append(int(re.findall(r\"\\_(\\d+)\\_\", file)[0]))\n",
    "            \n",
    "        # open the file\n",
    "        with open(file, \"r\") as f:\n",
    "            content = f.readlines()\n",
    "        for line in content:\n",
    "            # if line has optimization time, extract time and append it to array\n",
    "            if bool(re.match(r\"Optimization time:\", line)):\n",
    "                metrics[\"time\"].append(\n",
    "                    float(re.search(r\"\\d+\\.?\\d*\", line).__getitem__(0)) / 60.0\n",
    "                )\n",
    "            # if line has performance\n",
    "            if bool(re.match(r\"Value at minimum:\", line)):\n",
    "                metrics[\"performance\"].append(\n",
    "                    float(re.search(r\"\\d+\\.?\\d*\", line).__getitem__(0))\n",
    "                )\n",
    "                        # if line has performance\n",
    "            if bool(re.match(r\"Optimization completed:\", line)):\n",
    "                metrics[\"iterations\"].append(\n",
    "                    float(re.search(r\"\\d+\\.?\\d*\", line).__getitem__(0))\n",
    "                )\n",
    "                idic_yes = re.search(r'\\bYES\\b', line)\n",
    "                if (idic_yes != None):\n",
    "                    metrics[\"completed\"].append(1)\n",
    "                else:\n",
    "                    metrics[\"completed\"].append(0)\n",
    "                    \n",
    "    return metrics"
   ]
  },
  {
   "cell_type": "code",
   "execution_count": 10,
   "metadata": {},
   "outputs": [],
   "source": [
    "data ={}\n",
    "for i in range(1, 12):\n",
    "    data[str(i)] = pd.DataFrame(extract_performance(\"./simulation_data/\", controller=i))"
   ]
  },
  {
   "cell_type": "markdown",
   "metadata": {},
   "source": [
    "## Analyze Convergencce Metrics\n",
    "\n",
    "1. Heatmap : Average time till covergence\n",
    "    * x - number of control points\n",
    "    * z - time in min "
   ]
  },
  {
   "cell_type": "code",
   "execution_count": 18,
   "metadata": {},
   "outputs": [],
   "source": [
    "# Get time till simulation end for each control point\n",
    "data_str = pd.DataFrame(extract_performance(\"./simulation_data/\"))"
   ]
  },
  {
   "cell_type": "code",
   "execution_count": 20,
   "metadata": {},
   "outputs": [
    {
     "data": {
      "text/plain": [
       "<matplotlib.axes._subplots.AxesSubplot at 0x1262edd90>"
      ]
     },
     "execution_count": 20,
     "metadata": {},
     "output_type": "execute_result"
    },
    {
     "data": {
      "image/png": "[encoded data removed]",
      "text/plain": [
       "<Figure size 432x288 with 1 Axes>"
      ]
     },
     "metadata": {
      "needs_background": "light"
     },
     "output_type": "display_data"
    }
   ],
   "source": [
    "sns.boxplot(x=data_str['control_points'], y=data_str['time'])"
   ]
  },
  {
   "cell_type": "code",
   "execution_count": 22,
   "metadata": {},
   "outputs": [
    {
     "data": {
      "text/plain": [
       "<matplotlib.axes._subplots.AxesSubplot at 0x126a68750>"
      ]
     },
     "execution_count": 22,
     "metadata": {},
     "output_type": "execute_result"
    },
    {
     "data": {
      "image/png": "[encoded data removed]",
      "text/plain": [
       "<Figure size 432x288 with 1 Axes>"
      ]
     },
     "metadata": {
      "needs_background": "light"
     },
     "output_type": "display_data"
    }
   ],
   "source": [
    "sns.boxplot(x=data_str['control_points'], y=data_str['iterations'])"
   ]
  },
  {
   "cell_type": "code",
   "execution_count": null,
   "metadata": {},
   "outputs": [],
   "source": []
  }
 ],
 "metadata": {
  "kernelspec": {
   "display_name": "Python 3",
   "language": "python",
   "name": "python3"
  },
  "language_info": {
   "codemirror_mode": {
    "name": "ipython",
    "version": 3
   },
   "file_extension": ".py",
   "mimetype": "text/x-python",
   "name": "python",
   "nbconvert_exporter": "python",
   "pygments_lexer": "ipython3",
   "version": "3.7.7"
  }
 },
 "nbformat": 4,
 "nbformat_minor": 4
}
