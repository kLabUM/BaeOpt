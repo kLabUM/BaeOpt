{
 "cells": [
  {
   "cell_type": "markdown",
   "metadata": {},
   "source": [
    "# Gaussian Processes"
   ]
  },
  {
   "cell_type": "markdown",
   "metadata": {},
   "source": [
    "`jax` implementation of gaussian porcess and hyperparameter optimization."
   ]
  },
  {
   "cell_type": "code",
   "execution_count": 8,
   "metadata": {},
   "outputs": [],
   "source": [
    "import jax.numpy as np\n",
    "from jax import grad, jit, vmap\n",
    "import jax.scipy as scipy\n",
    "from jax import random\n",
    "import jax.ops as ops\n",
    "import matplotlib.pyplot as plt\n",
    "import seaborn\n",
    "import numpy as npy\n",
    "plt.style.use('seaborn-notebook')\n",
    "key = random.PRNGKey(0)"
   ]
  },
  {
   "cell_type": "markdown",
   "metadata": {},
   "source": [
    "## Generate RAW data to sample"
   ]
  },
  {
   "cell_type": "code",
   "execution_count": 9,
   "metadata": {},
   "outputs": [],
   "source": [
    "def f(x):\n",
    "    y = 0.80 * x + npy.random.normal(0.0, 1.0)\n",
    "    return y"
   ]
  },
  {
   "cell_type": "code",
   "execution_count": 10,
   "metadata": {},
   "outputs": [],
   "source": [
    "# Vectorize function\n",
    "f = npy.vectorize(f)"
   ]
  },
  {
   "cell_type": "code",
   "execution_count": 52,
   "metadata": {},
   "outputs": [],
   "source": [
    "x_train = npy.linspace(0, 10, 50)\n",
    "y_train = f(x_train)"
   ]
  },
  {
   "cell_type": "code",
   "execution_count": 53,
   "metadata": {},
   "outputs": [
    {
     "data": {
      "text/plain": [
       "<matplotlib.legend.Legend at 0x12e46c290>"
      ]
     },
     "execution_count": 53,
     "metadata": {},
     "output_type": "execute_result"
    },
    {
     "data": {
      "image/png": "[encoded data removed]",
      "text/plain": [
       "<Figure size 576x396 with 1 Axes>"
      ]
     },
     "metadata": {
      "needs_background": "light"
     },
     "output_type": "display_data"
    }
   ],
   "source": [
    "plt.plot(x_train, y_train, 'o', label=\"Training data\")\n",
    "plt.legend()"
   ]
  },
  {
   "cell_type": "code",
   "execution_count": 14,
   "metadata": {},
   "outputs": [],
   "source": [
    "x_test = npy.random.choice(npy.linspace(0, 10, 100), 5)\n",
    "y_test = f(x_test)"
   ]
  },
  {
   "cell_type": "markdown",
   "metadata": {},
   "source": [
    "## Kernel\n",
    "\n",
    "**Definition**: A kernel is a positive definite function of two inputs ($x_p$, $x_q$). These inputs are often vectors. \n",
    "\n",
    "$$ Cov[f(x_p), f(x_q)] = k(x_p, x_q) $$\n",
    "\n",
    "Basically, kernels are a way for mapping the similarity between two data-points, and using these kernels we can customize how similarity between two data points is considered in a algorithm.\n",
    "\n",
    "### Example:\n",
    "\n",
    "Let us say we have sets of data-points, $X_{N \\times D}$ and $Y_{P \\times D}$. Where $D$ is the dimention of a data-point and $N,P$ is the number of data-points. Hence, when we are compute the covariance matrix between these data sets, it will have the dimention of  $N \\times D$."
   ]
  },
  {
   "cell_type": "code",
   "execution_count": 15,
   "metadata": {},
   "outputs": [],
   "source": [
    "def squared_exponential(xp, xq):\n",
    "    # Ensure these are one dimentional vectors\n",
    "    x = xp - xq\n",
    "    return np.exp(-0.5*np.dot(x, x.T))"
   ]
  },
  {
   "cell_type": "code",
   "execution_count": 16,
   "metadata": {},
   "outputs": [],
   "source": [
    "def K(kernel_function, x, xs=None):\n",
    "    if xs is None:\n",
    "        return vmap(lambda x:vmap(lambda y: kernel_function(x, y))(x))(x)\n",
    "    else:\n",
    "        return vmap(lambda xp: vmap(lambda xq: squared_exponential(xp, xq))(xs))(x)"
   ]
  },
  {
   "cell_type": "markdown",
   "metadata": {},
   "source": [
    "Check if the function is computing the kernel right."
   ]
  },
  {
   "cell_type": "code",
   "execution_count": 17,
   "metadata": {},
   "outputs": [],
   "source": [
    "def K_test(kernel, x, xs):\n",
    "    k = np.zeros((x.shape[0], xs.shape[0])) # Number of elements in both both arrays\n",
    "    for i in range(0, x.shape[0]):\n",
    "        for j in range(0, xs.shape[0]):\n",
    "            k = ops.index_update(k, ops.index[i,j], kernel(x[i], xs[j]))\n",
    "    kn = K(kernel, x, xs)\n",
    "    return k, kn"
   ]
  },
  {
   "cell_type": "code",
   "execution_count": 18,
   "metadata": {},
   "outputs": [],
   "source": [
    "x = np.ones((2,5)) *0.5\n",
    "xs = np.ones((3,5))\n",
    "k, kjax = K_test(squared_exponential, x, x)"
   ]
  },
  {
   "cell_type": "code",
   "execution_count": 19,
   "metadata": {},
   "outputs": [
    {
     "data": {
      "text/plain": [
       "DeviceArray([[1., 1.],\n",
       "             [1., 1.]], dtype=float32)"
      ]
     },
     "execution_count": 19,
     "metadata": {},
     "output_type": "execute_result"
    }
   ],
   "source": [
    "k"
   ]
  },
  {
   "cell_type": "code",
   "execution_count": 20,
   "metadata": {},
   "outputs": [
    {
     "data": {
      "text/plain": [
       "DeviceArray([[1., 1.],\n",
       "             [1., 1.]], dtype=float32)"
      ]
     },
     "execution_count": 20,
     "metadata": {},
     "output_type": "execute_result"
    }
   ],
   "source": [
    "kjax"
   ]
  },
  {
   "cell_type": "markdown",
   "metadata": {},
   "source": [
    "Nice !! looks like the kernel is right. "
   ]
  },
  {
   "cell_type": "markdown",
   "metadata": {},
   "source": [
    "## GP Regression"
   ]
  },
  {
   "cell_type": "markdown",
   "metadata": {},
   "source": [
    "Now that the kernel looks right. Lets head over to GPs."
   ]
  },
  {
   "cell_type": "code",
   "execution_count": 21,
   "metadata": {},
   "outputs": [],
   "source": [
    "Kst = K(squared_exponential, x_test, x_train)\n",
    "Ktt = K(squared_exponential, x_train, x_train) + np.eye(x_train.shape[0]) * 0.1\n",
    "Kts = K(squared_exponential, x_train, x_test)\n",
    "Kss = K(squared_exponential, x_test, x_test)"
   ]
  },
  {
   "cell_type": "code",
   "execution_count": 22,
   "metadata": {},
   "outputs": [],
   "source": [
    "mu = np.dot(np.dot(Kst, np.linalg.inv(Ktt)), y_train)"
   ]
  },
  {
   "cell_type": "code",
   "execution_count": 23,
   "metadata": {},
   "outputs": [],
   "source": [
    "Ktt_inv = np.linalg.inv(Ktt)\n",
    "var = Kss - np.dot(np.dot(Kst, Ktt_inv), Kts)"
   ]
  },
  {
   "cell_type": "code",
   "execution_count": 24,
   "metadata": {},
   "outputs": [
    {
     "data": {
      "text/plain": [
       "DeviceArray([0.21219178, 0.21235168, 0.21725114, 0.21214668, 0.21215525],            dtype=float32)"
      ]
     },
     "execution_count": 24,
     "metadata": {},
     "output_type": "execute_result"
    }
   ],
   "source": [
    "np.sqrt(np.diag(var))"
   ]
  },
  {
   "cell_type": "markdown",
   "metadata": {},
   "source": [
    "Looks like I need to add noise to get them to work. "
   ]
  },
  {
   "cell_type": "code",
   "execution_count": 25,
   "metadata": {},
   "outputs": [],
   "source": [
    "x_test_new = np.linspace(0, 10, 100)"
   ]
  },
  {
   "cell_type": "code",
   "execution_count": 72,
   "metadata": {},
   "outputs": [],
   "source": [
    "Kst = K(squared_exponential, x_test_new, x_train)\n",
    "Ktt = K(squared_exponential, x_train, x_train) + np.eye(x_train.shape[0]) * 0.20\n",
    "Kts = K(squared_exponential, x_train, x_test_new)\n",
    "Kss = K(squared_exponential, x_test_new, x_test_new)\n",
    "mu = np.dot(np.dot(Kst, np.linalg.inv(Ktt)), y_train)\n",
    "Ktt_inv = np.linalg.inv(Ktt)\n",
    "var = Kss - np.dot(np.dot(Kst, Ktt_inv), Kts)\n",
    "std = np.sqrt(np.diag(var))"
   ]
  },
  {
   "cell_type": "code",
   "execution_count": 73,
   "metadata": {},
   "outputs": [
    {
     "data": {
      "text/plain": [
       "[<matplotlib.lines.Line2D at 0x12f343e10>]"
      ]
     },
     "execution_count": 73,
     "metadata": {},
     "output_type": "execute_result"
    },
    {
     "data": {
      "image/png": "[encoded data removed]",
      "text/plain": [
       "<Figure size 576x396 with 1 Axes>"
      ]
     },
     "metadata": {
      "needs_background": "light"
     },
     "output_type": "display_data"
    }
   ],
   "source": [
    "plt.plot(x_test_new, mu)\n",
    "plt.fill_between(x_test_new, mu + 1.96*std, mu - 1.96*std, alpha=0.5)\n",
    "plt.plot(x_train, y_train, 'o')"
   ]
  },
  {
   "cell_type": "markdown",
   "metadata": {},
   "source": [
    "When there is IID noise in the inputs, we need a new kernel to learn that noise level. A simple squared exponential kernel might not be sufficient. Once we figure out how to tune hyperparameters, we will get back to finding the kernel design"
   ]
  },
  {
   "cell_type": "markdown",
   "metadata": {},
   "source": [
    "## Hyperparamerter Tuning"
   ]
  },
  {
   "cell_type": "code",
   "execution_count": 74,
   "metadata": {},
   "outputs": [],
   "source": [
    "def mlk(x, y, z):\n",
    "    return 10*x+20*y+30*z"
   ]
  },
  {
   "cell_type": "code",
   "execution_count": 75,
   "metadata": {},
   "outputs": [],
   "source": [
    "der = grad(mlk)"
   ]
  },
  {
   "cell_type": "code",
   "execution_count": 79,
   "metadata": {},
   "outputs": [
    {
     "data": {
      "text/plain": [
       "DeviceArray(10., dtype=float32)"
      ]
     },
     "execution_count": 79,
     "metadata": {},
     "output_type": "execute_result"
    }
   ],
   "source": [
    "der(1.0, 1.0, 2.0)"
   ]
  },
  {
   "cell_type": "code",
   "execution_count": null,
   "metadata": {},
   "outputs": [],
   "source": []
  }
 ],
 "metadata": {
  "kernelspec": {
   "display_name": "Python 3",
   "language": "python",
   "name": "python3"
  },
  "language_info": {
   "codemirror_mode": {
    "name": "ipython",
    "version": 3
   },
   "file_extension": ".py",
   "mimetype": "text/x-python",
   "name": "python",
   "nbconvert_exporter": "python",
   "pygments_lexer": "ipython3",
   "version": "3.7.6"
  }
 },
 "nbformat": 4,
 "nbformat_minor": 4
}
