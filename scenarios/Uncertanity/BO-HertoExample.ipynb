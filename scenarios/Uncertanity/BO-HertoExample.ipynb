{
 "cells": [
  {
   "cell_type": "code",
   "execution_count": 10,
   "metadata": {},
   "outputs": [],
   "source": [
    "import numpy as np\n",
    "import matplotlib.pyplot as plt\n",
    "import GPy\n",
    "import baestorm\n",
    "import numpy as np\n",
    "import pandas as pd\n",
    "import seaborn as sns\n",
    "import matplotlib.pyplot as plt\n",
    "from pyswmm_lite import environment\n",
    "from GPyOpt.methods import BayesianOptimization\n",
    "import copy\n",
    "import GPyOpt\n",
    "import sklearn.preprocessing"
   ]
  },
  {
   "cell_type": "code",
   "execution_count": 11,
   "metadata": {},
   "outputs": [],
   "source": [
    "def gaussian_flows(x, mu=0.0, sigma=1.0):\n",
    "    y = (1.0/(sigma*(np.sqrt(2.0*np.pi)))) * np.exp(-0.5*((x-mu)/sigma)**2)\n",
    "    return y\n",
    "gaussian_flows = np.vectorize(gaussian_flows)"
   ]
  },
  {
   "cell_type": "code",
   "execution_count": 12,
   "metadata": {},
   "outputs": [],
   "source": [
    "means = [0.0]#, -0.1, -0.2, 0.1, 0.2]\n",
    "sigma = [1.0, 2.0, 0.5, 0.3]\n",
    "\n",
    "inflows = {}\n",
    "count = 0\n",
    "for mu in means:\n",
    "    for sig in sigma:\n",
    "        inflows[str(count)] = gaussian_flows(np.linspace(-5.0, 5.0, 1000), mu, sig)\n",
    "        count += 1\n",
    "inflows = pd.DataFrame.from_dict(inflows)"
   ]
  },
  {
   "cell_type": "code",
   "execution_count": null,
   "metadata": {},
   "outputs": [],
   "source": []
  },
  {
   "cell_type": "code",
   "execution_count": 13,
   "metadata": {},
   "outputs": [],
   "source": [
    "def single_basin(actions, flows):\n",
    "    env = environment(baestorm.load_networks(\"parallel\"), False)\n",
    "\n",
    "    data = {}\n",
    "    data[\"outflow\"] = []\n",
    "    data[\"overflow\"] = []\n",
    "    \n",
    "    # pad inflows, so that the systems receds\n",
    "    flows = np.append(flows, np.zeros(500))\n",
    "    \n",
    "    for time in range(0, len(flows)):\n",
    "        # set the gate_position\n",
    "        env._setValvePosition(\"1\", actions)\n",
    "\n",
    "        env.sim._model.setNodeInflow(\"P1\", 3 * flows[time])\n",
    "        env.sim._model.setNodeInflow(\"P2\", 0.0)\n",
    "\n",
    "        # record_data\n",
    "        data[\"outflow\"].append(env._getLinkFlow(\"1\"))\n",
    "        data[\"overflow\"].append(env.sim._model.getNodeResult(\"P1\", 4))\n",
    "\n",
    "        # step through simulation\n",
    "        _ = env.step()\n",
    "\n",
    "    return data[\"outflow\"], sum(data[\"overflow\"])"
   ]
  },
  {
   "cell_type": "code",
   "execution_count": 23,
   "metadata": {},
   "outputs": [],
   "source": [
    "def objective_function(x):\n",
    "    valves = x[0][0]\n",
    "    # Sample a random inflow\n",
    "    temp_1 = np.random.choice(np.linspace(0, inflows.shape[1]-1, inflows.shape[1], dtype=int))\n",
    "    # Simulate and generate flow transformations \n",
    "    flows, overflows = single_basin(valves, inflows[str(temp_1)].values)\n",
    "    # Convert to pandas series for ease of ops\n",
    "    flows = pd.Series(flows)\n",
    "    overflows = pd.Series(overflows)\n",
    "    # Compute performance\n",
    "    reward = 0.0\n",
    "    overflows = overflows.gt(0.0).any()\n",
    "    if overflows:\n",
    "        reward += 10**3\n",
    "    flows = flows.sub(1.5)\n",
    "    flows[flows < 0.0] = 0.0\n",
    "    reward += flows.sum()\n",
    "    return reward\n",
    "\n",
    "# Set the random seed\n",
    "np.random.seed(42)\n",
    "\n",
    "# Create an objective function\n",
    "class Objective:\n",
    "    def f(self, x):\n",
    "        return objective_function(x)\n",
    "\n",
    "# Initalize the objective\n",
    "Obj_temp = Objective()\n",
    "Obj_temp = GPyOpt.core.task.SingleObjective(Obj_temp.f)\n",
    "\n",
    "# Create Search Space\n",
    "Search_Space = GPyOpt.Design_space(space=[{\"name\": \"var_1\", \"type\": \"continuous\", \"domain\": (0.0, 1.0)}])\n",
    "# Pick a kernel\n",
    "kernel = GPy.kern.RBF(input_dim=1) + GPy.kern.White(input_dim=1)\n",
    "# Set up the model\n",
    "model = GPyOpt.models.GPModel(kernel=kernel,\n",
    "                              noise_var=0.0,\n",
    "                              optimize_restarts=5,\n",
    "                              verbose=False)\n",
    "\n",
    "# How do you sample the region\n",
    "initial_design = GPyOpt.experiment_design.initial_design(\"random\",\n",
    "                                                         Search_Space,\n",
    "                                                         5)\n",
    "\n",
    "# Choose the acquision function\n",
    "acq_optimizer = GPyOpt.optimization.AcquisitionOptimizer(Search_Space)\n",
    "acquisition = GPyOpt.acquisitions.AcquisitionEI(model,\n",
    "                                                Search_Space,\n",
    "                                                acq_optimizer)\n",
    "\n",
    "evaluator = GPyOpt.core.evaluators.Sequential(acquisition)\n",
    "\n",
    "bo = GPyOpt.methods.ModularBayesianOptimization(model,\n",
    "                                                Search_Space,\n",
    "                                                Obj_temp,\n",
    "                                                acquisition,\n",
    "                                                evaluator,\n",
    "                                                initial_design)\n",
    "\n",
    "log = bo.run_optimization(\n",
    "    \"./ckpts-uncertain_inital_test/\",\n",
    "    max_iter=50,\n",
    "    save_inter_models=False,\n",
    "    intervals=100)"
   ]
  },
  {
   "cell_type": "code",
   "execution_count": 7,
   "metadata": {},
   "outputs": [
    {
     "data": {
      "text/html": [
       "<style type=\"text/css\">\n",
       ".tg  {font-family:\"Courier New\", Courier, monospace !important;padding:2px 3px;word-break:normal;border-collapse:collapse;border-spacing:0;border-color:#DCDCDC;margin:0px auto;width:100%;}\n",
       ".tg td{font-family:\"Courier New\", Courier, monospace !important;font-weight:bold;color:#444;background-color:#F7FDFA;border-style:solid;border-width:1px;overflow:hidden;word-break:normal;border-color:#DCDCDC;}\n",
       ".tg th{font-family:\"Courier New\", Courier, monospace !important;font-weight:normal;color:#fff;background-color:#26ADE4;border-style:solid;border-width:1px;overflow:hidden;word-break:normal;border-color:#DCDCDC;}\n",
       ".tg .tg-left{font-family:\"Courier New\", Courier, monospace !important;font-weight:normal;text-align:left;}\n",
       ".tg .tg-center{font-family:\"Courier New\", Courier, monospace !important;font-weight:normal;text-align:center;}\n",
       ".tg .tg-right{font-family:\"Courier New\", Courier, monospace !important;font-weight:normal;text-align:right;}\n",
       "</style>\n",
       "<table class=\"tg\"><tr><th><b>  rbf.       </b></th><th><b>              value</b></th><th><b>constraints</b></th><th><b>priors</b></th></tr>\n",
       "<tr><td class=tg-left>  variance   </td><td class=tg-right> 1856.5015245688899</td><td class=tg-center>    +ve    </td><td class=tg-center>      </td></tr>\n",
       "<tr><td class=tg-left>  lengthscale</td><td class=tg-right>0.07386583340589097</td><td class=tg-center>    +ve    </td><td class=tg-center>      </td></tr>\n",
       "</table>"
      ],
      "text/plain": [
       "<GPy.kern.src.rbf.RBF at 0x12b89e510>"
      ]
     },
     "execution_count": 7,
     "metadata": {},
     "output_type": "execute_result"
    }
   ],
   "source": [
    "bo.model.model.kern.rbf"
   ]
  },
  {
   "cell_type": "code",
   "execution_count": 8,
   "metadata": {},
   "outputs": [],
   "source": [
    "def plot_acquisition(axis, model):\n",
    "    bounds = model.acquisition.space.get_bounds()\n",
    "\n",
    "    x_grid = np.arange(bounds[0][0], bounds[0][1], 0.001)\n",
    "    x_grid = x_grid.reshape(len(x_grid), 1)\n",
    "    # acqu = model.acquisition.acquisition_function(x_grid)\n",
    "    # acqu_normalized = (-acqu - min(-acqu)) / (max(-acqu - min(-acqu)))\n",
    "    m, v = model.model.predict(x_grid)\n",
    "    factor = max(m + 1.96 * np.sqrt(v)) - min(m - 1.96 * np.sqrt(v))\n",
    "    axis.plot(x_grid, m, color=\"#D5313E\", lw=2.0)\n",
    "    axis.plot(x_grid, m - 1.96 * np.sqrt(v), color=\"#445792\")\n",
    "    axis.plot(x_grid, m + 1.96 * np.sqrt(v), color=\"#445792\")\n",
    "    axis.fill_between(\n",
    "        np.ravel(x_grid),\n",
    "        np.ravel(m - 1.96 * np.sqrt(v)),\n",
    "        np.ravel(m + 1.96 * np.sqrt(v)),\n",
    "        color=\"#445792\",\n",
    "        alpha=0.5,\n",
    "    )\n",
    "    y = model.Y - model.Y.mean()\n",
    "    y = y / model.Y.std()\n",
    "    axis.scatter(model.X[:-1], y[:-1], color=\"#9F383E\", marker=\"o\")\n",
    "\n",
    "    axis.set_xlabel(\"Valve Setting\")\n",
    "    axis.set_ylabel(\"Objective\")\n",
    "    axis.set_ylim(\n",
    "        min(m - 1.96 * np.sqrt(v)) - 0.25 * factor,\n",
    "        max(m + 1.96 * np.sqrt(v)) + 0.05 * factor,\n",
    "    )"
   ]
  },
  {
   "cell_type": "code",
   "execution_count": 9,
   "metadata": {},
   "outputs": [
    {
     "data": {
      "image/png": "[encoded data removed]",
      "text/plain": [
       "<Figure size 432x288 with 1 Axes>"
      ]
     },
     "metadata": {
      "needs_background": "light"
     },
     "output_type": "display_data"
    }
   ],
   "source": [
    "ax = plt.subplot(1,1,1)\n",
    "plot_acquisition(ax, bo)"
   ]
  },
  {
   "cell_type": "code",
   "execution_count": 13,
   "metadata": {},
   "outputs": [
    {
     "name": "stdout",
     "output_type": "stream",
     "text": [
      "Optimization restart 1/10, f = 347.76650665746405\n",
      "Optimization restart 2/10, f = 347.76651911566944\n",
      "Optimization restart 3/10, f = 347.766883860924\n",
      "Optimization restart 4/10, f = 347.7665026450487\n",
      "Optimization restart 5/10, f = 347.7665162586835\n",
      "Optimization restart 6/10, f = 347.76654794429464\n",
      "Optimization restart 7/10, f = 347.7666010054268\n",
      "Optimization restart 8/10, f = 347.7665657829417\n",
      "Optimization restart 9/10, f = 347.7671051542999\n",
      "Optimization restart 10/10, f = 347.76651808402517\n"
     ]
    }
   ],
   "source": [
    "x = bo.X\n",
    "y = bo.Y\n",
    "kernel1 = GPy.kern.RBF(input_dim=1) + GPy.kern.White(input_dim=1)\n",
    "gp1 = GPy.models.GPRegression(x,y.reshape(-1,1),kernel1)\n",
    "gp1.optimize(messages=False)\n",
    "gp1.optimize_restarts(num_restarts = 10)\n",
    "var_pref = np.zeros((x.shape[0],1))"
   ]
  },
  {
   "cell_type": "code",
   "execution_count": 14,
   "metadata": {},
   "outputs": [],
   "source": [
    "eps = np.inf\n",
    "iterations = 0\n",
    "\n",
    "m, v = gp1.predict(x)\n",
    "s = 10\n",
    "variance_noise = np.zeros(len(x))\n",
    "for j in range(0, len(x)):\n",
    "    var = 0.0\n",
    "    for i in range(0, s):\n",
    "        var += 0.5 * (y[j] - np.random.normal(m[j], v[j]))**2\n",
    "    variance_noise[j] = var/s\n",
    "z = np.log(variance_noise)"
   ]
  },
  {
   "cell_type": "code",
   "execution_count": 15,
   "metadata": {},
   "outputs": [
    {
     "data": {
      "text/plain": [
       "[<matplotlib.lines.Line2D at 0x12c000b10>]"
      ]
     },
     "execution_count": 15,
     "metadata": {},
     "output_type": "execute_result"
    },
    {
     "data": {
      "image/png": "[encoded data removed]",
      "text/plain": [
       "<Figure size 432x288 with 1 Axes>"
      ]
     },
     "metadata": {
      "needs_background": "light"
     },
     "output_type": "display_data"
    }
   ],
   "source": [
    "plt.plot(x, z,'o')"
   ]
  },
  {
   "cell_type": "code",
   "execution_count": 16,
   "metadata": {},
   "outputs": [
    {
     "name": "stdout",
     "output_type": "stream",
     "text": [
      "Optimization restart 1/10, f = 43.277438014864686\n",
      "Optimization restart 2/10, f = 43.27744105548901\n",
      "Optimization restart 3/10, f = 43.27749407114582\n",
      "Optimization restart 4/10, f = 43.27747283234583\n",
      "Optimization restart 5/10, f = 43.277433937579964\n",
      "Optimization restart 6/10, f = 43.27866122069321\n",
      "Optimization restart 7/10, f = 43.27752543497388\n",
      "Optimization restart 8/10, f = 43.28015278924674\n",
      "Optimization restart 9/10, f = 43.277433843568595\n",
      "Optimization restart 10/10, f = 43.27746455457447\n"
     ]
    }
   ],
   "source": [
    "kernel2 = GPy.kern.RBF(input_dim=1) #+ GPy.kern.White(input_dim=1)\n",
    "gp2 = GPy.models.GPRegression(x,z.reshape(-1,1),kernel2)\n",
    "gp2.optimize(messages=False)\n",
    "gp2.optimize_restarts(num_restarts = 10)\n",
    "m_n, v_n = gp2.predict(x)"
   ]
  },
  {
   "cell_type": "code",
   "execution_count": 17,
   "metadata": {},
   "outputs": [
    {
     "data": {
      "text/plain": [
       "[<matplotlib.lines.Line2D at 0x12c09eb90>]"
      ]
     },
     "execution_count": 17,
     "metadata": {},
     "output_type": "execute_result"
    },
    {
     "data": {
      "image/png": "[encoded data removed]",
      "text/plain": [
       "<Figure size 432x288 with 1 Axes>"
      ]
     },
     "metadata": {
      "needs_background": "light"
     },
     "output_type": "display_data"
    }
   ],
   "source": [
    "plt.plot(x, np.exp(m_n), 'o')"
   ]
  },
  {
   "cell_type": "code",
   "execution_count": 18,
   "metadata": {},
   "outputs": [
    {
     "name": "stdout",
     "output_type": "stream",
     "text": [
      "Optimization restart 1/10, f = -438.38495078779533\n",
      "Optimization restart 2/10, f = -438.51686665478866\n",
      "Optimization restart 3/10, f = -438.5285940059793\n",
      "Optimization restart 4/10, f = -438.46199005530116\n",
      "Optimization restart 5/10, f = -438.2976715976403\n",
      "Optimization restart 6/10, f = -438.3433652587543\n",
      "Optimization restart 7/10, f = -438.6755599740691\n",
      "Optimization restart 8/10, f = -438.4121263194979\n",
      "Optimization restart 9/10, f = -438.43494730611474\n",
      "Optimization restart 10/10, f = -438.36623224684183\n"
     ]
    }
   ],
   "source": [
    "kernel3 = GPy.kern.RBF(input_dim=1) + GPy.kern.WhiteHeteroscedastic(input_dim=1, num_data=x.shape[0])\n",
    "gp3 = GPy.models.GPRegression(x,y.reshape(-1,1),kernel3)\n",
    "gp3.optimize(messages=False)\n",
    "gp3.optimize_restarts(num_restarts = 10)\n",
    "kernel3.parts[1].variance = np.exp(m_n).reshape(x.shape[0])"
   ]
  },
  {
   "cell_type": "code",
   "execution_count": 19,
   "metadata": {},
   "outputs": [
    {
     "name": "stdout",
     "output_type": "stream",
     "text": [
      "6.202931957795446e+17\n"
     ]
    }
   ],
   "source": [
    "m, v = gp3.predict(x)\n",
    "    \n",
    "diff = var_pref - v\n",
    "eps = np.dot(diff.T, diff)[0][0]\n",
    "gp1 = copy.deepcopy(gp3)\n",
    "var_pref = copy.deepcopy(v)\n",
    "print(eps)"
   ]
  },
  {
   "cell_type": "code",
   "execution_count": 20,
   "metadata": {},
   "outputs": [
    {
     "data": {
      "text/plain": [
       "[<matplotlib.lines.Line2D at 0x12c3e8510>]"
      ]
     },
     "execution_count": 20,
     "metadata": {},
     "output_type": "execute_result"
    },
    {
     "data": {
      "image/png": "[encoded data removed]",
      "text/plain": [
       "<Figure size 432x288 with 1 Axes>"
      ]
     },
     "metadata": {
      "needs_background": "light"
     },
     "output_type": "display_data"
    }
   ],
   "source": [
    "plt.plot(x,np.exp(m_n),'o')"
   ]
  },
  {
   "cell_type": "code",
   "execution_count": 21,
   "metadata": {},
   "outputs": [
    {
     "data": {
      "text/plain": [
       "[<matplotlib.lines.Line2D at 0x12c388690>]"
      ]
     },
     "execution_count": 21,
     "metadata": {},
     "output_type": "execute_result"
    },
    {
     "data": {
      "image/png": "[encoded data removed]",
      "text/plain": [
       "<Figure size 432x288 with 1 Axes>"
      ]
     },
     "metadata": {
      "needs_background": "light"
     },
     "output_type": "display_data"
    }
   ],
   "source": [
    "plt.plot(x, m, 'o')"
   ]
  },
  {
   "cell_type": "code",
   "execution_count": null,
   "metadata": {},
   "outputs": [],
   "source": []
  }
 ],
 "metadata": {
  "kernelspec": {
   "display_name": "Python 3",
   "language": "python",
   "name": "python3"
  },
  "language_info": {
   "codemirror_mode": {
    "name": "ipython",
    "version": 3
   },
   "file_extension": ".py",
   "mimetype": "text/x-python",
   "name": "python",
   "nbconvert_exporter": "python",
   "pygments_lexer": "ipython3",
   "version": "3.7.7"
  }
 },
 "nbformat": 4,
 "nbformat_minor": 4
}
