{
 "cells": [
  {
   "cell_type": "code",
   "execution_count": 1,
   "metadata": {},
   "outputs": [],
   "source": [
    "import copy\n",
    "import GPyOpt\n",
    "import GPy\n",
    "import uncertaninity_baestorms as ubay\n",
    "import numpy as np\n",
    "import matplotlib.pyplot as plt\n",
    "import baestorm\n",
    "from pyswmm_lite import environment"
   ]
  },
  {
   "cell_type": "code",
   "execution_count": 2,
   "metadata": {},
   "outputs": [],
   "source": [
    "# Generate Gaussian Flows\n",
    "def GaussianSignal(x, amplitude, timetopeak, dispersion):\n",
    "    flows = (\n",
    "        amplitude\n",
    "        * (1.0 / (dispersion * (np.sqrt(2.0 * np.pi))))\n",
    "        * np.exp(-0.5 * ((x - timetopeak) / dispersion) ** 2)\n",
    "    )\n",
    "    return flows\n",
    "\n",
    "\n",
    "# Objective function\n",
    "def ObjectiveFunction(actions):\n",
    "    # Sample the rainevent\n",
    "    padding_length = 500\n",
    "    temp_x = np.linspace(-10.0, 10.0, 100)\n",
    "\n",
    "    def flows_amp(amp):\n",
    "        return np.pad(\n",
    "            GaussianSignal(temp_x, amp, -2.0, 3.0), (0, padding_length), \"constant\"\n",
    "        )\n",
    "\n",
    "    # Pick a random stormevent - Uniformly Sampled\n",
    "    amplitude = np.random.choice(np.linspace(10.0, 20.0, 100), size=1)\n",
    "    flows = flows_amp(amplitude)\n",
    "    env = environment(baestorm.load_networks(\"parallel\"), False)\n",
    "\n",
    "    reward = 0.0\n",
    "    for time in range(0, len(flows)):\n",
    "        # Set the gata position\n",
    "        env._setValvePosition(\"1\", actions)\n",
    "        #env._setValvePosition(\"2\", actions[1])\n",
    "\n",
    "        # Set inflows\n",
    "        env.sim._model.setNodeInflow(\"P1\", flows[time])\n",
    "        env.sim._model.setNodeInflow(\"P2\", 0.0)#flows[time])\n",
    "\n",
    "        # compute performance\n",
    "        flow = env.methods[\"flow\"](\"8\")\n",
    "        if flow > 0.50:\n",
    "            reward += 10.0 * (flow - 0.50)\n",
    "        else:\n",
    "            reward += 0.0\n",
    "\n",
    "        if (env.sim._model.getNodeResult(\"P1\", 4) + env.sim._model.getNodeResult(\"P2\", 4) > 0.0):\n",
    "            reward += 10 ** 5\n",
    "        else:\n",
    "            reward += 0.0\n",
    "\n",
    "        # Record data\n",
    "        _ = env.step()\n",
    "    env._terminate()\n",
    "    return reward"
   ]
  },
  {
   "cell_type": "code",
   "execution_count": 3,
   "metadata": {},
   "outputs": [],
   "source": [
    "# Create an objective function\n",
    "class Objective:\n",
    "    def f(self, x):\n",
    "        # Convert 2d array to 1d\n",
    "        x = x.flatten()\n",
    "        reward = ObjectiveFunction(x) #ubay.ObjectiveFunction(x)\n",
    "        return reward"
   ]
  },
  {
   "cell_type": "code",
   "execution_count": 4,
   "metadata": {},
   "outputs": [],
   "source": [
    "# Initalize the objective\n",
    "Obj_temp = Objective()\n",
    "Obj_temp = GPyOpt.core.task.SingleObjective(Obj_temp.f)\n",
    "\n",
    "# Create Search Space\n",
    "Search_Space = GPyOpt.Design_space(space=[{\"name\": \"var_1\", \"type\": \"continuous\", \"domain\": (0.0, 1.0)}])\n",
    "# Pick a kernel\n",
    "kernel = GPy.kern.RBF(input_dim=1) + GPy.kern.White(input_dim=1)\n",
    "# Set up the model\n",
    "model = GPyOpt.models.GPModel(kernel=kernel,\n",
    "                              noise_var=0.0,\n",
    "                              optimize_restarts=5,\n",
    "                              verbose=False)\n",
    "\n",
    "# How do you sample the region\n",
    "initial_design = GPyOpt.experiment_design.initial_design(\"random\",\n",
    "                                                         Search_Space,\n",
    "                                                         2)\n",
    "\n",
    "# Choose the acquision function\n",
    "acq_optimizer = GPyOpt.optimization.AcquisitionOptimizer(Search_Space)\n",
    "acquisition = GPyOpt.acquisitions.AcquisitionEI(model,\n",
    "                                                Search_Space,\n",
    "                                                acq_optimizer)\n",
    "\n",
    "evaluator = GPyOpt.core.evaluators.Sequential(acquisition)\n",
    "\n",
    "bo = GPyOpt.methods.ModularBayesianOptimization(model,\n",
    "                                                Search_Space,\n",
    "                                                Obj_temp,\n",
    "                                                acquisition,\n",
    "                                                evaluator,\n",
    "                                                initial_design)\n",
    "\n",
    "max_iter = 100\n",
    "bo.run_optimization(path_to_save=\"./\", max_iter=max_iter)"
   ]
  },
  {
   "cell_type": "code",
   "execution_count": null,
   "metadata": {},
   "outputs": [],
   "source": []
  },
  {
   "cell_type": "code",
   "execution_count": 5,
   "metadata": {},
   "outputs": [],
   "source": [
    "def plot_acquisition(axis, model):\n",
    "    bounds = model.acquisition.space.get_bounds()\n",
    "\n",
    "    x_grid = np.arange(bounds[0][0], bounds[0][1], 0.001)\n",
    "    x_grid = x_grid.reshape(len(x_grid), 1)\n",
    "    # acqu = model.acquisition.acquisition_function(x_grid)\n",
    "    # acqu_normalized = (-acqu - min(-acqu)) / (max(-acqu - min(-acqu)))\n",
    "    m, v = model.model.predict(x_grid)\n",
    "    factor = max(m + 1.96 * np.sqrt(v)) - min(m - 1.96 * np.sqrt(v))\n",
    "    axis.plot(x_grid, m, color=\"#D5313E\", lw=2.0)\n",
    "    axis.plot(x_grid, m - 1.96 * np.sqrt(v), color=\"#445792\")\n",
    "    axis.plot(x_grid, m + 1.96 * np.sqrt(v), color=\"#445792\")\n",
    "    axis.fill_between(\n",
    "        np.ravel(x_grid),\n",
    "        np.ravel(m - 1.96 * np.sqrt(v)),\n",
    "        np.ravel(m + 1.96 * np.sqrt(v)),\n",
    "        color=\"#445792\",\n",
    "        alpha=0.5,\n",
    "    )\n",
    "    y = model.Y - model.Y.mean()\n",
    "    y = y / model.Y.std()\n",
    "    axis.scatter(model.X[:-1], y[:-1], color=\"#9F383E\", marker=\"o\")\n",
    "\n",
    "    axis.set_xlabel(\"Valve Setting\")\n",
    "    axis.set_ylabel(\"Objective\")\n",
    "    axis.set_ylim(\n",
    "        min(m - 1.96 * np.sqrt(v)) - 0.25 * factor,\n",
    "        max(m + 1.96 * np.sqrt(v)) + 0.05 * factor,\n",
    "    )"
   ]
  },
  {
   "cell_type": "code",
   "execution_count": 6,
   "metadata": {},
   "outputs": [
    {
     "data": {
      "image/png": "[encoded data removed]",
      "text/plain": [
       "<Figure size 432x288 with 1 Axes>"
      ]
     },
     "metadata": {
      "needs_background": "light"
     },
     "output_type": "display_data"
    }
   ],
   "source": [
    "ax = plt.subplot(1, 1, 1)\n",
    "plot_acquisition(ax, bo)"
   ]
  },
  {
   "cell_type": "code",
   "execution_count": 7,
   "metadata": {},
   "outputs": [
    {
     "ename": "IndentationError",
     "evalue": "unexpected indent (<ipython-input-7-8162b3356af5>, line 25)",
     "output_type": "error",
     "traceback": [
      "\u001b[0;36m  File \u001b[0;32m\"<ipython-input-7-8162b3356af5>\"\u001b[0;36m, line \u001b[0;32m25\u001b[0m\n\u001b[0;31m    kernel2 = GPy.kern.RBF(input_dim=1) + GPy.kern.White(input_dim=1)\u001b[0m\n\u001b[0m    ^\u001b[0m\n\u001b[0;31mIndentationError\u001b[0m\u001b[0;31m:\u001b[0m unexpected indent\n"
     ]
    }
   ],
   "source": [
    "x = bo.X\n",
    "y = bo.Y\n",
    "# RBF and WhiteNoise kernel\n",
    "#kernel1 = GPy.kern.RBF(input_dim=1) + GPy.kern.White(input_dim=1)\n",
    "#gp1 = GPy.models.GPRegression(x,y.reshape(-1,1),kernel1)\n",
    "#gp1.optimize(messages=False)\n",
    "#gp1.optimize_restarts(num_restarts = 100)\n",
    "\n",
    "gp1 = copy.deepcopy(bo.model)\n",
    "var_pref = np.zeros((x.shape[0],1))\n",
    "\n",
    "eps = np.inf\n",
    "iterations = 0\n",
    "\n",
    "m, v = gp1.predict(x)\n",
    "s = 10\n",
    "variance_noise = np.zeros(len(x))\n",
    "for j in range(0, len(x)):\n",
    "    var = 0.0\n",
    "    for i in range(0, s):\n",
    "        var += 0.5 * (y[j] - np.random.normal(m[j], v[j]))**2\n",
    "    variance_noise[j] = var/s\n",
    "z = np.log(variance_noise)\n",
    "\n",
    "    kernel2 = GPy.kern.RBF(input_dim=1) + GPy.kern.White(input_dim=1)\n",
    "    gp2 = GPy.models.GPRegression(x,z.reshape(-1,1),kernel2)\n",
    "    gp2.optimize(messages=False)\n",
    "    gp2.optimize_restarts(num_restarts = 4)\n",
    "    m_n, v_n = gp2.predict(x)\n",
    "\n",
    "    kernel3 = GPy.kern.RBF(input_dim=1) + GPy.kern.WhiteHeteroscedastic(input_dim=1, num_data=x.shape[0])\n",
    "    gp3 = GPy.models.GPRegression(x,y.reshape(-1,1),kernel3)\n",
    "    gp3.optimize(messages=False)\n",
    "    gp3.optimize_restarts(num_restarts = 5)\n",
    "    kernel3.parts[1].variance = np.exp(m_n).reshape(x.shape[0])\n",
    "\n",
    "    m, v = gp3.predict(x)\n",
    "    \n",
    "    diff = var_pref - v\n",
    "    eps = np.dot(diff.T, diff)[0][0]\n",
    "    gp1 = copy.deepcopy(gp3)\n",
    "    var_pref = copy.deepcopy(v)\n",
    "    print(eps)\n",
    "    if eps < 5:\n",
    "        break\n",
    "    if iterations > 10:\n",
    "        break\n",
    "    iterations += 1"
   ]
  },
  {
   "cell_type": "code",
   "execution_count": 8,
   "metadata": {},
   "outputs": [],
   "source": [
    "x = bo.X\n",
    "y = bo.Y\n",
    "\n",
    "gp1 = copy.deepcopy(bo.model)\n",
    "var_pref = np.zeros((x.shape[0],1))\n",
    "\n",
    "eps = np.inf\n",
    "iterations = 0\n",
    "\n",
    "m, v = gp1.predict(x)\n",
    "s = 20\n",
    "variance_noise = np.zeros(len(x))\n",
    "for j in range(0, len(x)):\n",
    "    var = 0.0\n",
    "    for i in range(0, s):\n",
    "        var += 0.5 * (y[j] - np.random.normal(m[j], v[j]))**2\n",
    "    variance_noise[j] = var/s\n",
    "z = np.log(variance_noise)"
   ]
  },
  {
   "cell_type": "code",
   "execution_count": 9,
   "metadata": {},
   "outputs": [
    {
     "name": "stdout",
     "output_type": "stream",
     "text": [
      "Optimization restart 1/4, f = 280.38617759869436\n",
      "Optimization restart 2/4, f = 280.38617763416306\n",
      "Optimization restart 3/4, f = 280.38617759800286\n",
      "Optimization restart 4/4, f = 280.38617759797495\n"
     ]
    }
   ],
   "source": [
    "kernel2 = GPy.kern.RBF(input_dim=1) + GPy.kern.White(input_dim=1)\n",
    "gp2 = GPy.models.GPRegression(x,z.reshape(-1,1),kernel2)\n",
    "gp2.optimize(messages=False)\n",
    "gp2.optimize_restarts(num_restarts = 4)\n",
    "m_n, v_n = gp2.predict(x)"
   ]
  },
  {
   "cell_type": "code",
   "execution_count": 10,
   "metadata": {},
   "outputs": [
    {
     "data": {
      "text/plain": [
       "[<matplotlib.lines.Line2D at 0x12d3c81d0>]"
      ]
     },
     "execution_count": 10,
     "metadata": {},
     "output_type": "execute_result"
    },
    {
     "data": {
      "image/png": "[encoded data removed]",
      "text/plain": [
       "<Figure size 432x288 with 1 Axes>"
      ]
     },
     "metadata": {
      "needs_background": "light"
     },
     "output_type": "display_data"
    }
   ],
   "source": [
    "plt.plot(x, m_n, 'o')"
   ]
  },
  {
   "cell_type": "code",
   "execution_count": 11,
   "metadata": {},
   "outputs": [
    {
     "name": "stdout",
     "output_type": "stream",
     "text": [
      "Optimization restart 1/5, f = 97508.06543200806\n",
      "Optimization restart 2/5, f = 104158.96917791042\n",
      "Optimization restart 3/5, f = 94487.24701808681\n",
      "Optimization restart 4/5, f = 96485.5890071559\n",
      "Optimization restart 5/5, f = 107857.93620645563\n"
     ]
    }
   ],
   "source": [
    "kernel3 = GPy.kern.RBF(input_dim=1) + GPy.kern.WhiteHeteroscedastic(input_dim=1, num_data=x.shape[0])\n",
    "gp3 = GPy.models.GPRegression(x,y.reshape(-1,1),kernel3)\n",
    "gp3.optimize(messages=False)\n",
    "gp3.optimize_restarts(num_restarts = 5)\n",
    "kernel3.parts[1].variance = np.exp(m_n).reshape(x.shape[0])"
   ]
  },
  {
   "cell_type": "code",
   "execution_count": 12,
   "metadata": {},
   "outputs": [
    {
     "name": "stdout",
     "output_type": "stream",
     "text": [
      "5.771288783151633e+21\n"
     ]
    }
   ],
   "source": [
    "m, v = gp3.predict(x)\n",
    "    \n",
    "diff = var_pref - v\n",
    "eps = np.dot(diff.T, diff)[0][0]\n",
    "gp1 = copy.deepcopy(gp3)\n",
    "var_pref = copy.deepcopy(v)\n",
    "print(eps)"
   ]
  },
  {
   "cell_type": "code",
   "execution_count": null,
   "metadata": {},
   "outputs": [],
   "source": []
  }
 ],
 "metadata": {
  "kernelspec": {
   "display_name": "Python 3",
   "language": "python",
   "name": "python3"
  },
  "language_info": {
   "codemirror_mode": {
    "name": "ipython",
    "version": 3
   },
   "file_extension": ".py",
   "mimetype": "text/x-python",
   "name": "python",
   "nbconvert_exporter": "python",
   "pygments_lexer": "ipython3",
   "version": "3.7.7"
  }
 },
 "nbformat": 4,
 "nbformat_minor": 4
}
