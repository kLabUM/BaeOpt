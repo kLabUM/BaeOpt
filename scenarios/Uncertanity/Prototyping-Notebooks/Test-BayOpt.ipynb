{
 "cells": [
  {
   "cell_type": "code",
   "execution_count": 9,
   "metadata": {},
   "outputs": [],
   "source": [
    "import copy\n",
    "import GPyOpt\n",
    "import GPy\n",
    "import uncertaninity_baestorms as ubay\n",
    "import numpy as np\n",
    "import matplotlib.pyplot as plt"
   ]
  },
  {
   "cell_type": "code",
   "execution_count": 10,
   "metadata": {},
   "outputs": [],
   "source": [
    "# Create an objective function\n",
    "class Objective:\n",
    "    def f(self, x):\n",
    "        # Convert 2d array to 1d\n",
    "        x = x.flatten()\n",
    "        reward = 4.0*np.sin(2.0*np.pi*x) + np.random.normal(0.0, x+0.5)#ubay.ObjectiveFunction(x)\n",
    "        return reward"
   ]
  },
  {
   "cell_type": "code",
   "execution_count": 19,
   "metadata": {},
   "outputs": [],
   "source": [
    "# Initalize the objective\n",
    "Obj_temp = Objective()\n",
    "Obj_temp = GPyOpt.core.task.SingleObjective(Obj_temp.f)\n",
    "\n",
    "# Create Search Space\n",
    "Search_Space = GPyOpt.Design_space(\n",
    "    space=[\n",
    "        {\"name\": \"var_1\", \"type\": \"continuous\", \"domain\": (0.0, 1.0)}#,\n",
    "        #{\"name\": \"var_2\", \"type\": \"continuous\", \"domain\": (0.0, 1.0)}\n",
    "    ]\n",
    ")\n",
    "\n",
    "# Pick a kernel\n",
    "kernel = GPy.kern.RBF(input_dim=1) + GPy.kern.White(input_dim=1)\n",
    "# Set up the model\n",
    "model = GPyOpt.models.GPModel(kernel=kernel,\n",
    "                              noise_var=0.0,\n",
    "                              optimize_restarts=5,\n",
    "                              verbose=False)\n",
    "\n",
    "# How do you sample the region\n",
    "initial_design = GPyOpt.experiment_design.initial_design(\"random\", Search_Space, 5)\n",
    "\n",
    "# Choose the acquision function\n",
    "acq_optimizer = GPyOpt.optimization.AcquisitionOptimizer(Search_Space)\n",
    "acquisition = GPyOpt.acquisitions.AcquisitionEI(model, Search_Space, acq_optimizer)\n",
    "\n",
    "evaluator = GPyOpt.core.evaluators.Sequential(acquisition)\n",
    "\n",
    "bo = GPyOpt.methods.ModularBayesianOptimization(\n",
    "    model, Search_Space, Obj_temp, acquisition, evaluator, initial_design\n",
    ")\n",
    "\n",
    "max_iter = 20\n",
    "bo.run_optimization(path_to_save=\"./\", max_iter=max_iter)"
   ]
  },
  {
   "cell_type": "code",
   "execution_count": 29,
   "metadata": {},
   "outputs": [
    {
     "name": "stdout",
     "output_type": "stream",
     "text": [
      "Optimization restart 1/5, f = 50.45934741372133\n",
      "Optimization restart 2/5, f = 50.45934741371488\n",
      "Optimization restart 3/5, f = 50.45934741368768\n",
      "Optimization restart 4/5, f = 50.45934741401623\n",
      "Optimization restart 5/5, f = 50.459347413700755\n",
      "Optimization restart 1/20, f = 44.11763600568663\n",
      "Optimization restart 2/20, f = 44.11763228553778\n",
      "Optimization restart 3/20, f = 44.11763198356072\n",
      "Optimization restart 4/20, f = 44.117644321832245\n",
      "Optimization restart 5/20, f = 44.117637060570004\n",
      "Optimization restart 6/20, f = 44.1176314391588\n",
      "Optimization restart 7/20, f = 44.11763138774859\n",
      "Optimization restart 8/20, f = 44.117631608503835\n",
      "Optimization restart 9/20, f = 44.11765224846872\n",
      "Optimization restart 10/20, f = 44.11763457647733\n",
      "Optimization restart 11/20, f = 44.11769218623236\n",
      "Optimization restart 12/20, f = 44.11764010892186\n",
      "Optimization restart 13/20, f = 44.11763223047379\n",
      "Optimization restart 14/20, f = 44.11763166437788\n",
      "Optimization restart 15/20, f = 44.117631310332804\n",
      "Optimization restart 16/20, f = 44.11763149884999\n",
      "Optimization restart 17/20, f = 44.117651634957895\n",
      "Optimization restart 18/20, f = 44.11763198995663\n",
      "Optimization restart 19/20, f = 44.117653292078316\n",
      "Optimization restart 20/20, f = 44.11763124783961\n",
      "Optimization restart 1/5, f = 34.914011487357456\n",
      "Optimization restart 2/5, f = 34.91407629848871\n",
      "Optimization restart 3/5, f = 34.91402424143281\n",
      "Optimization restart 4/5, f = 34.91402513603109\n",
      "Optimization restart 5/5, f = 34.914143403085966\n",
      "62.20334458564325\n",
      "Optimization restart 1/20, f = 52.59146593051685\n",
      "Optimization restart 2/20, f = 52.591465930476005\n",
      "Optimization restart 3/20, f = 52.591465930475266\n",
      "Optimization restart 4/20, f = 52.591465934254494\n",
      "Optimization restart 5/20, f = 52.655252997174685\n",
      "Optimization restart 6/20, f = 52.59146593047421\n",
      "Optimization restart 7/20, f = 52.59146593089554\n",
      "Optimization restart 8/20, f = 51.77737891594573\n",
      "Optimization restart 9/20, f = 52.591465930487445\n",
      "Optimization restart 10/20, f = 52.59146593047712\n",
      "Optimization restart 11/20, f = 51.7773789159373\n",
      "Optimization restart 12/20, f = 52.591465931918634\n",
      "Optimization restart 13/20, f = 52.59146593052063\n",
      "Optimization restart 14/20, f = 52.59146593057412\n",
      "Optimization restart 15/20, f = 52.59146593053514\n",
      "Optimization restart 16/20, f = 52.65525205613831\n",
      "Optimization restart 17/20, f = 52.59146593067538\n",
      "Optimization restart 18/20, f = 52.59146593049296\n",
      "Optimization restart 19/20, f = 52.65525071200358\n",
      "Optimization restart 20/20, f = 51.77737891593267\n",
      "Optimization restart 1/5, f = 34.914011487357456\n",
      "Optimization restart 2/5, f = 34.914019927037664\n",
      "Optimization restart 3/5, f = 34.914000716444605\n",
      "Optimization restart 4/5, f = 32.063998773882275\n",
      "Optimization restart 5/5, f = 34.914001606875345\n",
      "54.327440270939626\n",
      "Optimization restart 1/20, f = 57.57483524104019\n",
      "Optimization restart 2/20, f = 57.5748352410329\n",
      "Optimization restart 3/20, f = 57.57483524159933\n",
      "Optimization restart 4/20, f = 57.57483524105752\n",
      "Optimization restart 5/20, f = 57.57483524105372\n",
      "Optimization restart 6/20, f = 57.57483524124922\n",
      "Optimization restart 7/20, f = 57.5748352410628\n",
      "Optimization restart 8/20, f = 57.57483524103533\n",
      "Optimization restart 9/20, f = 57.57483524312445\n",
      "Optimization restart 10/20, f = 57.57483524122115\n",
      "Optimization restart 11/20, f = 57.574835241199004\n",
      "Optimization restart 12/20, f = 57.574835242255205\n",
      "Optimization restart 13/20, f = 57.574835241267365\n",
      "Optimization restart 14/20, f = 57.574835241365534\n",
      "Optimization restart 15/20, f = 57.57483524115374\n",
      "Optimization restart 16/20, f = 57.57483524103559\n",
      "Optimization restart 17/20, f = 57.57483524103271\n",
      "Optimization restart 18/20, f = 57.574835241038855\n",
      "Optimization restart 19/20, f = 57.574835241110705\n",
      "Optimization restart 20/20, f = 57.574835241895954\n",
      "Optimization restart 1/5, f = 34.914011487357456\n",
      "Optimization restart 2/5, f = 34.91404771849396\n",
      "Optimization restart 3/5, f = 34.914014841407536\n",
      "Optimization restart 4/5, f = 32.06399437824709\n",
      "Optimization restart 5/5, f = 34.91409412320995\n",
      "51.35847128919266\n",
      "Optimization restart 1/20, f = 54.07973971050407\n",
      "Optimization restart 2/20, f = 54.07973971051038\n",
      "Optimization restart 3/20, f = 54.07973971050384\n",
      "Optimization restart 4/20, f = 54.079739710508264\n",
      "Optimization restart 5/20, f = 54.07973971159483\n",
      "Optimization restart 6/20, f = 54.07973971076342\n",
      "Optimization restart 7/20, f = 54.07973971052864\n",
      "Optimization restart 8/20, f = 54.07973971053933\n",
      "Optimization restart 9/20, f = 54.07973971050997\n",
      "Optimization restart 10/20, f = 54.07973971050606\n",
      "Optimization restart 11/20, f = 54.079739710505066\n",
      "Optimization restart 12/20, f = 54.07973971052992\n",
      "Optimization restart 13/20, f = 54.0797397114194\n",
      "Optimization restart 14/20, f = 54.07973971052516\n",
      "Optimization restart 15/20, f = 54.079739710524514\n",
      "Optimization restart 16/20, f = 54.07973971102694\n",
      "Optimization restart 17/20, f = 54.079739710504825\n",
      "Optimization restart 18/20, f = 54.07973971050381\n",
      "Optimization restart 19/20, f = 54.07973971117687\n",
      "Optimization restart 20/20, f = 54.079739710512904\n",
      "Optimization restart 1/5, f = 34.914011487357456\n",
      "Optimization restart 2/5, f = 34.91400206816742\n",
      "Optimization restart 3/5, f = 34.914015502345265\n",
      "Optimization restart 4/5, f = 32.06396075421113\n",
      "Optimization restart 5/5, f = 32.063988402340065\n",
      "1.5891682845750854\n"
     ]
    }
   ],
   "source": [
    "x = bo.X\n",
    "y = bo.Y\n",
    "# RBF and WhiteNoise kernel\n",
    "kernel1 = GPy.kern.RBF(input_dim=1) + GPy.kern.White(input_dim=1)\n",
    "gp1 = GPy.models.GPRegression(x,y.reshape(-1,1),kernel1)\n",
    "gp1.optimize(messages=False)\n",
    "gp1.optimize_restarts(num_restarts = 5)\n",
    "\n",
    "var_pref = np.zeros((x.shape[0],1))\n",
    "\n",
    "eps = np.inf\n",
    "iterations = 0\n",
    "while (True):\n",
    "    \n",
    "    m, v = gp1.predict(x)\n",
    "    s = 1\n",
    "    variance_noise = np.zeros(len(x))\n",
    "    for j in range(0, len(x)):\n",
    "        var = 0.0\n",
    "        for i in range(0, s):\n",
    "            var += 0.5 * (y[j] - np.random.normal(m[j], v[j]))**2\n",
    "        variance_noise[j] = var/s\n",
    "    z = np.log(variance_noise)\n",
    "\n",
    "    kernel2 = GPy.kern.RBF(input_dim=1) + GPy.kern.White(input_dim=1)\n",
    "    gp2 = GPy.models.GPRegression(x,z.reshape(-1,1),kernel2)\n",
    "    gp2.optimize(messages=False)\n",
    "    gp2.optimize_restarts(num_restarts = 20)\n",
    "    m_n, v_n = gp2.predict(x)\n",
    "\n",
    "    kernel3 = GPy.kern.RBF(input_dim=1) + GPy.kern.WhiteHeteroscedastic(input_dim=1, num_data=x.shape[0])\n",
    "    gp3 = GPy.models.GPRegression(x,y.reshape(-1,1),kernel3)\n",
    "    gp3.optimize(messages=False)\n",
    "    gp3.optimize_restarts(num_restarts = 5)\n",
    "    kernel3.parts[1].variance = np.exp(m_n).reshape(x.shape[0])\n",
    "\n",
    "    m, v = gp3.predict(x)\n",
    "    \n",
    "    diff = var_pref - v\n",
    "    eps = np.dot(diff.T, diff)[0][0]\n",
    "    gp1 = copy.deepcopy(gp3)\n",
    "    var_pref = copy.deepcopy(v)\n",
    "    print(eps)\n",
    "    if eps < 5:\n",
    "        break\n",
    "    if iterations > 10:\n",
    "        break\n",
    "    iterations += 1"
   ]
  },
  {
   "cell_type": "code",
   "execution_count": 30,
   "metadata": {},
   "outputs": [
    {
     "data": {
      "text/plain": [
       "<matplotlib.legend.Legend at 0x108420a10>"
      ]
     },
     "execution_count": 30,
     "metadata": {},
     "output_type": "execute_result"
    },
    {
     "data": {
      "image/png": "[encoded data removed]",
      "text/plain": [
       "<Figure size 432x288 with 1 Axes>"
      ]
     },
     "metadata": {
      "needs_background": "light"
     },
     "output_type": "display_data"
    }
   ],
   "source": [
    "x1 = np.linspace(0.0, 1.0, 100)\n",
    "m, v = gp3.predict(x1.reshape(-1,1))\n",
    "up = m.reshape(-1) + 2.0*np.sqrt(v.reshape(-1))\n",
    "dwn = m.reshape(-1) - 2.0*np.sqrt(v.reshape(-1))\n",
    "plt.fill_between(x1, up, dwn, alpha=0.5)\n",
    "plt.plot(x1, m, label=\"Mean\")\n",
    "plt.plot(x, y, 'o', label=\"Noisy Data\")\n",
    "plt.legend()"
   ]
  },
  {
   "cell_type": "code",
   "execution_count": 28,
   "metadata": {},
   "outputs": [
    {
     "data": {
      "text/plain": [
       "[<matplotlib.lines.Line2D at 0x129bbd590>]"
      ]
     },
     "execution_count": 28,
     "metadata": {},
     "output_type": "execute_result"
    },
    {
     "data": {
      "image/png": "[encoded data removed]",
      "text/plain": [
       "<Figure size 432x288 with 1 Axes>"
      ]
     },
     "metadata": {
      "needs_background": "light"
     },
     "output_type": "display_data"
    }
   ],
   "source": [
    "plt.plot(x, y, 'o')"
   ]
  },
  {
   "cell_type": "code",
   "execution_count": null,
   "metadata": {},
   "outputs": [],
   "source": []
  },
  {
   "cell_type": "code",
   "execution_count": null,
   "metadata": {},
   "outputs": [],
   "source": []
  }
 ],
 "metadata": {
  "kernelspec": {
   "display_name": "Python 3",
   "language": "python",
   "name": "python3"
  },
  "language_info": {
   "codemirror_mode": {
    "name": "ipython",
    "version": 3
   },
   "file_extension": ".py",
   "mimetype": "text/x-python",
   "name": "python",
   "nbconvert_exporter": "python",
   "pygments_lexer": "ipython3",
   "version": "3.7.7"
  }
 },
 "nbformat": 4,
 "nbformat_minor": 4
}
