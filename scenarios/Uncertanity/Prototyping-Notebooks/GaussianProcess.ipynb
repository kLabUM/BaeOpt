{
 "cells": [
  {
   "cell_type": "markdown",
   "metadata": {},
   "source": [
    "# Gaussian Processes"
   ]
  },
  {
   "cell_type": "markdown",
   "metadata": {},
   "source": [
    "`jax` implementation of gaussian porcess and hyperparameter optimization."
   ]
  },
  {
   "cell_type": "code",
   "execution_count": 3,
   "metadata": {},
   "outputs": [
    {
     "name": "stderr",
     "output_type": "stream",
     "text": [
      "/usr/local/lib/python3.7/site-packages/jax/lib/xla_bridge.py:118: UserWarning: No GPU/TPU found, falling back to CPU.\n",
      "  warnings.warn('No GPU/TPU found, falling back to CPU.')\n"
     ]
    }
   ],
   "source": [
    "import jax.numpy as jnp\n",
    "from jax import grad, jit, vmap, random\n",
    "import jax.ops as ops\n",
    "import matplotlib.pyplot as plt\n",
    "import seaborn\n",
    "import numpy as npy\n",
    "import jax.nn as nn\n",
    "plt.style.use('dark_background')\n",
    "key = random.PRNGKey(0)"
   ]
  },
  {
   "cell_type": "markdown",
   "metadata": {},
   "source": [
    "## Generate RAW data to sample"
   ]
  },
  {
   "cell_type": "code",
   "execution_count": 4,
   "metadata": {},
   "outputs": [],
   "source": [
    "def f(x):\n",
    "    y = 0.80 * x + npy.random.normal(0.0, 1.0)\n",
    "    return y"
   ]
  },
  {
   "cell_type": "code",
   "execution_count": 5,
   "metadata": {},
   "outputs": [],
   "source": [
    "# Vectorize function\n",
    "f = npy.vectorize(f)"
   ]
  },
  {
   "cell_type": "markdown",
   "metadata": {},
   "source": [
    "Though `vmap` from Jax might be better for vectorizing function, Noise would remain the same for all points. Hence, `numpy.vectorize` is used here."
   ]
  },
  {
   "cell_type": "code",
   "execution_count": 2,
   "metadata": {},
   "outputs": [
    {
     "ename": "NameError",
     "evalue": "name 'f' is not defined",
     "output_type": "error",
     "traceback": [
      "\u001b[0;31m---------------------------------------------------------------------------\u001b[0m",
      "\u001b[0;31mNameError\u001b[0m                                 Traceback (most recent call last)",
      "\u001b[0;32m<ipython-input-2-6863456863a1>\u001b[0m in \u001b[0;36m<module>\u001b[0;34m\u001b[0m\n\u001b[1;32m      1\u001b[0m \u001b[0;31m# Generate Training Data\u001b[0m\u001b[0;34m\u001b[0m\u001b[0;34m\u001b[0m\u001b[0;34m\u001b[0m\u001b[0m\n\u001b[1;32m      2\u001b[0m \u001b[0mx_train\u001b[0m \u001b[0;34m=\u001b[0m \u001b[0mnpy\u001b[0m\u001b[0;34m.\u001b[0m\u001b[0mrandom\u001b[0m\u001b[0;34m.\u001b[0m\u001b[0mchoice\u001b[0m\u001b[0;34m(\u001b[0m\u001b[0mnpy\u001b[0m\u001b[0;34m.\u001b[0m\u001b[0mlinspace\u001b[0m\u001b[0;34m(\u001b[0m\u001b[0;36m0\u001b[0m\u001b[0;34m,\u001b[0m \u001b[0;36m10\u001b[0m\u001b[0;34m,\u001b[0m \u001b[0;36m100\u001b[0m\u001b[0;34m)\u001b[0m\u001b[0;34m,\u001b[0m \u001b[0;36m50\u001b[0m\u001b[0;34m)\u001b[0m\u001b[0;34m\u001b[0m\u001b[0;34m\u001b[0m\u001b[0m\n\u001b[0;32m----> 3\u001b[0;31m \u001b[0my_train\u001b[0m \u001b[0;34m=\u001b[0m \u001b[0mf\u001b[0m\u001b[0;34m(\u001b[0m\u001b[0mx_train\u001b[0m\u001b[0;34m)\u001b[0m\u001b[0;34m\u001b[0m\u001b[0;34m\u001b[0m\u001b[0m\n\u001b[0m\u001b[1;32m      4\u001b[0m \u001b[0;31m# Normalize the data\u001b[0m\u001b[0;34m\u001b[0m\u001b[0;34m\u001b[0m\u001b[0;34m\u001b[0m\u001b[0m\n\u001b[1;32m      5\u001b[0m \u001b[0mx_train\u001b[0m \u001b[0;34m=\u001b[0m \u001b[0mnn\u001b[0m\u001b[0;34m.\u001b[0m\u001b[0mnormalize\u001b[0m\u001b[0;34m(\u001b[0m\u001b[0mx_train\u001b[0m\u001b[0;34m)\u001b[0m\u001b[0;34m\u001b[0m\u001b[0;34m\u001b[0m\u001b[0m\n",
      "\u001b[0;31mNameError\u001b[0m: name 'f' is not defined"
     ]
    }
   ],
   "source": [
    "# Generate Training Data\n",
    "x_train = npy.random.choice(npy.linspace(0, 10, 100), 50)\n",
    "y_train = f(x_train)\n",
    "# Normalize the data\n",
    "x_train = nn.normalize(x_train)\n",
    "y_train = nn.normalize(y_train)"
   ]
  },
  {
   "cell_type": "markdown",
   "metadata": {},
   "source": [
    "matrix inversion is being troublesome without normalizing data. "
   ]
  },
  {
   "cell_type": "code",
   "execution_count": 9,
   "metadata": {},
   "outputs": [
    {
     "data": {
      "text/plain": [
       "<matplotlib.legend.Legend at 0x12bc8b350>"
      ]
     },
     "execution_count": 9,
     "metadata": {},
     "output_type": "execute_result"
    },
    {
     "data": {
      "image/png": "[encoded data removed]",
      "text/plain": [
       "<Figure size 576x396 with 1 Axes>"
      ]
     },
     "metadata": {
      "needs_background": "light"
     },
     "output_type": "display_data"
    }
   ],
   "source": [
    "plt.plot(x_train, y_train, 'o', label=\"Training data\")\n",
    "plt.plot(x_train, 0.80*x_train, label=\"Actual Line\")\n",
    "plt.fill_between(x_train, 0.80*x_train + 1.0*1.96, 0.80*x_train -1.96*1.0, alpha=0.5)\n",
    "plt.legend()"
   ]
  },
  {
   "cell_type": "markdown",
   "metadata": {},
   "source": [
    "## Kernel\n",
    "\n",
    "**Definition**: A kernel is a positive definite function of two inputs ($x_p$, $x_q$). These inputs are often vectors. \n",
    "\n",
    "$$ Cov[f(x_p), f(x_q)] = k(x_p, x_q) $$\n",
    "\n",
    "Basically, kernels are a way for mapping the similarity between two data-points, and using these kernels we can customize how similarity between two data points is considered in a algorithm.\n",
    "\n",
    "### Example:\n",
    "\n",
    "Let us say we have sets of data-points, $X_{N \\times D}$ and $Y_{P \\times D}$. Where $D$ is the dimention of a data-point and $N,P$ is the number of data-points. Hence, when we are compute the covariance matrix between these data sets, it will have the dimention of  $N \\times D$."
   ]
  },
  {
   "cell_type": "code",
   "execution_count": 10,
   "metadata": {},
   "outputs": [],
   "source": [
    "def squared_exponential(xp, xq):\n",
    "    # Ensure these are one dimentional vectors\n",
    "    x = xp - xq\n",
    "    return np.exp(-0.5*np.dot(x, x.T))"
   ]
  },
  {
   "cell_type": "code",
   "execution_count": 11,
   "metadata": {},
   "outputs": [],
   "source": [
    "def K(kernel_function, x, xs=None):\n",
    "    if xs is None:\n",
    "        return vmap(lambda x:vmap(lambda y: kernel_function(x, y))(x))(x)\n",
    "    else:\n",
    "        return vmap(lambda xp: vmap(lambda xq: squared_exponential(xp, xq))(xs))(x)"
   ]
  },
  {
   "cell_type": "markdown",
   "metadata": {},
   "source": [
    "Check if the function is computing the kernel right."
   ]
  },
  {
   "cell_type": "code",
   "execution_count": 12,
   "metadata": {},
   "outputs": [],
   "source": [
    "def K_test(kernel, x, xs):\n",
    "    k = np.zeros((x.shape[0], xs.shape[0])) # Number of elements in both both arrays\n",
    "    for i in range(0, x.shape[0]):\n",
    "        for j in range(0, xs.shape[0]):\n",
    "            k = ops.index_update(k, ops.index[i,j], kernel(x[i], xs[j]))\n",
    "    kn = K(kernel, x, xs)\n",
    "    return k, kn"
   ]
  },
  {
   "cell_type": "code",
   "execution_count": 13,
   "metadata": {},
   "outputs": [],
   "source": [
    "x = np.ones((2,5)) *0.5\n",
    "xs = np.ones((3,5))\n",
    "k, kjax = K_test(squared_exponential, x, x)"
   ]
  },
  {
   "cell_type": "code",
   "execution_count": 14,
   "metadata": {},
   "outputs": [
    {
     "data": {
      "text/plain": [
       "DeviceArray([[1., 1.],\n",
       "             [1., 1.]], dtype=float32)"
      ]
     },
     "execution_count": 14,
     "metadata": {},
     "output_type": "execute_result"
    }
   ],
   "source": [
    "k"
   ]
  },
  {
   "cell_type": "code",
   "execution_count": 15,
   "metadata": {},
   "outputs": [
    {
     "data": {
      "text/plain": [
       "DeviceArray([[1., 1.],\n",
       "             [1., 1.]], dtype=float32)"
      ]
     },
     "execution_count": 15,
     "metadata": {},
     "output_type": "execute_result"
    }
   ],
   "source": [
    "kjax"
   ]
  },
  {
   "cell_type": "markdown",
   "metadata": {},
   "source": [
    "Nice !! looks like the kernel is right. "
   ]
  },
  {
   "cell_type": "markdown",
   "metadata": {},
   "source": [
    " **Note** : Lets try a different kernel. We know that the data is linear. So a linear function might be better"
   ]
  },
  {
   "cell_type": "code",
   "execution_count": 16,
   "metadata": {},
   "outputs": [],
   "source": [
    "def squared_distance(xp, xq):\n",
    "    x = xp - xq\n",
    "    return np.dot(x, x.T)"
   ]
  },
  {
   "cell_type": "markdown",
   "metadata": {},
   "source": [
    "## GP Regression"
   ]
  },
  {
   "cell_type": "markdown",
   "metadata": {},
   "source": [
    "Now that the kernel looks right. Lets head over to GPs."
   ]
  },
  {
   "cell_type": "code",
   "execution_count": 17,
   "metadata": {},
   "outputs": [],
   "source": [
    "x_test_new = np.linspace(0, 10, 10)\n",
    "x_test_new = nn.normalize(x_test_new)"
   ]
  },
  {
   "cell_type": "code",
   "execution_count": 18,
   "metadata": {},
   "outputs": [],
   "source": [
    "Kst = K(squared_distance, x_test_new, x_train)\n",
    "Ktt = K(squared_distance, x_train, x_train) + np.eye(x_train.shape[0]) * 0.01\n",
    "Kts = K(squared_distance, x_train, x_test_new)\n",
    "Kss = K(squared_distance, x_test_new, x_test_new)\n",
    "mu = np.dot(np.dot(Kst, np.linalg.inv(Ktt)), y_train)\n",
    "Ktt_inv = np.linalg.inv(Ktt)\n",
    "var = Kss - np.dot(np.dot(Kst, Ktt_inv), Kts)\n",
    "std = np.sqrt(np.diag(var))"
   ]
  },
  {
   "cell_type": "code",
   "execution_count": 19,
   "metadata": {},
   "outputs": [
    {
     "data": {
      "text/plain": [
       "[<matplotlib.lines.Line2D at 0x12bc8bfd0>]"
      ]
     },
     "execution_count": 19,
     "metadata": {},
     "output_type": "execute_result"
    },
    {
     "data": {
      "image/png": "[encoded data removed]",
      "text/plain": [
       "<Figure size 576x396 with 1 Axes>"
      ]
     },
     "metadata": {
      "needs_background": "light"
     },
     "output_type": "display_data"
    }
   ],
   "source": [
    "plt.plot(x_test_new, mu)\n",
    "plt.fill_between(x_test_new, mu + 1.96*std, mu - 1.96*std, alpha=0.5)\n",
    "plt.plot(x_train, y_train, 'o')"
   ]
  },
  {
   "cell_type": "markdown",
   "metadata": {},
   "source": [
    "Noise is IID. Hence, white noise kernel might be sufficient."
   ]
  },
  {
   "cell_type": "markdown",
   "metadata": {},
   "source": [
    "## Hyperparamerter Tuning"
   ]
  },
  {
   "cell_type": "code",
   "execution_count": 48,
   "metadata": {},
   "outputs": [],
   "source": [
    "def mlk(sigma, Ktt, y):\n",
    "    Ktt = Ktt + sigma * np.eye(Ktt.shape[0])\n",
    "    Ktt_inv = np.linalg.inv(Ktt)\n",
    "    ml = -0.5 * np.dot(np.dot(y.T, Ktt_inv), y) - 0.5 * np.log(np.linalg.det(Ktt)) - 0.5 * np.log(2*3.14)\n",
    "    return ml"
   ]
  },
  {
   "cell_type": "code",
   "execution_count": 69,
   "metadata": {},
   "outputs": [],
   "source": [
    "Ktt = K(squared_distance, x_train, x_train)\n",
    "der = grad(mlk, argnums=0)\n",
    "hes = grad(grad(mlk, argnums=0))"
   ]
  },
  {
   "cell_type": "code",
   "execution_count": null,
   "metadata": {},
   "outputs": [],
   "source": []
  },
  {
   "cell_type": "code",
   "execution_count": 74,
   "metadata": {},
   "outputs": [
    {
     "name": "stdout",
     "output_type": "stream",
     "text": [
      "2.9975734\n",
      "2.9951475\n",
      "2.9927225\n",
      "2.9902983\n",
      "2.987875\n",
      "2.9854524\n",
      "2.9830308\n",
      "2.98061\n",
      "2.97819\n",
      "2.9757707\n",
      "2.9733524\n",
      "2.9709349\n",
      "2.9685183\n",
      "2.9661024\n",
      "2.9636874\n",
      "2.9612732\n",
      "2.95886\n",
      "2.9564474\n",
      "2.9540358\n",
      "2.9516249\n",
      "2.949215\n",
      "2.9468057\n",
      "2.9443974\n",
      "2.94199\n",
      "2.9395833\n",
      "2.9371774\n",
      "2.9347725\n",
      "2.9323683\n",
      "2.929965\n",
      "2.9275625\n",
      "2.925161\n",
      "2.92276\n",
      "2.92036\n",
      "2.917961\n",
      "2.9155626\n",
      "2.913165\n",
      "2.9107685\n",
      "2.9083726\n",
      "2.9059777\n",
      "2.9035835\n",
      "2.9011903\n",
      "2.8987978\n",
      "2.896406\n",
      "2.894015\n",
      "2.891625\n",
      "2.8892357\n",
      "2.8868473\n",
      "2.8844597\n",
      "2.882073\n",
      "2.879687\n",
      "2.877302\n",
      "2.8749177\n",
      "2.8725343\n",
      "2.8701518\n",
      "2.86777\n",
      "2.8653889\n",
      "2.8630087\n",
      "2.8606293\n",
      "2.8582509\n",
      "2.855873\n",
      "2.8534963\n",
      "2.8511202\n",
      "2.848745\n",
      "2.8463707\n",
      "2.8439972\n",
      "2.8416245\n",
      "2.8392525\n",
      "2.8368814\n",
      "2.834511\n",
      "2.8321416\n",
      "2.829773\n",
      "2.8274052\n",
      "2.8250382\n",
      "2.822672\n",
      "2.8203065\n",
      "2.817942\n",
      "2.8155782\n",
      "2.8132153\n",
      "2.8108532\n",
      "2.808492\n",
      "2.8061314\n",
      "2.8037717\n",
      "2.8014128\n",
      "2.7990549\n",
      "2.7966976\n",
      "2.7943413\n",
      "2.7919858\n",
      "2.789631\n",
      "2.787277\n",
      "2.7849238\n",
      "2.7825716\n",
      "2.78022\n",
      "2.7778695\n",
      "2.7755196\n",
      "2.7731705\n",
      "2.7708223\n",
      "2.7684748\n",
      "2.7661283\n",
      "2.7637825\n",
      "2.7614374\n"
     ]
    }
   ],
   "source": [
    "sigma_t = 3.0\n",
    "for i in range(0,100):\n",
    "    sigma = sigma_t - 0.010*(der(sigma_t,Ktt,y_train)/hes(sigma_t,Ktt,y_train))\n",
    "    print(sigma)\n",
    "    if np.abs(sigma_t - sigma) < 0.00003:\n",
    "        break\n",
    "    sigma_t = sigma"
   ]
  },
  {
   "cell_type": "code",
   "execution_count": 20,
   "metadata": {},
   "outputs": [
    {
     "ename": "NameError",
     "evalue": "name 'sigma_t' is not defined",
     "output_type": "error",
     "traceback": [
      "\u001b[0;31m---------------------------------------------------------------------------\u001b[0m",
      "\u001b[0;31mNameError\u001b[0m                                 Traceback (most recent call last)",
      "\u001b[0;32m<ipython-input-20-ca26f2ab7f18>\u001b[0m in \u001b[0;36m<module>\u001b[0;34m\u001b[0m\n\u001b[1;32m      3\u001b[0m \u001b[0my_train\u001b[0m \u001b[0;34m=\u001b[0m \u001b[0my_train\u001b[0m\u001b[0;34m\u001b[0m\u001b[0;34m\u001b[0m\u001b[0m\n\u001b[1;32m      4\u001b[0m \u001b[0mKst\u001b[0m \u001b[0;34m=\u001b[0m \u001b[0mK\u001b[0m\u001b[0;34m(\u001b[0m\u001b[0msquared_distance\u001b[0m\u001b[0;34m,\u001b[0m \u001b[0mx_test_new\u001b[0m\u001b[0;34m,\u001b[0m \u001b[0mx_train\u001b[0m\u001b[0;34m)\u001b[0m\u001b[0;34m\u001b[0m\u001b[0;34m\u001b[0m\u001b[0m\n\u001b[0;32m----> 5\u001b[0;31m \u001b[0mKtt\u001b[0m \u001b[0;34m=\u001b[0m \u001b[0mK\u001b[0m\u001b[0;34m(\u001b[0m\u001b[0msquared_distance\u001b[0m\u001b[0;34m,\u001b[0m \u001b[0mx_train\u001b[0m\u001b[0;34m,\u001b[0m \u001b[0mx_train\u001b[0m\u001b[0;34m)\u001b[0m \u001b[0;34m+\u001b[0m \u001b[0mnp\u001b[0m\u001b[0;34m.\u001b[0m\u001b[0meye\u001b[0m\u001b[0;34m(\u001b[0m\u001b[0mx_train\u001b[0m\u001b[0;34m.\u001b[0m\u001b[0mshape\u001b[0m\u001b[0;34m[\u001b[0m\u001b[0;36m0\u001b[0m\u001b[0;34m]\u001b[0m\u001b[0;34m)\u001b[0m \u001b[0;34m*\u001b[0m \u001b[0msigma_t\u001b[0m\u001b[0;34m\u001b[0m\u001b[0;34m\u001b[0m\u001b[0m\n\u001b[0m\u001b[1;32m      6\u001b[0m \u001b[0mKts\u001b[0m \u001b[0;34m=\u001b[0m \u001b[0mK\u001b[0m\u001b[0;34m(\u001b[0m\u001b[0msquared_distance\u001b[0m\u001b[0;34m,\u001b[0m \u001b[0mx_train\u001b[0m\u001b[0;34m,\u001b[0m \u001b[0mx_test_new\u001b[0m\u001b[0;34m)\u001b[0m\u001b[0;34m\u001b[0m\u001b[0;34m\u001b[0m\u001b[0m\n\u001b[1;32m      7\u001b[0m \u001b[0mKss\u001b[0m \u001b[0;34m=\u001b[0m \u001b[0mK\u001b[0m\u001b[0;34m(\u001b[0m\u001b[0msquared_distance\u001b[0m\u001b[0;34m,\u001b[0m \u001b[0mx_test_new\u001b[0m\u001b[0;34m,\u001b[0m \u001b[0mx_test_new\u001b[0m\u001b[0;34m)\u001b[0m\u001b[0;34m\u001b[0m\u001b[0;34m\u001b[0m\u001b[0m\n",
      "\u001b[0;31mNameError\u001b[0m: name 'sigma_t' is not defined"
     ]
    }
   ],
   "source": [
    "x_train = x_train\n",
    "x_test_new = nn.normalize(np.linspace(0, 10, 100))\n",
    "y_train = y_train\n",
    "Kst = K(squared_distance, x_test_new, x_train)\n",
    "Ktt = K(squared_distance, x_train, x_train) + np.eye(x_train.shape[0]) * sigma_t\n",
    "Kts = K(squared_distance, x_train, x_test_new)\n",
    "Kss = K(squared_distance, x_test_new, x_test_new)\n",
    "mu = np.dot(np.dot(Kst, np.linalg.inv(Ktt)), y_train)\n",
    "Ktt_inv = np.linalg.inv(Ktt)\n",
    "var = Kss - np.dot(np.dot(Kst, Ktt_inv), Kts)\n",
    "std = np.sqrt(np.diag(var))\n",
    "plt.plot(x_test_new, mu)\n",
    "plt.fill_between(x_test_new, mu + 1.96*std, mu - 1.96*std, alpha=0.5)\n",
    "plt.plot(x_train, y_train, 'o')"
   ]
  },
  {
   "cell_type": "markdown",
   "metadata": {},
   "source": [
    "## Summary: Notes on \n",
    "Tricky things when using GP:\n",
    "\n",
    "        1. Ensuring that the matrix inverse is tractable.\n",
    "        2. Optimizing the hyperparameters to fit to the data.\n",
    "        3. Choosing the right kernel for the job."
   ]
  },
  {
   "cell_type": "code",
   "execution_count": 42,
   "metadata": {},
   "outputs": [],
   "source": [
    "import GPy"
   ]
  },
  {
   "cell_type": "code",
   "execution_count": 43,
   "metadata": {},
   "outputs": [],
   "source": [
    "kernel = GPy.kern.RBF(input_dim=1, variance=1., lengthscale=1.)"
   ]
  },
  {
   "cell_type": "code",
   "execution_count": 44,
   "metadata": {},
   "outputs": [],
   "source": [
    "q = GPy.models.GPRegression(x_train.reshape(-1,1),y_train.reshape(-1,1),kernel)"
   ]
  },
  {
   "cell_type": "code",
   "execution_count": 45,
   "metadata": {},
   "outputs": [
    {
     "data": {
      "application/vnd.jupyter.widget-view+json": {
       "model_id": "984e10a8544244f08b750abcd3496e30",
       "version_major": 2,
       "version_minor": 0
      },
      "text/plain": [
       "HBox(children=(VBox(children=(IntProgress(value=0, max=1000), HTML(value=''))), Box(children=(HTML(value=''),)…"
      ]
     },
     "metadata": {},
     "output_type": "display_data"
    },
    {
     "data": {
      "text/plain": [
       "<paramz.optimization.optimization.opt_lbfgsb at 0x1311bdc90>"
      ]
     },
     "execution_count": 45,
     "metadata": {},
     "output_type": "execute_result"
    }
   ],
   "source": [
    "q.optimize(messages=True)"
   ]
  },
  {
   "cell_type": "code",
   "execution_count": 46,
   "metadata": {},
   "outputs": [
    {
     "name": "stdout",
     "output_type": "stream",
     "text": [
      "Optimization restart 1/10, f = 28.914438247680664\n",
      "Optimization restart 2/10, f = 28.91443634033203\n",
      "Optimization restart 3/10, f = 28.914432525634766\n",
      "Optimization restart 4/10, f = 28.9144344329834\n",
      "Optimization restart 5/10, f = 28.9144344329834\n",
      "Optimization restart 6/10, f = 28.9144344329834\n",
      "Optimization restart 7/10, f = 28.914438247680664\n",
      "Optimization restart 8/10, f = 28.91443634033203\n",
      "Optimization restart 9/10, f = 28.9144344329834\n",
      "Optimization restart 10/10, f = 28.914430618286133\n"
     ]
    },
    {
     "data": {
      "text/plain": [
       "[<paramz.optimization.optimization.opt_lbfgsb at 0x1311bdc90>,\n",
       " <paramz.optimization.optimization.opt_lbfgsb at 0x131b93bd0>,\n",
       " <paramz.optimization.optimization.opt_lbfgsb at 0x1310cd310>,\n",
       " <paramz.optimization.optimization.opt_lbfgsb at 0x1316a4190>,\n",
       " <paramz.optimization.optimization.opt_lbfgsb at 0x130ebd550>,\n",
       " <paramz.optimization.optimization.opt_lbfgsb at 0x131104e90>,\n",
       " <paramz.optimization.optimization.opt_lbfgsb at 0x13117e050>,\n",
       " <paramz.optimization.optimization.opt_lbfgsb at 0x131145490>,\n",
       " <paramz.optimization.optimization.opt_lbfgsb at 0x1310f0890>,\n",
       " <paramz.optimization.optimization.opt_lbfgsb at 0x131b93dd0>,\n",
       " <paramz.optimization.optimization.opt_lbfgsb at 0x13116ee10>]"
      ]
     },
     "execution_count": 46,
     "metadata": {},
     "output_type": "execute_result"
    }
   ],
   "source": [
    "q.optimize_restarts(num_restarts = 10)"
   ]
  },
  {
   "cell_type": "code",
   "execution_count": 47,
   "metadata": {},
   "outputs": [
    {
     "name": "stderr",
     "output_type": "stream",
     "text": [
      " /usr/local/lib/python3.7/site-packages/jax/lax/lax.py:4578: UserWarning:Explicitly requested dtype float requested in astype is not available, and will be truncated to dtype float32. To enable more dtypes, set the jax_enable_x64 configuration option or the JAX_ENABLE_X64 shell environment variable. See https://github.com/google/jax#current-gotchas for more.\n"
     ]
    }
   ],
   "source": [
    "a, b = q.predict(x_test_new.reshape(-1,1))\n",
    "a = a.reshape(100,)\n",
    "b = b.reshape(100,)"
   ]
  },
  {
   "cell_type": "code",
   "execution_count": 48,
   "metadata": {},
   "outputs": [
    {
     "data": {
      "text/plain": [
       "<matplotlib.collections.PolyCollection at 0x1311a2ed0>"
      ]
     },
     "execution_count": 48,
     "metadata": {},
     "output_type": "execute_result"
    },
    {
     "data": {
      "image/png": "[encoded data removed]",
      "text/plain": [
       "<Figure size 576x396 with 1 Axes>"
      ]
     },
     "metadata": {
      "needs_background": "light"
     },
     "output_type": "display_data"
    }
   ],
   "source": [
    "plt.plot(x_test_new, a)\n",
    "plt.fill_between(x_test_new, a + 1.96*b, a - 1.96*b, alpha=0.3)"
   ]
  },
  {
   "cell_type": "code",
   "execution_count": 35,
   "metadata": {},
   "outputs": [
    {
     "data": {
      "text/plain": [
       "(100, 1)"
      ]
     },
     "execution_count": 35,
     "metadata": {},
     "output_type": "execute_result"
    }
   ],
   "source": [
    "a.shape"
   ]
  },
  {
   "cell_type": "code",
   "execution_count": 49,
   "metadata": {},
   "outputs": [
    {
     "data": {
      "text/plain": [
       "[<matplotlib.lines.Line2D at 0x131b4edd0>]"
      ]
     },
     "execution_count": 49,
     "metadata": {},
     "output_type": "execute_result"
    },
    {
     "data": {
      "image/png": "[encoded data removed]",
      "text/plain": [
       "<Figure size 576x396 with 1 Axes>"
      ]
     },
     "metadata": {
      "needs_background": "light"
     },
     "output_type": "display_data"
    }
   ],
   "source": [
    "x_train = x_train\n",
    "x_test_new = nn.normalize(np.linspace(0, 10, 100))\n",
    "y_train = y_train\n",
    "Kst = K(squared_distance, x_test_new, x_train)\n",
    "Ktt = K(squared_distance, x_train, x_train) + np.eye(x_train.shape[0]) * 2.3\n",
    "Kts = K(squared_distance, x_train, x_test_new)\n",
    "Kss = K(squared_distance, x_test_new, x_test_new)\n",
    "mu = np.dot(np.dot(Kst, np.linalg.inv(Ktt)), y_train)\n",
    "Ktt_inv = np.linalg.inv(Ktt)\n",
    "var = Kss - np.dot(np.dot(Kst, Ktt_inv), Kts)\n",
    "std = np.sqrt(np.diag(var))\n",
    "plt.plot(x_test_new, mu)\n",
    "plt.fill_between(x_test_new, mu + 1.96*std, mu - 1.96*std, alpha=0.5)\n",
    "plt.plot(x_train, y_train, 'o')"
   ]
  },
  {
   "cell_type": "markdown",
   "metadata": {},
   "source": [
    "Though both the approaches are learning to predict the uncertanity. But the biggest hurdel in this process is optimizing for hyperparameters and extracting them."
   ]
  },
  {
   "cell_type": "code",
   "execution_count": null,
   "metadata": {},
   "outputs": [],
   "source": []
  }
 ],
 "metadata": {
  "kernelspec": {
   "display_name": "Python 3",
   "language": "python",
   "name": "python3"
  },
  "language_info": {
   "codemirror_mode": {
    "name": "ipython",
    "version": 3
   },
   "file_extension": ".py",
   "mimetype": "text/x-python",
   "name": "python",
   "nbconvert_exporter": "python",
   "pygments_lexer": "ipython3",
   "version": "3.7.7"
  }
 },
 "nbformat": 4,
 "nbformat_minor": 4
}
