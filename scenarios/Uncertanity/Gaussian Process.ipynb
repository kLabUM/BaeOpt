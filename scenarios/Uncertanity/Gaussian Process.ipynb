{
 "cells": [
  {
   "cell_type": "markdown",
   "metadata": {},
   "source": [
    "# Gaussian Process with Noise"
   ]
  },
  {
   "cell_type": "code",
   "execution_count": 1,
   "metadata": {},
   "outputs": [],
   "source": [
    "import numpy as onp\n",
    "import matplotlib.pyplot as plt\n",
    "%matplotlib notebook"
   ]
  },
  {
   "cell_type": "markdown",
   "metadata": {},
   "source": [
    "## Generate function with noise"
   ]
  },
  {
   "cell_type": "markdown",
   "metadata": {},
   "source": [
    "$$ y = m x + \\mathcal{N}(\\mu, \\sigma) $$"
   ]
  },
  {
   "cell_type": "code",
   "execution_count": 2,
   "metadata": {},
   "outputs": [],
   "source": [
    "def f(x):\n",
    "    y = 0.80 * x + onp.random.normal(0.0, 1.0)\n",
    "    return y\n",
    "f = onp.vectorize(f)"
   ]
  },
  {
   "cell_type": "code",
   "execution_count": 3,
   "metadata": {},
   "outputs": [],
   "source": [
    "x_train = onp.random.choice(onp.linspace(0, 10, 100), 25)\n",
    "x_test = onp.random.choice(onp.linspace(0, 10, 100), 15)\n",
    "y_train = f(x_train)"
   ]
  },
  {
   "cell_type": "code",
   "execution_count": 4,
   "metadata": {},
   "outputs": [
    {
     "data": {
      "text/plain": [
       "<matplotlib.collections.PolyCollection at 0x119e65510>"
      ]
     },
     "execution_count": 4,
     "metadata": {},
     "output_type": "execute_result"
    },
    {
     "data": {
      "image/png": "[encoded data removed]",
      "text/plain": [
       "<Figure size 432x288 with 1 Axes>"
      ]
     },
     "metadata": {
      "needs_background": "light"
     },
     "output_type": "display_data"
    }
   ],
   "source": [
    "plt.plot(x_train, y_train, 'x')\n",
    "plt.plot(x_train, 0.80*x_train)\n",
    "x_space = onp.linspace(0, 10, 100)\n",
    "plt.fill_between(x_space, 0.80*x_space + 1.96*1.0, 0.80*x_space - 1.96*1.0, alpha=0.5)"
   ]
  },
  {
   "cell_type": "markdown",
   "metadata": {},
   "source": [
    "## Train GP to estimate mean and uncertanity"
   ]
  },
  {
   "cell_type": "code",
   "execution_count": 5,
   "metadata": {},
   "outputs": [
    {
     "name": "stderr",
     "output_type": "stream",
     "text": [
      "/usr/local/lib/python3.7/site-packages/jax/lib/xla_bridge.py:118: UserWarning: No GPU/TPU found, falling back to CPU.\n",
      "  warnings.warn('No GPU/TPU found, falling back to CPU.')\n"
     ]
    }
   ],
   "source": [
    "import jax.numpy as np\n",
    "from jax import grad, jit, vmap\n",
    "import jax.scipy as scipy\n",
    "from jax import random\n",
    "key = random.PRNGKey(0)"
   ]
  },
  {
   "cell_type": "code",
   "execution_count": 41,
   "metadata": {},
   "outputs": [],
   "source": [
    "# Vectorizes kernel computation\n",
    "def cov_map(cov_func, xs, xs2=None, params=None):\n",
    "    if params is None:\n",
    "        if xs2 is None:\n",
    "            return vmap(lambda x:vmap(lambda y: cov_func(x, y))(xs))(xs)\n",
    "        else:\n",
    "            return vmap(lambda x: vmap(lambda y: cov_func(x, y))(xs))(xs2).T\n",
    "    else:\n",
    "        if xs2 is None:\n",
    "            return vmap(lambda x:vmap(lambda y: cov_func(x, y))(xs))(xs)\n",
    "        else:\n",
    "            return vmap(lambda x: vmap(lambda y: cov_func(x, y))(xs))(xs2).T        "
   ]
  },
  {
   "cell_type": "markdown",
   "metadata": {},
   "source": [
    "`vmap` function by defaults maps over the 0 index axis and this dictates the shape of the input data. Default option can be updated to support different array shapes."
   ]
  },
  {
   "cell_type": "markdown",
   "metadata": {},
   "source": [
    "### Kernel Functions"
   ]
  },
  {
   "cell_type": "code",
   "execution_count": 7,
   "metadata": {},
   "outputs": [],
   "source": [
    "def sqrd_exp(x, xs, params):\n",
    "    return params[\"sigma_kernel\"]**2 * np.exp(-np.sum((x-xs)**2)/(2*params[\"lengthscale\"]))"
   ]
  },
  {
   "cell_type": "markdown",
   "metadata": {},
   "source": [
    "**Test kernel implementation**"
   ]
  },
  {
   "cell_type": "code",
   "execution_count": 8,
   "metadata": {},
   "outputs": [],
   "source": [
    "x = np.array(np.ones(2))\n",
    "xs = np.array(np.ones(3))"
   ]
  },
  {
   "cell_type": "code",
   "execution_count": 9,
   "metadata": {},
   "outputs": [
    {
     "data": {
      "text/plain": [
       "DeviceArray([[1., 1., 1.],\n",
       "             [1., 1., 1.]], dtype=float32)"
      ]
     },
     "execution_count": 9,
     "metadata": {},
     "output_type": "execute_result"
    }
   ],
   "source": [
    "par = {'sigma_kernel':1.0, 'lengthscale':1.0}\n",
    "cov_map(sqrd_exp, x, xs, par)"
   ]
  },
  {
   "cell_type": "markdown",
   "metadata": {},
   "source": [
    "That looks about right"
   ]
  },
  {
   "cell_type": "code",
   "execution_count": 10,
   "metadata": {},
   "outputs": [],
   "source": [
    "def GP(X, y, params, xtest=None, compute_ml=False):\n",
    "    noise = params[\"noise\"]\n",
    "    num_pts = X.shape[0]\n",
    "    eye = np.eye(num_pts)\n",
    "    K = cov_map(sqrd_exp, X, params=params) + eye * noise\n",
    "    L = scipy.linalg.cholesky(K, lower=True)\n",
    "    alpha = scipy.linalg.solve_triangular(L.T, scipy.linalg.solve_triangular(L, y, lower=True))\n",
    "    # Compute Marginal Likelyhood\n",
    "    if compute_ml:\n",
    "        log2pi = np.log(2.0 * np.pi)\n",
    "        ml = np.sum(-0.5 * np.dot(y.T, alpha) - np.sum(np.log(np.diag(L))) - 0.5 * num_pts * log2pi)\n",
    "        return ml"
   ]
  },
  {
   "cell_type": "code",
   "execution_count": 11,
   "metadata": {},
   "outputs": [],
   "source": [
    "noise = 0.5 \n",
    "num_pts = x_train.shape[0]"
   ]
  },
  {
   "cell_type": "code",
   "execution_count": 12,
   "metadata": {},
   "outputs": [
    {
     "data": {
      "text/plain": [
       "25"
      ]
     },
     "execution_count": 12,
     "metadata": {},
     "output_type": "execute_result"
    }
   ],
   "source": [
    "num_pts"
   ]
  },
  {
   "cell_type": "code",
   "execution_count": 13,
   "metadata": {},
   "outputs": [],
   "source": [
    "eye = np.eye(num_pts)"
   ]
  },
  {
   "cell_type": "code",
   "execution_count": 14,
   "metadata": {},
   "outputs": [],
   "source": [
    "par = {'sigma_kernel':1.0, 'lengthscale':1.0}"
   ]
  },
  {
   "cell_type": "code",
   "execution_count": 15,
   "metadata": {},
   "outputs": [],
   "source": [
    "K = cov_map(sqrd_exp, x_train, params=par) + eye * noise"
   ]
  },
  {
   "cell_type": "code",
   "execution_count": 16,
   "metadata": {},
   "outputs": [
    {
     "data": {
      "text/plain": [
       "(25, 25)"
      ]
     },
     "execution_count": 16,
     "metadata": {},
     "output_type": "execute_result"
    }
   ],
   "source": [
    "K.shape"
   ]
  },
  {
   "cell_type": "code",
   "execution_count": 17,
   "metadata": {},
   "outputs": [],
   "source": [
    "L = scipy.linalg.cholesky(K, lower=True)"
   ]
  },
  {
   "cell_type": "code",
   "execution_count": 18,
   "metadata": {},
   "outputs": [
    {
     "data": {
      "text/plain": [
       "(25, 25)"
      ]
     },
     "execution_count": 18,
     "metadata": {},
     "output_type": "execute_result"
    }
   ],
   "source": [
    "L.shape"
   ]
  },
  {
   "cell_type": "code",
   "execution_count": 19,
   "metadata": {},
   "outputs": [],
   "source": [
    "alpha = scipy.linalg.solve_triangular(L.T, scipy.linalg.solve_triangular(L, y_train, lower=True))"
   ]
  },
  {
   "cell_type": "code",
   "execution_count": 20,
   "metadata": {},
   "outputs": [
    {
     "data": {
      "text/plain": [
       "(25,)"
      ]
     },
     "execution_count": 20,
     "metadata": {},
     "output_type": "execute_result"
    }
   ],
   "source": [
    "alpha.shape"
   ]
  },
  {
   "cell_type": "code",
   "execution_count": 21,
   "metadata": {},
   "outputs": [],
   "source": [
    "log2pi = np.log(2.0 * np.pi)"
   ]
  },
  {
   "cell_type": "code",
   "execution_count": 22,
   "metadata": {},
   "outputs": [],
   "source": [
    "ml = (-0.5 * np.dot(y_train.T, alpha) - np.sum(np.log(np.diag(L))) - 0.5 * num_pts * log2pi)"
   ]
  },
  {
   "cell_type": "code",
   "execution_count": 23,
   "metadata": {},
   "outputs": [
    {
     "data": {
      "text/plain": [
       "DeviceArray(-92.79142, dtype=float32)"
      ]
     },
     "execution_count": 23,
     "metadata": {},
     "output_type": "execute_result"
    }
   ],
   "source": [
    "ml"
   ]
  },
  {
   "cell_type": "code",
   "execution_count": 24,
   "metadata": {},
   "outputs": [],
   "source": [
    "k_star = cov_map(sqrd_exp, x_train, np.linspace(0, 10, 10), par)"
   ]
  },
  {
   "cell_type": "code",
   "execution_count": 25,
   "metadata": {},
   "outputs": [],
   "source": [
    "mu_pred = np.dot(k_star.T, alpha)"
   ]
  },
  {
   "cell_type": "code",
   "execution_count": 26,
   "metadata": {},
   "outputs": [
    {
     "data": {
      "text/plain": [
       "[<matplotlib.lines.Line2D at 0x133c52350>]"
      ]
     },
     "execution_count": 26,
     "metadata": {},
     "output_type": "execute_result"
    },
    {
     "data": {
      "image/png": "[encoded data removed]",
      "text/plain": [
       "<Figure size 432x288 with 1 Axes>"
      ]
     },
     "metadata": {
      "needs_background": "light"
     },
     "output_type": "display_data"
    }
   ],
   "source": [
    "plt.plot(np.linspace(0, 10, 10), mu_pred, 'x')"
   ]
  },
  {
   "cell_type": "code",
   "execution_count": 27,
   "metadata": {},
   "outputs": [],
   "source": [
    "v = scipy.linalg.solve_triangular(L, k_star, lower=True)\n",
    "var = cov_map(sqrd_exp, np.linspace(0, 10, 10), params=par) - np.dot(v.T, v)"
   ]
  },
  {
   "cell_type": "code",
   "execution_count": 28,
   "metadata": {},
   "outputs": [
    {
     "data": {
      "text/plain": [
       "DeviceArray([[ 6.50554776e-01,  8.79148543e-02, -5.84813729e-02,\n",
       "               4.64148214e-03, -1.13168871e-03,  1.88005404e-04,\n",
       "               8.44376555e-05, -1.09673720e-05,  1.95023517e-06,\n",
       "              -2.95389185e-07],\n",
       "             [ 8.79148543e-02,  3.66428912e-01,  1.94216073e-01,\n",
       "              -1.30435005e-02,  3.13037215e-03, -4.34893387e-04,\n",
       "              -3.35259683e-04,  6.36476761e-05, -7.96704717e-06,\n",
       "               1.77506263e-06],\n",
       "             [-5.84813729e-02,  1.94216073e-01,  3.47065508e-01,\n",
       "               8.30358267e-03, -2.78755277e-03,  2.88750557e-03,\n",
       "              -2.60372134e-03,  9.00496205e-04, -6.64592735e-05,\n",
       "               2.59544158e-05],\n",
       "             [ 4.64148214e-03, -1.30435005e-02,  8.30358267e-03,\n",
       "               8.95085931e-02,  5.40828705e-03, -4.51632589e-03,\n",
       "               3.50608048e-03, -1.25958316e-03,  9.01691310e-05,\n",
       "              -3.63671570e-05],\n",
       "             [-1.13168871e-03,  3.13037215e-03, -2.78755277e-03,\n",
       "               5.40828705e-03,  9.43903327e-02,  1.67512894e-02,\n",
       "              -1.20821148e-02,  4.40378860e-03, -3.08424846e-04,\n",
       "               1.27500607e-04],\n",
       "             [ 1.88005404e-04, -4.34893387e-04,  2.88750557e-03,\n",
       "              -4.51632589e-03,  1.67512894e-02,  1.39782429e-01,\n",
       "               5.03031909e-02, -1.54608116e-02,  1.15292496e-03,\n",
       "              -4.47329890e-04],\n",
       "             [ 8.44376555e-05, -3.35259683e-04, -2.60372134e-03,\n",
       "               3.50608048e-03, -1.20821148e-02,  5.03031909e-02,\n",
       "               1.38396502e-01, -1.44219398e-02, -2.83810496e-03,\n",
       "              -4.37786803e-05],\n",
       "             [-1.09673720e-05,  6.36476761e-05,  9.00496205e-04,\n",
       "              -1.25958316e-03,  4.40378860e-03, -1.54608116e-02,\n",
       "              -1.44219398e-02,  1.67037070e-01,  2.92943716e-02,\n",
       "              -5.33866882e-03],\n",
       "             [ 1.95023517e-06, -7.96704717e-06, -6.64592735e-05,\n",
       "               9.01691310e-05, -3.08424846e-04,  1.15292496e-03,\n",
       "              -2.83810496e-03,  2.92943716e-02,  1.19669676e-01,\n",
       "               1.31541491e-03],\n",
       "             [-2.95389185e-07,  1.77506263e-06,  2.59544158e-05,\n",
       "              -3.63671570e-05,  1.27500607e-04, -4.47329890e-04,\n",
       "              -4.37786803e-05, -5.33866882e-03,  1.31541491e-03,\n",
       "               2.17171788e-01]], dtype=float32)"
      ]
     },
     "execution_count": 28,
     "metadata": {},
     "output_type": "execute_result"
    }
   ],
   "source": [
    "var"
   ]
  },
  {
   "cell_type": "code",
   "execution_count": 29,
   "metadata": {},
   "outputs": [],
   "source": [
    "var_test = cov_map(sqrd_exp, np.linspace(0, 10, 10), params=par)"
   ]
  },
  {
   "cell_type": "code",
   "execution_count": 30,
   "metadata": {},
   "outputs": [
    {
     "data": {
      "text/plain": [
       "(10, 10)"
      ]
     },
     "execution_count": 30,
     "metadata": {},
     "output_type": "execute_result"
    }
   ],
   "source": [
    "var_test.shape"
   ]
  },
  {
   "cell_type": "code",
   "execution_count": 35,
   "metadata": {},
   "outputs": [],
   "source": [
    "Kss = cov_map(sqrd_exp, np.linspace(0, 10, 10), params=par)\n",
    "Kst = cov_map(sqrd_exp, np.linspace(0, 10, 10), x_train, params=par)\n",
    "Ktt = cov_map(sqrd_exp, x_train, params=par)\n",
    "Kts = cov_map(sqrd_exp, x_train, np.linspace(0, 10, 10), params=par)"
   ]
  },
  {
   "cell_type": "code",
   "execution_count": 36,
   "metadata": {},
   "outputs": [],
   "source": [
    "cov_test = Kss - np.dot(Kst, np.dot(np.linalg.inv(Ktt), Kts))"
   ]
  },
  {
   "cell_type": "code",
   "execution_count": 37,
   "metadata": {},
   "outputs": [
    {
     "data": {
      "text/plain": [
       "(10, 10)"
      ]
     },
     "execution_count": 37,
     "metadata": {},
     "output_type": "execute_result"
    }
   ],
   "source": [
    "Kss.shape"
   ]
  },
  {
   "cell_type": "markdown",
   "metadata": {},
   "source": [
    "Kernel is not psd."
   ]
  },
  {
   "cell_type": "code",
   "execution_count": 52,
   "metadata": {},
   "outputs": [],
   "source": [
    "def squared_exponential(xp, xq):\n",
    "    return np.exp(-0.5*np.sum(xp - xq)**2)"
   ]
  },
  {
   "cell_type": "code",
   "execution_count": 69,
   "metadata": {},
   "outputs": [],
   "source": [
    "Kss = cov_map(squared_exponential, np.linspace(0, 10, 10))\n",
    "Kst = cov_map(squared_exponential, np.linspace(0, 10, 10), x_train)\n",
    "Ktt = cov_map(squared_exponential, x_train, params=par)\n",
    "Kts = cov_map(squared_exponential, x_train, np.linspace(0, 10, 10))"
   ]
  },
  {
   "cell_type": "code",
   "execution_count": 70,
   "metadata": {},
   "outputs": [],
   "source": [
    "cov_test = Kss - np.dot(Kst, np.dot(np.linalg.inv(Ktt), Kts))"
   ]
  },
  {
   "cell_type": "code",
   "execution_count": 71,
   "metadata": {},
   "outputs": [
    {
     "data": {
      "text/plain": [
       "DeviceArray([ 7.9746246e+00+0.0000000e+00j,  5.9919133e+00+0.0000000e+00j,\n",
       "              4.2404327e+00+0.0000000e+00j,  3.1090286e+00+0.0000000e+00j,\n",
       "              1.3505733e+00+0.0000000e+00j,  1.0281143e+00+0.0000000e+00j,\n",
       "              9.1320437e-01+0.0000000e+00j,  2.3757449e-01+0.0000000e+00j,\n",
       "              1.0539339e-01+0.0000000e+00j,  3.1329073e-02+0.0000000e+00j,\n",
       "              1.4458482e-02+0.0000000e+00j,  2.4695990e-03+0.0000000e+00j,\n",
       "              7.5576280e-04+0.0000000e+00j,  1.1294214e-04+0.0000000e+00j,\n",
       "              2.0122978e-05+0.0000000e+00j,  3.7448488e-06+0.0000000e+00j,\n",
       "              1.3629225e-06+0.0000000e+00j, -9.9948444e-08+0.0000000e+00j,\n",
       "             -8.9010932e-08+3.5821738e-08j, -8.9010932e-08-3.5821738e-08j,\n",
       "              1.1154956e-07+3.9923531e-08j,  1.1154956e-07-3.9923531e-08j,\n",
       "              5.4745328e-08+3.1695123e-08j,  5.4745328e-08-3.1695123e-08j,\n",
       "             -9.3121999e-09+0.0000000e+00j], dtype=complex64)"
      ]
     },
     "execution_count": 71,
     "metadata": {},
     "output_type": "execute_result"
    }
   ],
   "source": [
    "np.linalg.eigvals(Ktt)"
   ]
  },
  {
   "cell_type": "code",
   "execution_count": 68,
   "metadata": {},
   "outputs": [
    {
     "data": {
      "text/plain": [
       "DeviceArray([1.        , 0.9999923 , 0.9953944 , 0.76645553, 0.0095011 ,\n",
       "             0.33126366, 0.00600863, 0.00262922, 0.00116605, 0.49072462],            dtype=float32)"
      ]
     },
     "execution_count": 68,
     "metadata": {},
     "output_type": "execute_result"
    }
   ],
   "source": [
    "np.diag(cov_test)"
   ]
  },
  {
   "cell_type": "markdown",
   "metadata": {},
   "source": [
    "There seems to be something weird going on. Let me start with kernel and redo it.\n",
    "1. It could be mean, let me move the data into 0 mean catogy."
   ]
  },
  {
   "cell_type": "code",
   "execution_count": null,
   "metadata": {},
   "outputs": [],
   "source": []
  }
 ],
 "metadata": {
  "kernelspec": {
   "display_name": "Python 3",
   "language": "python",
   "name": "python3"
  },
  "language_info": {
   "codemirror_mode": {
    "name": "ipython",
    "version": 3
   },
   "file_extension": ".py",
   "mimetype": "text/x-python",
   "name": "python",
   "nbconvert_exporter": "python",
   "pygments_lexer": "ipython3",
   "version": "3.7.6"
  }
 },
 "nbformat": 4,
 "nbformat_minor": 2
}
