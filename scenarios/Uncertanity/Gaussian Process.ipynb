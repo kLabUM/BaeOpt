{
 "cells": [
  {
   "cell_type": "markdown",
   "metadata": {},
   "source": [
    "# Gaussian Process with Noise"
   ]
  },
  {
   "cell_type": "code",
   "execution_count": 6,
   "metadata": {},
   "outputs": [],
   "source": [
    "import numpy as onp\n",
    "import matplotlib.pyplot as plt\n",
    "import seaborn\n",
    "plt.style.use('seaborn-notebook')"
   ]
  },
  {
   "cell_type": "markdown",
   "metadata": {},
   "source": [
    "## Generate function with noise"
   ]
  },
  {
   "cell_type": "markdown",
   "metadata": {},
   "source": [
    "$$ y = m x + \\mathcal{N}(\\mu, \\sigma) $$"
   ]
  },
  {
   "cell_type": "code",
   "execution_count": 3,
   "metadata": {},
   "outputs": [],
   "source": [
    "def f(x):\n",
    "    y = 0.80 * x + onp.random.normal(0.0, 1.0)\n",
    "    return y\n",
    "f = onp.vectorize(f)"
   ]
  },
  {
   "cell_type": "code",
   "execution_count": 4,
   "metadata": {},
   "outputs": [],
   "source": [
    "x_train = onp.random.choice(onp.linspace(0, 10, 100), 10)\n",
    "x_test = onp.random.choice(onp.linspace(0, 10, 100), 5)\n",
    "y_train = f(x_train)"
   ]
  },
  {
   "cell_type": "code",
   "execution_count": 9,
   "metadata": {},
   "outputs": [
    {
     "data": {
      "image/png": "[encoded data removed]",
      "text/plain": [
       "<Figure size 576x396 with 1 Axes>"
      ]
     },
     "metadata": {
      "needs_background": "light"
     },
     "output_type": "display_data"
    }
   ],
   "source": [
    "plt.plot(x_train, y_train, 'o')\n",
    "plt.plot(x_train, 0.80*x_train)\n",
    "x_space = onp.linspace(0, 10, 100)\n",
    "plt.fill_between(x_space, 0.80*x_space + 1.96*1.0, 0.80*x_space - 1.96*1.0, alpha=0.1)\n",
    "plt.show()"
   ]
  },
  {
   "cell_type": "markdown",
   "metadata": {},
   "source": [
    "## Train GP to estimate mean and uncertanity"
   ]
  },
  {
   "cell_type": "code",
   "execution_count": 15,
   "metadata": {},
   "outputs": [],
   "source": [
    "import jax.numpy as np\n",
    "from jax import grad, jit, vmap\n",
    "import jax.scipy as scipy\n",
    "from jax import random\n",
    "import jax.ops as ops\n",
    "key = random.PRNGKey(0)"
   ]
  },
  {
   "cell_type": "code",
   "execution_count": 11,
   "metadata": {},
   "outputs": [],
   "source": [
    "# Vectorizes kernel computation\n",
    "def cov_map(cov_func, xs, xs2=None, params=None):\n",
    "    if params is None:\n",
    "        if xs2 is None:\n",
    "            return vmap(lambda x:vmap(lambda y: cov_func(x, y))(xs))(xs)\n",
    "        else:\n",
    "            return vmap(lambda x: vmap(lambda y: cov_func(x, y))(xs))(xs2).T\n",
    "    else:\n",
    "        if xs2 is None:\n",
    "            return vmap(lambda x:vmap(lambda y: cov_func(x, y))(xs))(xs)\n",
    "        else:\n",
    "            return vmap(lambda x: vmap(lambda y: cov_func(x, y))(xs))(xs2).T        "
   ]
  },
  {
   "cell_type": "markdown",
   "metadata": {},
   "source": [
    "`vmap` function by defaults maps over the 0 index axis and this dictates the shape of the input data. Default option can be updated to support different array shapes."
   ]
  },
  {
   "cell_type": "markdown",
   "metadata": {},
   "source": [
    "### Kernel Functions"
   ]
  },
  {
   "cell_type": "code",
   "execution_count": 7,
   "metadata": {},
   "outputs": [],
   "source": [
    "def sqrd_exp(x, xs, params):\n",
    "    return params[\"sigma_kernel\"]**2 * np.exp(-np.sum((x-xs)**2)/(2*params[\"lengthscale\"]))"
   ]
  },
  {
   "cell_type": "markdown",
   "metadata": {},
   "source": [
    "**Test kernel implementation**"
   ]
  },
  {
   "cell_type": "code",
   "execution_count": 8,
   "metadata": {},
   "outputs": [],
   "source": [
    "x = np.array(np.ones(2))\n",
    "xs = np.array(np.ones(3))"
   ]
  },
  {
   "cell_type": "code",
   "execution_count": 9,
   "metadata": {},
   "outputs": [
    {
     "data": {
      "text/plain": [
       "DeviceArray([[1., 1., 1.],\n",
       "             [1., 1., 1.]], dtype=float32)"
      ]
     },
     "execution_count": 9,
     "metadata": {},
     "output_type": "execute_result"
    }
   ],
   "source": [
    "par = {'sigma_kernel':1.0, 'lengthscale':1.0}\n",
    "cov_map(sqrd_exp, x, xs, par)"
   ]
  },
  {
   "cell_type": "markdown",
   "metadata": {},
   "source": [
    "That looks about right"
   ]
  },
  {
   "cell_type": "code",
   "execution_count": 10,
   "metadata": {},
   "outputs": [],
   "source": [
    "def GP(X, y, params, xtest=None, compute_ml=False):\n",
    "    noise = params[\"noise\"]\n",
    "    num_pts = X.shape[0]\n",
    "    eye = np.eye(num_pts)\n",
    "    K = cov_map(sqrd_exp, X, params=params) + eye * noise\n",
    "    L = scipy.linalg.cholesky(K, lower=True)\n",
    "    alpha = scipy.linalg.solve_triangular(L.T, scipy.linalg.solve_triangular(L, y, lower=True))\n",
    "    # Compute Marginal Likelyhood\n",
    "    if compute_ml:\n",
    "        log2pi = np.log(2.0 * np.pi)\n",
    "        ml = np.sum(-0.5 * np.dot(y.T, alpha) - np.sum(np.log(np.diag(L))) - 0.5 * num_pts * log2pi)\n",
    "        return ml"
   ]
  },
  {
   "cell_type": "code",
   "execution_count": 11,
   "metadata": {},
   "outputs": [],
   "source": [
    "noise = 0.5 \n",
    "num_pts = x_train.shape[0]"
   ]
  },
  {
   "cell_type": "code",
   "execution_count": 12,
   "metadata": {},
   "outputs": [
    {
     "data": {
      "text/plain": [
       "25"
      ]
     },
     "execution_count": 12,
     "metadata": {},
     "output_type": "execute_result"
    }
   ],
   "source": [
    "num_pts"
   ]
  },
  {
   "cell_type": "code",
   "execution_count": 13,
   "metadata": {},
   "outputs": [],
   "source": [
    "eye = np.eye(num_pts)"
   ]
  },
  {
   "cell_type": "code",
   "execution_count": 14,
   "metadata": {},
   "outputs": [],
   "source": [
    "par = {'sigma_kernel':1.0, 'lengthscale':1.0}"
   ]
  },
  {
   "cell_type": "code",
   "execution_count": 15,
   "metadata": {},
   "outputs": [],
   "source": [
    "K = cov_map(sqrd_exp, x_train, params=par) + eye * noise"
   ]
  },
  {
   "cell_type": "code",
   "execution_count": 16,
   "metadata": {},
   "outputs": [
    {
     "data": {
      "text/plain": [
       "(25, 25)"
      ]
     },
     "execution_count": 16,
     "metadata": {},
     "output_type": "execute_result"
    }
   ],
   "source": [
    "K.shape"
   ]
  },
  {
   "cell_type": "code",
   "execution_count": 17,
   "metadata": {},
   "outputs": [],
   "source": [
    "L = scipy.linalg.cholesky(K, lower=True)"
   ]
  },
  {
   "cell_type": "code",
   "execution_count": 18,
   "metadata": {},
   "outputs": [
    {
     "data": {
      "text/plain": [
       "(25, 25)"
      ]
     },
     "execution_count": 18,
     "metadata": {},
     "output_type": "execute_result"
    }
   ],
   "source": [
    "L.shape"
   ]
  },
  {
   "cell_type": "code",
   "execution_count": 19,
   "metadata": {},
   "outputs": [],
   "source": [
    "alpha = scipy.linalg.solve_triangular(L.T, scipy.linalg.solve_triangular(L, y_train, lower=True))"
   ]
  },
  {
   "cell_type": "code",
   "execution_count": 20,
   "metadata": {},
   "outputs": [
    {
     "data": {
      "text/plain": [
       "(25,)"
      ]
     },
     "execution_count": 20,
     "metadata": {},
     "output_type": "execute_result"
    }
   ],
   "source": [
    "alpha.shape"
   ]
  },
  {
   "cell_type": "code",
   "execution_count": 21,
   "metadata": {},
   "outputs": [],
   "source": [
    "log2pi = np.log(2.0 * np.pi)"
   ]
  },
  {
   "cell_type": "code",
   "execution_count": 22,
   "metadata": {},
   "outputs": [],
   "source": [
    "ml = (-0.5 * np.dot(y_train.T, alpha) - np.sum(np.log(np.diag(L))) - 0.5 * num_pts * log2pi)"
   ]
  },
  {
   "cell_type": "code",
   "execution_count": 23,
   "metadata": {},
   "outputs": [
    {
     "data": {
      "text/plain": [
       "DeviceArray(-92.79142, dtype=float32)"
      ]
     },
     "execution_count": 23,
     "metadata": {},
     "output_type": "execute_result"
    }
   ],
   "source": [
    "ml"
   ]
  },
  {
   "cell_type": "code",
   "execution_count": 24,
   "metadata": {},
   "outputs": [],
   "source": [
    "k_star = cov_map(sqrd_exp, x_train, np.linspace(0, 10, 10), par)"
   ]
  },
  {
   "cell_type": "code",
   "execution_count": 25,
   "metadata": {},
   "outputs": [],
   "source": [
    "mu_pred = np.dot(k_star.T, alpha)"
   ]
  },
  {
   "cell_type": "code",
   "execution_count": 26,
   "metadata": {},
   "outputs": [
    {
     "data": {
      "text/plain": [
       "[<matplotlib.lines.Line2D at 0x133c52350>]"
      ]
     },
     "execution_count": 26,
     "metadata": {},
     "output_type": "execute_result"
    },
    {
     "data": {
      "image/png": "[encoded data removed]",
      "text/plain": [
       "<Figure size 432x288 with 1 Axes>"
      ]
     },
     "metadata": {
      "needs_background": "light"
     },
     "output_type": "display_data"
    }
   ],
   "source": [
    "plt.plot(np.linspace(0, 10, 10), mu_pred, 'x')"
   ]
  },
  {
   "cell_type": "code",
   "execution_count": 27,
   "metadata": {},
   "outputs": [],
   "source": [
    "v = scipy.linalg.solve_triangular(L, k_star, lower=True)\n",
    "var = cov_map(sqrd_exp, np.linspace(0, 10, 10), params=par) - np.dot(v.T, v)"
   ]
  },
  {
   "cell_type": "code",
   "execution_count": 28,
   "metadata": {},
   "outputs": [
    {
     "data": {
      "text/plain": [
       "DeviceArray([[ 6.50554776e-01,  8.79148543e-02, -5.84813729e-02,\n",
       "               4.64148214e-03, -1.13168871e-03,  1.88005404e-04,\n",
       "               8.44376555e-05, -1.09673720e-05,  1.95023517e-06,\n",
       "              -2.95389185e-07],\n",
       "             [ 8.79148543e-02,  3.66428912e-01,  1.94216073e-01,\n",
       "              -1.30435005e-02,  3.13037215e-03, -4.34893387e-04,\n",
       "              -3.35259683e-04,  6.36476761e-05, -7.96704717e-06,\n",
       "               1.77506263e-06],\n",
       "             [-5.84813729e-02,  1.94216073e-01,  3.47065508e-01,\n",
       "               8.30358267e-03, -2.78755277e-03,  2.88750557e-03,\n",
       "              -2.60372134e-03,  9.00496205e-04, -6.64592735e-05,\n",
       "               2.59544158e-05],\n",
       "             [ 4.64148214e-03, -1.30435005e-02,  8.30358267e-03,\n",
       "               8.95085931e-02,  5.40828705e-03, -4.51632589e-03,\n",
       "               3.50608048e-03, -1.25958316e-03,  9.01691310e-05,\n",
       "              -3.63671570e-05],\n",
       "             [-1.13168871e-03,  3.13037215e-03, -2.78755277e-03,\n",
       "               5.40828705e-03,  9.43903327e-02,  1.67512894e-02,\n",
       "              -1.20821148e-02,  4.40378860e-03, -3.08424846e-04,\n",
       "               1.27500607e-04],\n",
       "             [ 1.88005404e-04, -4.34893387e-04,  2.88750557e-03,\n",
       "              -4.51632589e-03,  1.67512894e-02,  1.39782429e-01,\n",
       "               5.03031909e-02, -1.54608116e-02,  1.15292496e-03,\n",
       "              -4.47329890e-04],\n",
       "             [ 8.44376555e-05, -3.35259683e-04, -2.60372134e-03,\n",
       "               3.50608048e-03, -1.20821148e-02,  5.03031909e-02,\n",
       "               1.38396502e-01, -1.44219398e-02, -2.83810496e-03,\n",
       "              -4.37786803e-05],\n",
       "             [-1.09673720e-05,  6.36476761e-05,  9.00496205e-04,\n",
       "              -1.25958316e-03,  4.40378860e-03, -1.54608116e-02,\n",
       "              -1.44219398e-02,  1.67037070e-01,  2.92943716e-02,\n",
       "              -5.33866882e-03],\n",
       "             [ 1.95023517e-06, -7.96704717e-06, -6.64592735e-05,\n",
       "               9.01691310e-05, -3.08424846e-04,  1.15292496e-03,\n",
       "              -2.83810496e-03,  2.92943716e-02,  1.19669676e-01,\n",
       "               1.31541491e-03],\n",
       "             [-2.95389185e-07,  1.77506263e-06,  2.59544158e-05,\n",
       "              -3.63671570e-05,  1.27500607e-04, -4.47329890e-04,\n",
       "              -4.37786803e-05, -5.33866882e-03,  1.31541491e-03,\n",
       "               2.17171788e-01]], dtype=float32)"
      ]
     },
     "execution_count": 28,
     "metadata": {},
     "output_type": "execute_result"
    }
   ],
   "source": [
    "var"
   ]
  },
  {
   "cell_type": "code",
   "execution_count": 29,
   "metadata": {},
   "outputs": [],
   "source": [
    "var_test = cov_map(sqrd_exp, np.linspace(0, 10, 10), params=par)"
   ]
  },
  {
   "cell_type": "code",
   "execution_count": 30,
   "metadata": {},
   "outputs": [
    {
     "data": {
      "text/plain": [
       "(10, 10)"
      ]
     },
     "execution_count": 30,
     "metadata": {},
     "output_type": "execute_result"
    }
   ],
   "source": [
    "var_test.shape"
   ]
  },
  {
   "cell_type": "code",
   "execution_count": 35,
   "metadata": {},
   "outputs": [],
   "source": [
    "Kss = cov_map(sqrd_exp, np.linspace(0, 10, 10), params=par)\n",
    "Kst = cov_map(sqrd_exp, np.linspace(0, 10, 10), x_train, params=par)\n",
    "Ktt = cov_map(sqrd_exp, x_train, params=par)\n",
    "Kts = cov_map(sqrd_exp, x_train, np.linspace(0, 10, 10), params=par)"
   ]
  },
  {
   "cell_type": "code",
   "execution_count": 36,
   "metadata": {},
   "outputs": [],
   "source": [
    "cov_test = Kss - np.dot(Kst, np.dot(np.linalg.inv(Ktt), Kts))"
   ]
  },
  {
   "cell_type": "code",
   "execution_count": 37,
   "metadata": {},
   "outputs": [
    {
     "data": {
      "text/plain": [
       "(10, 10)"
      ]
     },
     "execution_count": 37,
     "metadata": {},
     "output_type": "execute_result"
    }
   ],
   "source": [
    "Kss.shape"
   ]
  },
  {
   "cell_type": "markdown",
   "metadata": {},
   "source": [
    "Kernel is not psd."
   ]
  },
  {
   "cell_type": "code",
   "execution_count": 12,
   "metadata": {},
   "outputs": [],
   "source": [
    "def squared_exponential(xp, xq):\n",
    "    return np.exp(-0.5*np.sum(xp - xq)**2)"
   ]
  },
  {
   "cell_type": "code",
   "execution_count": 69,
   "metadata": {},
   "outputs": [],
   "source": [
    "Kss = cov_map(squared_exponential, np.linspace(0, 10, 10))\n",
    "Kst = cov_map(squared_exponential, np.linspace(0, 10, 10), x_train)\n",
    "Ktt = cov_map(squared_exponential, x_train, params=par)\n",
    "Kts = cov_map(squared_exponential, x_train, np.linspace(0, 10, 10))"
   ]
  },
  {
   "cell_type": "code",
   "execution_count": 70,
   "metadata": {},
   "outputs": [],
   "source": [
    "cov_test = Kss - np.dot(Kst, np.dot(np.linalg.inv(Ktt), Kts))"
   ]
  },
  {
   "cell_type": "code",
   "execution_count": 71,
   "metadata": {},
   "outputs": [
    {
     "data": {
      "text/plain": [
       "DeviceArray([ 7.9746246e+00+0.0000000e+00j,  5.9919133e+00+0.0000000e+00j,\n",
       "              4.2404327e+00+0.0000000e+00j,  3.1090286e+00+0.0000000e+00j,\n",
       "              1.3505733e+00+0.0000000e+00j,  1.0281143e+00+0.0000000e+00j,\n",
       "              9.1320437e-01+0.0000000e+00j,  2.3757449e-01+0.0000000e+00j,\n",
       "              1.0539339e-01+0.0000000e+00j,  3.1329073e-02+0.0000000e+00j,\n",
       "              1.4458482e-02+0.0000000e+00j,  2.4695990e-03+0.0000000e+00j,\n",
       "              7.5576280e-04+0.0000000e+00j,  1.1294214e-04+0.0000000e+00j,\n",
       "              2.0122978e-05+0.0000000e+00j,  3.7448488e-06+0.0000000e+00j,\n",
       "              1.3629225e-06+0.0000000e+00j, -9.9948444e-08+0.0000000e+00j,\n",
       "             -8.9010932e-08+3.5821738e-08j, -8.9010932e-08-3.5821738e-08j,\n",
       "              1.1154956e-07+3.9923531e-08j,  1.1154956e-07-3.9923531e-08j,\n",
       "              5.4745328e-08+3.1695123e-08j,  5.4745328e-08-3.1695123e-08j,\n",
       "             -9.3121999e-09+0.0000000e+00j], dtype=complex64)"
      ]
     },
     "execution_count": 71,
     "metadata": {},
     "output_type": "execute_result"
    }
   ],
   "source": [
    "np.linalg.eigvals(Ktt)"
   ]
  },
  {
   "cell_type": "code",
   "execution_count": 68,
   "metadata": {},
   "outputs": [
    {
     "data": {
      "text/plain": [
       "DeviceArray([1.        , 0.9999923 , 0.9953944 , 0.76645553, 0.0095011 ,\n",
       "             0.33126366, 0.00600863, 0.00262922, 0.00116605, 0.49072462],            dtype=float32)"
      ]
     },
     "execution_count": 68,
     "metadata": {},
     "output_type": "execute_result"
    }
   ],
   "source": [
    "np.diag(cov_test)"
   ]
  },
  {
   "cell_type": "markdown",
   "metadata": {},
   "source": [
    "There seems to be something weird going on. Let me start with kernel and redo it.\n",
    "1. It could be mean, let me move the data into 0 mean catogy.\n",
    "2. KERNEL might also be doing it"
   ]
  },
  {
   "cell_type": "code",
   "execution_count": 19,
   "metadata": {},
   "outputs": [],
   "source": [
    "x = onp.random.choice(onp.linspace(0, 10, 100), 10)\n",
    "k = np.zeros((10,10))\n",
    "for i in range(0, 10):\n",
    "    for j in range(0, 10):\n",
    "        k = ops.index_update(k, ops.index[i,j], squared_exponential(x[i], x[j]))"
   ]
  },
  {
   "cell_type": "code",
   "execution_count": 21,
   "metadata": {},
   "outputs": [
    {
     "data": {
      "text/plain": [
       "DeviceArray([2.6209006e+00+0.j, 4.4493527e+00+0.j, 1.0490260e+00+0.j,\n",
       "             9.7405779e-01+0.j, 3.7331805e-01+0.j, 5.0275064e-01+0.j,\n",
       "             5.5258200e-03+0.j, 2.4994131e-02+0.j, 7.0829010e-05+0.j,\n",
       "             2.5766471e-07+0.j], dtype=complex64)"
      ]
     },
     "execution_count": 21,
     "metadata": {},
     "output_type": "execute_result"
    }
   ],
   "source": [
    "np.linalg.eigvals(k)"
   ]
  },
  {
   "cell_type": "code",
   "execution_count": 22,
   "metadata": {},
   "outputs": [
    {
     "data": {
      "text/plain": [
       "DeviceArray([[ 1.0393669e+02, -2.4122520e+01,  4.7955147e+01,\n",
       "              -5.0934952e+01,  3.2988861e-01,  1.2372744e-01,\n",
       "              -8.5855927e+01, -2.4159134e+01, -2.6427847e-01,\n",
       "               2.7216640e+01],\n",
       "             [-2.4007200e+01,  4.7133394e+05, -9.0767488e+05,\n",
       "               9.0142188e+05, -7.4993896e+01, -3.1287095e+03,\n",
       "               1.8342859e+01,  7.9346075e+00,  2.9024053e+03,\n",
       "              -4.6487366e+05],\n",
       "             [ 4.7744411e+01, -9.0789931e+05,  1.7518515e+06,\n",
       "              -1.7465666e+06,  1.4914200e+02,  5.9120601e+03,\n",
       "              -3.6479435e+01, -1.5779968e+01, -5.7293369e+03,\n",
       "               9.0244356e+05],\n",
       "             [-5.0748764e+01,  9.0210112e+05, -1.7474455e+06,\n",
       "               1.7558041e+06, -1.5852132e+02, -5.6671499e+03,\n",
       "               3.8774952e+01,  1.6772907e+01,  5.9919883e+03,\n",
       "              -9.1074675e+05],\n",
       "             [ 3.2988855e-01, -7.5353188e+01,  1.4979843e+02,\n",
       "              -1.5910101e+02,  1.0279359e+00,  3.8654241e-01,\n",
       "              -2.5206226e-01, -1.0901530e-01, -8.2527828e-01,\n",
       "               8.5012665e+01],\n",
       "             [ 1.2262500e-01, -3.1220078e+03,  5.8976675e+03,\n",
       "              -5.6498354e+03,  3.8310474e-01,  2.6614494e+01,\n",
       "              -9.3692251e-02, -4.0529031e-02, -1.5675217e+01,\n",
       "               2.8649976e+03],\n",
       "             [-8.5855927e+01,  1.8430988e+01, -3.6640491e+01,\n",
       "               3.8917252e+01, -2.5206235e-01, -9.4534703e-02,\n",
       "               7.2698990e+01,  1.8779543e+01,  2.0192480e-01,\n",
       "              -2.0795092e+01],\n",
       "             [-2.4159134e+01,  7.9727354e+00, -1.5849644e+01,\n",
       "               1.6834463e+01, -1.0901533e-01, -4.0893450e-02,\n",
       "               1.8779543e+01,  7.3946867e+00,  8.7345041e-02,\n",
       "              -8.9953375e+00],\n",
       "             [-2.6409233e-01,  2.9127090e+03, -5.7478032e+03,\n",
       "               6.0075269e+03, -8.2470304e-01, -1.5784541e+01,\n",
       "               2.0178242e-01,  8.7283440e-02,  2.7275219e+01,\n",
       "              -3.1820632e+03],\n",
       "             [ 2.7126692e+01, -4.6534391e+05,  9.0312781e+05,\n",
       "              -9.1097600e+05,  8.4732651e+01,  2.8747195e+03,\n",
       "              -2.0726347e+01, -8.9655991e+00, -3.1747852e+03,\n",
       "               4.7345978e+05]], dtype=float32)"
      ]
     },
     "execution_count": 22,
     "metadata": {},
     "output_type": "execute_result"
    }
   ],
   "source": [
    "np.linalg.inv(k)"
   ]
  },
  {
   "cell_type": "markdown",
   "metadata": {},
   "source": [
    "Seems like a psd. "
   ]
  },
  {
   "cell_type": "code",
   "execution_count": null,
   "metadata": {},
   "outputs": [],
   "source": []
  }
 ],
 "metadata": {
  "kernelspec": {
   "display_name": "Python 3",
   "language": "python",
   "name": "python3"
  },
  "language_info": {
   "codemirror_mode": {
    "name": "ipython",
    "version": 3
   },
   "file_extension": ".py",
   "mimetype": "text/x-python",
   "name": "python",
   "nbconvert_exporter": "python",
   "pygments_lexer": "ipython3",
   "version": "3.7.6"
  }
 },
 "nbformat": 4,
 "nbformat_minor": 4
}
