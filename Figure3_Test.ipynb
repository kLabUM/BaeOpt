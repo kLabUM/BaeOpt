{
 "cells": [
  {
   "cell_type": "code",
   "execution_count": 1,
   "metadata": {},
   "outputs": [],
   "source": [
    "import numpy as np\n",
    "import scipy as spy\n",
    "import matplotlib.pyplot as plt\n",
    "%matplotlib notebook\n",
    "%config InlineBackend.print_figure_kwargs = {}\n",
    "import seaborn as sns\n",
    "import pandas as pd\n",
    "from pyswmm_lite import Env\n",
    "import pickle\n",
    "from automate_objective import generate_targets, generate_weights\n",
    "from utilities_baeopt import swmm_execute\n",
    "import matplotlib.pyplot as plt\n",
    "from GPyOpt.methods import BayesianOptimization\n",
    "import requests\n",
    "np.random.seed(42)"
   ]
  },
  {
   "cell_type": "code",
   "execution_count": 2,
   "metadata": {},
   "outputs": [],
   "source": [
    "def generate_waves(window_len, cycles, magnitude = 1.0):\n",
    "    half_wave = np.hstack((np.sin(np.linspace(0, 1.0, window_len)*np.pi),np.zeros([window_len]))) * magnitude\n",
    "    flow = np.zeros([2*window_len*cycles])\n",
    "    counter = 0\n",
    "    for i in range(0, cycles):\n",
    "        start_dim = counter\n",
    "        end_dim = counter+(2*window_len)\n",
    "        flow[start_dim:end_dim] = half_wave\n",
    "        counter = counter+(2*window_len)\n",
    "    return flow"
   ]
  },
  {
   "cell_type": "code",
   "execution_count": 3,
   "metadata": {},
   "outputs": [],
   "source": [
    "ensemble = [generate_waves(100, 1, i) for i in np.linspace(0.1, 1.0, 20)]"
   ]
  },
  {
   "cell_type": "code",
   "execution_count": 4,
   "metadata": {},
   "outputs": [
    {
     "data": {
      "image/png": "[encoded data removed]",
      "text/plain": [
       "<Figure size 432x288 with 1 Axes>"
      ]
     },
     "metadata": {
      "needs_background": "light"
     },
     "output_type": "display_data"
    }
   ],
   "source": [
    "plt.plot(ensemble[0])\n",
    "plt.plot(ensemble[-1])\n",
    "plt.fill_between(np.linspace(0, 200, 200), ensemble[0], ensemble[-1])\n",
    "plt.show()"
   ]
  },
  {
   "cell_type": "markdown",
   "metadata": {},
   "source": [
    "Let us assume that we are expecting the rainfall to be bounded between these curves. So when the agent samples for an acquision, it can experience any rainfall in the bounded region."
   ]
  },
  {
   "cell_type": "markdown",
   "metadata": {},
   "source": [
    "**This would just be for input uncertanity, we will model the model uncertanity in the next session.**"
   ]
  },
  {
   "cell_type": "code",
   "execution_count": 5,
   "metadata": {},
   "outputs": [],
   "source": [
    "# Create the objective function \n",
    "NODES_LIS = {\"P1\":\"1\", \"P2\":\"2\"}\n",
    "def swmm_execute(x,\n",
    "        inflow,\n",
    "        ctrl_elemnts = [\"P1\"],\n",
    "        network=\"./networks/parallel.inp\",\n",
    "        meta_data=NODES_LIS):\n",
    "    \"\"\"\n",
    "    Run the controlled simuation\n",
    "\n",
    "    Parameters:\n",
    "    ------------------------------------------------\n",
    "    x : control actions  \n",
    "    network : path to network \n",
    "    meta_data : nodes list \n",
    "\n",
    "    Returns:\n",
    "    ------------------------------------------------\n",
    "    data: Dict of pandas dataframe with keys as outflow, depth, flooding\n",
    "    and inflows \n",
    "\n",
    "    \"\"\"\n",
    "    env = Env(network)\n",
    "\n",
    "    data = {}\n",
    "    data[\"outflows\"] = {}\n",
    "    data[\"inflows\"] = {}\n",
    "    data[\"flooding\"] = {}\n",
    "    data[\"depth\"] = {}\n",
    "\n",
    "    for attribute in data.keys():\n",
    "        for node in meta_data.keys():\n",
    "            data[attribute][node] = []\n",
    "    \n",
    "    # Set the valve positions \n",
    "    valve_positions = []\n",
    "    for i in range(0, x.shape[1]):\n",
    "        valve_positions.append(x[0][i])\n",
    "\n",
    "    for time in range(0, len(inflow)):\n",
    "        env.sim._model.setNodeInflow(\"P1\", 3*inflow[time])\n",
    "        env.sim._model.setNodeInflow(\"P2\", 0.0)\n",
    "        done = env.step()\n",
    "\n",
    "        for valve,valve_position in zip(ctrl_elemnts, valve_positions):\n",
    "            env.set_gate(NODES_LIS[valve], valve_position)\n",
    "\n",
    "        # record the data\n",
    "        for node in NODES_LIS.keys():\n",
    "            data[\"outflows\"][node].append(env.flow(NODES_LIS[node]))\n",
    "            data[\"flooding\"][node].append(env.get_flooding(node))\n",
    "            data[\"depth\"][node].append(env.depthN(node))\n",
    "            data[\"inflows\"][node].append(env.get_inflow(node))\n",
    "\n",
    "    data[\"error\"] = env.sim._model.runoff_routing_stats()\n",
    "    env.terminate()\n",
    "    \n",
    "    # Convert to data frames \n",
    "    data[\"outflows\"] = pd.DataFrame.from_dict(data[\"outflows\"])\n",
    "    data[\"inflows\"]  = pd.DataFrame.from_dict(data[\"inflows\"])\n",
    "    data[\"flooding\"] = pd.DataFrame.from_dict(data[\"flooding\"])\n",
    "    data[\"depth\"] = pd.DataFrame.from_dict(data[\"depth\"])\n",
    "\n",
    "    return data"
   ]
  },
  {
   "cell_type": "code",
   "execution_count": 6,
   "metadata": {},
   "outputs": [],
   "source": [
    "data = swmm_execute(np.asarray([[1.0]]), ensemble[-1])"
   ]
  },
  {
   "cell_type": "code",
   "execution_count": 7,
   "metadata": {},
   "outputs": [
    {
     "data": {
      "text/plain": [
       "[<matplotlib.lines.Line2D at 0x1257928d0>,\n",
       " <matplotlib.lines.Line2D at 0x125792a20>]"
      ]
     },
     "execution_count": 7,
     "metadata": {},
     "output_type": "execute_result"
    },
    {
     "data": {
      "image/png": "[encoded data removed]",
      "text/plain": [
       "<Figure size 432x288 with 1 Axes>"
      ]
     },
     "metadata": {
      "needs_background": "light"
     },
     "output_type": "display_data"
    }
   ],
   "source": [
    "plt.plot(data[\"outflows\"])"
   ]
  },
  {
   "cell_type": "code",
   "execution_count": 8,
   "metadata": {},
   "outputs": [],
   "source": [
    "def performance_measure(data):\n",
    "    outflows = data[\"outflows\"]\n",
    "    flooding = data[\"flooding\"]\n",
    "    # Get the performance metric \n",
    "    perforamce  = 0.0\n",
    "    # Check if there is flooding in the assets \n",
    "    flooding = flooding.gt(0.0)\n",
    "    flooding = flooding.any()\n",
    "    if flooding.any(): \n",
    "        perforamce += 10**8\n",
    "    # Estimate the perfomance from the flows\n",
    "    outflows = outflows.sub(0.5)\n",
    "    outflows[outflows < 0.0] = 0.0\n",
    "    outflows = outflows.sum()\n",
    "    for i in outflows.keys():\n",
    "        perforamce += outflows[i]\n",
    "    return perforamce"
   ]
  },
  {
   "cell_type": "code",
   "execution_count": 9,
   "metadata": {},
   "outputs": [],
   "source": [
    "def objective_function(x):\n",
    "    # Run SWMM and get the trajectories \n",
    "    rain_choice = int(np.random.choice(20, 1))\n",
    "    inflow = ensemble[rain_choice]\n",
    "    data = swmm_execute(x, inflow)\n",
    "    obj_value = performance_measure(data)\n",
    "    return obj_value\n",
    "\n",
    "# Create the domain\n",
    "domain = []\n",
    "for i in range(1, 2):\n",
    "    domain.append({'name': 'var_'+str(i), 'type': 'continuous', 'domain': (0.0, 1.0)})"
   ]
  },
  {
   "cell_type": "code",
   "execution_count": 10,
   "metadata": {},
   "outputs": [],
   "source": [
    "# Solve the bayesian optimization \n",
    "myBopt = BayesianOptimization(f=objective_function, domain=domain, model_type = 'GP', acquisition_type='EI')"
   ]
  },
  {
   "cell_type": "code",
   "execution_count": 11,
   "metadata": {},
   "outputs": [],
   "source": [
    "save_path = \".\"\n",
    "myBopt.run_optimization(save_path, max_iter=50, save_inter_models=False, intervals=10, verbosity=False)"
   ]
  },
  {
   "cell_type": "code",
   "execution_count": 12,
   "metadata": {},
   "outputs": [
    {
     "data": {
      "text/plain": [
       "array([0.19158286])"
      ]
     },
     "execution_count": 12,
     "metadata": {},
     "output_type": "execute_result"
    }
   ],
   "source": [
    "myBopt.x_opt"
   ]
  },
  {
   "cell_type": "code",
   "execution_count": null,
   "metadata": {},
   "outputs": [],
   "source": []
  },
  {
   "cell_type": "code",
   "execution_count": 14,
   "metadata": {},
   "outputs": [],
   "source": [
    "random_performance = []\n",
    "for i in range(0, 50):\n",
    "    random_performance.append(objective_function(myBopt.x_opt.reshape(1,1)))"
   ]
  },
  {
   "cell_type": "code",
   "execution_count": 15,
   "metadata": {},
   "outputs": [
    {
     "data": {
      "text/plain": [
       "(array([12.,  2.,  0.,  7.,  3.,  1.,  6.,  4.,  7.,  8.]),\n",
       " array([ 0.        ,  5.21240926, 10.42481851, 15.63722777, 20.84963703,\n",
       "        26.06204628, 31.27445554, 36.48686479, 41.69927405, 46.91168331,\n",
       "        52.12409256]),\n",
       " <a list of 10 Patch objects>)"
      ]
     },
     "execution_count": 15,
     "metadata": {},
     "output_type": "execute_result"
    },
    {
     "data": {
      "image/png": "[encoded data removed]",
      "text/plain": [
       "<Figure size 432x288 with 1 Axes>"
      ]
     },
     "metadata": {
      "needs_background": "light"
     },
     "output_type": "display_data"
    }
   ],
   "source": [
    "plt.hist(random_performance)"
   ]
  },
  {
   "cell_type": "code",
   "execution_count": 16,
   "metadata": {},
   "outputs": [],
   "source": [
    "random_performance = np.asarray(random_performance)\n",
    "random_performance = random_performance"
   ]
  },
  {
   "cell_type": "code",
   "execution_count": 17,
   "metadata": {},
   "outputs": [
    {
     "data": {
      "text/plain": [
       "26.899882147847705"
      ]
     },
     "execution_count": 17,
     "metadata": {},
     "output_type": "execute_result"
    }
   ],
   "source": [
    "random_performance.mean()"
   ]
  },
  {
   "cell_type": "code",
   "execution_count": 18,
   "metadata": {},
   "outputs": [
    {
     "data": {
      "text/plain": [
       "18.49162169226696"
      ]
     },
     "execution_count": 18,
     "metadata": {},
     "output_type": "execute_result"
    }
   ],
   "source": [
    "np.std(random_performance, dtype=np.float64)"
   ]
  },
  {
   "cell_type": "markdown",
   "metadata": {},
   "source": [
    "There is a limit to which the uncertanity in the rainfall impacts the performance metric. Unless there is a significant impact from the rainfall onto the performance. Bayesian optimization would fail to recoungnize the uncertanity bounds."
   ]
  },
  {
   "cell_type": "code",
   "execution_count": null,
   "metadata": {},
   "outputs": [],
   "source": []
  }
 ],
 "metadata": {
  "kernelspec": {
   "display_name": "Python 3",
   "language": "python",
   "name": "python3"
  },
  "language_info": {
   "codemirror_mode": {
    "name": "ipython",
    "version": 3
   },
   "file_extension": ".py",
   "mimetype": "text/x-python",
   "name": "python",
   "nbconvert_exporter": "python",
   "pygments_lexer": "ipython3",
   "version": "3.7.3"
  }
 },
 "nbformat": 4,
 "nbformat_minor": 2
}
