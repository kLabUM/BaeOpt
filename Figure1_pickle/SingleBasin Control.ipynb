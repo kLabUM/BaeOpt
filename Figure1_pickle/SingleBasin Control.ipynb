{
 "cells": [
  {
   "cell_type": "code",
   "execution_count": 2,
   "metadata": {},
   "outputs": [
    {
     "ename": "ModuleNotFoundError",
     "evalue": "No module named 'scenarios'",
     "output_type": "error",
     "traceback": [
      "\u001b[0;31m---------------------------------------------------------------------------\u001b[0m",
      "\u001b[0;31mModuleNotFoundError\u001b[0m                       Traceback (most recent call last)",
      "\u001b[0;32m<ipython-input-2-2e352ac71340>\u001b[0m in \u001b[0;36m<module>\u001b[0;34m\u001b[0m\n\u001b[1;32m      4\u001b[0m \u001b[0;32mimport\u001b[0m \u001b[0mpandas\u001b[0m \u001b[0;32mas\u001b[0m \u001b[0mpd\u001b[0m\u001b[0;34m\u001b[0m\u001b[0;34m\u001b[0m\u001b[0m\n\u001b[1;32m      5\u001b[0m \u001b[0;32mimport\u001b[0m \u001b[0mpickle\u001b[0m\u001b[0;34m\u001b[0m\u001b[0;34m\u001b[0m\u001b[0m\n\u001b[0;32m----> 6\u001b[0;31m \u001b[0;32mfrom\u001b[0m \u001b[0mscenarios\u001b[0m \u001b[0;32mimport\u001b[0m \u001b[0mAASinglePond\u001b[0m\u001b[0;34m\u001b[0m\u001b[0;34m\u001b[0m\u001b[0m\n\u001b[0m\u001b[1;32m      7\u001b[0m \u001b[0;32mfrom\u001b[0m \u001b[0mGPyOpt\u001b[0m\u001b[0;34m.\u001b[0m\u001b[0mmethods\u001b[0m \u001b[0;32mimport\u001b[0m \u001b[0mBayesianOptimization\u001b[0m\u001b[0;34m\u001b[0m\u001b[0;34m\u001b[0m\u001b[0m\n",
      "\u001b[0;31mModuleNotFoundError\u001b[0m: No module named 'scenarios'"
     ]
    }
   ],
   "source": [
    "import numpy as np\n",
    "import matplotlib.pyplot as plt\n",
    "import seaborn as sns \n",
    "import pandas as pd\n",
    "import pickle\n",
    "from scenarios import AASinglePond\n",
    "from GPyOpt.methods import BayesianOptimization"
   ]
  },
  {
   "cell_type": "code",
   "execution_count": null,
   "metadata": {},
   "outputs": [],
   "source": [
    "# Load the picked bayesian models\n",
    "domain = [{'name': 'var_1', 'type': 'continuous', 'domain': (0.0, 1.0)}]\n",
    "# Define the performance \n",
    "def f_loss(x):\n",
    "    \"\"\"\n",
    "    Objective to be optimized by the bayesian optimizer\n",
    "\n",
    "    Params:\n",
    "    ---------------------------------------------------\n",
    "    x     : (ndarray) valve positions \n",
    "\n",
    "    Returns:\n",
    "    ---------------------------------------------------\n",
    "    loss  : (float) performance metric \n",
    "    \"\"\"\n",
    "    outflow, overflow1, depth= AASinglePond(x[0][0])\n",
    "    loss = 0.0\n",
    "    for i,j in zip(outflow, depth):\n",
    "        if i > 4:\n",
    "            loss += 10\n",
    "        else:\n",
    "            loss += 0\n",
    "        loss += j\n",
    "    loss += (overflow1)*100.0\n",
    "    return loss\n",
    "myBopt = BayesianOptimization(f=f_loss,\n",
    "    domain=domain,\n",
    "    model_type = 'GP',\n",
    "    acquisition_type='EI',\n",
    "    acquisition_weight = 1)"
   ]
  },
  {
   "cell_type": "code",
   "execution_count": null,
   "metadata": {},
   "outputs": [],
   "source": []
  }
 ],
 "metadata": {
  "kernelspec": {
   "display_name": "Python 3",
   "language": "python",
   "name": "python3"
  },
  "language_info": {
   "codemirror_mode": {
    "name": "ipython",
    "version": 3
   },
   "file_extension": ".py",
   "mimetype": "text/x-python",
   "name": "python",
   "nbconvert_exporter": "python",
   "pygments_lexer": "ipython3",
   "version": "3.7.3"
  }
 },
 "nbformat": 4,
 "nbformat_minor": 2
}
