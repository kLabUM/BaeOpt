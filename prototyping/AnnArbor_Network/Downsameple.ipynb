{
 "cells": [
  {
   "cell_type": "code",
   "execution_count": 1,
   "metadata": {},
   "outputs": [],
   "source": [
    "# Plotting Libraries \n",
    "import matplotlib.pyplot as plt\n",
    "%matplotlib notebook\n",
    "%config InlineBackend.print_figure_kwargs = {}\n",
    "import seaborn as sns\n",
    "sns.set_style(\"whitegrid\")\n",
    "\n",
    "# Pyswmm engine with ICC \n",
    "from pyswmm_lite import Env\n",
    "\n",
    "# Bayesian Optimization\n",
    "import numpy as np\n",
    "from GPyOpt.methods import BayesianOptimization\n",
    "import tslearn.metrics as ts\n",
    "import copy\n",
    "# Nodes as List\n",
    "NODES_LIS = {'93-49743' : 'OR39',\n",
    "             '93-49868' : 'OR34',\n",
    "             '93-49919' : 'OR44',\n",
    "             '93-49921' : 'OR45',\n",
    "             '93-50074' : 'OR38',\n",
    "             '93-50076' : 'OR46',\n",
    "             '93-50077' : 'OR48',\n",
    "             '93-50081' : 'OR47',\n",
    "             '93-50225' : 'OR36',\n",
    "             '93-90357' : 'OR43',\n",
    "             '93-90358' : 'OR35'}\n",
    "\n",
    "def run_swmm(valve_set1, valve_set2, valve_set3, valve_set4):\n",
    "    env = Env(\"./aa_0360min_025yr.inp\")\n",
    "\n",
    "    data = {}\n",
    "    data[\"f1\"] = []\n",
    "    data[\"f2\"] = []\n",
    "    data[\"f3\"] = []\n",
    "    data[\"f4\"] = []\n",
    "    data[\"overflow1\"]  = []\n",
    "    data[\"overflow2\"]  = []\n",
    "    data[\"overflow3\"]  = []\n",
    "    data[\"overflow4\"]  = []\n",
    "    done = False\n",
    "    for time in range(0, 35000):\n",
    "        # set the gate_position \n",
    "        env.set_gate(NODES_LIS[\"93-50077\"], valve_set1)\n",
    "        env.set_gate(NODES_LIS[\"93-50076\"], valve_set2)\n",
    "        env.set_gate(NODES_LIS[\"93-50081\"], valve_set3)\n",
    "        env.set_gate(NODES_LIS[\"93-49921\"], valve_set4)\n",
    "        \n",
    "        # record_data\n",
    "        data[\"f1\"].append(env.flow(NODES_LIS[\"93-50077\"]))\n",
    "        data[\"f2\"].append(env.flow(NODES_LIS[\"93-50076\"]))\n",
    "        data[\"f4\"].append(env.flow(NODES_LIS[\"93-49921\"]))\n",
    "        data[\"f3\"].append(env.flow(NODES_LIS[\"93-50081\"]))\n",
    "        \n",
    "        data[\"overflow1\"].append(env.sim._model.getNodeResult(\"93-50077\", 4))\n",
    "        data[\"overflow2\"].append(env.sim._model.getNodeResult(\"93-50076\", 4))\n",
    "        data[\"overflow4\"].append(env.sim._model.getNodeResult(\"93-49921\", 4))\n",
    "        data[\"overflow3\"].append(env.sim._model.getNodeResult(\"93-50081\", 4))\n",
    "        \n",
    "        # step through simulation\n",
    "        done = env.step()\n",
    "        \n",
    "    overflows = {}\n",
    "    overflows[\"o1\"] = sum(data[\"overflow1\"])\n",
    "    overflows[\"o2\"] = sum(data[\"overflow2\"])\n",
    "    overflows[\"o3\"] = sum(data[\"overflow3\"])\n",
    "    overflows[\"o4\"] = sum(data[\"overflow4\"])\n",
    "    \n",
    "    env.reset()\n",
    "    \n",
    "    return data, overflows"
   ]
  },
  {
   "cell_type": "code",
   "execution_count": 2,
   "metadata": {},
   "outputs": [],
   "source": [
    "# Plot the uncontrolled reponse \n",
    "un_data, un_overflow = run_swmm(1.0, 1.0, 1.0, 1.0)"
   ]
  },
  {
   "cell_type": "code",
   "execution_count": 3,
   "metadata": {},
   "outputs": [],
   "source": [
    "import scipy.signal as spy"
   ]
  },
  {
   "cell_type": "code",
   "execution_count": 6,
   "metadata": {},
   "outputs": [],
   "source": [
    "target_dwn_sample = spy.decimate(un_data[\"f1\"], 50)"
   ]
  },
  {
   "cell_type": "code",
   "execution_count": 7,
   "metadata": {},
   "outputs": [
    {
     "data": {
      "text/plain": [
       "[<matplotlib.lines.Line2D at 0x2735edb390>]"
      ]
     },
     "execution_count": 7,
     "metadata": {},
     "output_type": "execute_result"
    },
    {
     "data": {
      "image/png": "[encoded data removed]",
      "text/plain": [
       "<Figure size 432x288 with 1 Axes>"
      ]
     },
     "metadata": {
      "needs_background": "light"
     },
     "output_type": "display_data"
    }
   ],
   "source": [
    "plt.plot(target_dwn_sample)"
   ]
  },
  {
   "cell_type": "code",
   "execution_count": 8,
   "metadata": {},
   "outputs": [],
   "source": [
    "un_data1, un_overflow1 = run_swmm(0.5, 1.0, 1.0, 1.0)"
   ]
  },
  {
   "cell_type": "code",
   "execution_count": 14,
   "metadata": {},
   "outputs": [
    {
     "data": {
      "text/plain": [
       "[<matplotlib.lines.Line2D at 0x2739290048>]"
      ]
     },
     "execution_count": 14,
     "metadata": {},
     "output_type": "execute_result"
    },
    {
     "data": {
      "image/png": "[encoded data removed]",
      "text/plain": [
       "<Figure size 432x288 with 1 Axes>"
      ]
     },
     "metadata": {
      "needs_background": "light"
     },
     "output_type": "display_data"
    }
   ],
   "source": [
    "target_dwn_sample = spy.decimate(un_data1[\"f1\"], 25)\n",
    "plt.plot(target_dwn_sample)"
   ]
  },
  {
   "cell_type": "code",
   "execution_count": null,
   "metadata": {},
   "outputs": [],
   "source": []
  }
 ],
 "metadata": {
  "kernelspec": {
   "display_name": "Python 3",
   "language": "python",
   "name": "python3"
  },
  "language_info": {
   "codemirror_mode": {
    "name": "ipython",
    "version": 3
   },
   "file_extension": ".py",
   "mimetype": "text/x-python",
   "name": "python",
   "nbconvert_exporter": "python",
   "pygments_lexer": "ipython3",
   "version": "3.6.5"
  }
 },
 "nbformat": 4,
 "nbformat_minor": 2
}
