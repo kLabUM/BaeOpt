{
 "cells": [
  {
   "cell_type": "code",
   "execution_count": null,
   "metadata": {},
   "outputs": [],
   "source": [
    "import numpy as np\n",
    "import scipy as spy\n",
    "import matplotlib.pyplot as plt\n",
    "%matplotlib notebook\n",
    "%config InlineBackend.print_figure_kwargs = {}\n",
    "import seaborn as sns\n",
    "import pandas as pd\n",
    "from pyswmm_lite import Env\n",
    "import pickle\n",
    "from automate_objective import generate_targets, generate_weights\n",
    "from utilities_baeopt import swmm_execute, uncontrolled_response\n",
    "import matplotlib.pyplot as plt\n",
    "from GPyOpt.methods import BayesianOptimization\n",
    "import requests\n",
    "np.random.seed(42)\n",
    "NODES_LIS = {'93-49743' : 'OR39',\n",
    "             '93-49868' : 'OR34',\n",
    "             '93-49919' : 'OR44',\n",
    "             '93-49921' : 'OR45',\n",
    "             '93-50074' : 'OR38',\n",
    "             '93-50076' : 'OR46',\n",
    "             '93-50077' : 'OR48',\n",
    "             '93-50081' : 'OR47',\n",
    "             '93-50225' : 'OR36',\n",
    "             '93-90357' : 'OR43',\n",
    "             '93-90358' : 'OR35'}\n",
    "\n",
    "def performance_metric(data, ctrl_weights, threshold=5.0, verbose=False):\n",
    "    \"\"\"\n",
    "    Computes performance metrics for the optimization \n",
    "    based on the threshold. \n",
    "\n",
    "    Parameters:\n",
    "    --------------------------------------------------\n",
    "    data: dict of pandas dataframes with outflows and flooding\n",
    "\n",
    "    Returns:\n",
    "    --------------------------------------------------\n",
    "    performance_metric : pefromance of the objetive \n",
    "    \"\"\"\n",
    "    outflows = data[\"outflows\"]\n",
    "    flooding = data[\"flooding\"]\n",
    "    # Get the performance metric \n",
    "    perforamce  = 0.0\n",
    "    # Check if there is flooding in the assets \n",
    "    flooding = flooding.gt(0.0)\n",
    "    flooding = flooding.any()\n",
    "    if flooding.any(): \n",
    "        if verbose:\n",
    "            # TODO print the quantity of flooding\n",
    "            print(\"Nodes with flooding: {}\".format(flooding[flooding == True].index))\n",
    "        perforamce += 10**8\n",
    "    # Estimate the perfomance from the flows\n",
    "    outflows = outflows.sub(threshold)\n",
    "    outflows[outflows < 0.0] = 0.0\n",
    "    outflows = outflows.sum()\n",
    "    for i in outflows.keys():\n",
    "        perforamce += outflows[i] * ctrl_weights[i]\n",
    "    return perforamce\n",
    "\n",
    "# Set up the objective function\n",
    "data_uncontrolled = np.load(\"./uncontrolled_flow_AA.npy\").item()\n",
    "inflows_uncontrolled = data_uncontrolled[\"inflows\"]\n",
    "# Control weights \n",
    "ctrl_weights = generate_weights(inflows_uncontrolled)\n",
    "\n",
    "# Set the threshold\n",
    "THRESHOLD = 5.0 \n",
    "ctrl_elements = ['93-50077']\n",
    "number_of_ctrl_elements = 1 \n",
    "save_path = \"./uncertain_single/\"\n",
    "def objective_function(x):\n",
    "    # Run SWMM and get the trajectories \n",
    "    # Pick a random snapshot \n",
    "    i = np.random.choice(np.linspace(1, 20, 20, dtype=int), 1)\n",
    "    data = swmm_execute(x, ctrl_elements, network=\"./raindata/\"+str(i[0])+\"runfile.inp\")\n",
    "    obj_value = performance_metric(data, ctrl_weights, THRESHOLD)\n",
    "    return obj_value\n",
    "\n",
    "# Create the domain\n",
    "domain = []\n",
    "for i in range(1, number_of_ctrl_elements+1):\n",
    "    domain.append({'name': 'var_'+str(i), 'type': 'continuous', 'domain': (0.0, 1.0)})\n",
    "\n",
    "# Solve the bayesian optimization \n",
    "myBopt = BayesianOptimization(f=objective_function, domain=domain, model_type = 'GP', acquisition_type='EI')"
   ]
  },
  {
   "cell_type": "code",
   "execution_count": 63,
   "metadata": {},
   "outputs": [],
   "source": [
    "f_open = open(\"./uncertain_single/Bayopt350\", 'rb')\n",
    "myBopt.__dict__.update(pickle.load(f_open))\n",
    "myBopt._compute_results()"
   ]
  },
  {
   "cell_type": "code",
   "execution_count": 64,
   "metadata": {},
   "outputs": [],
   "source": [
    "# Plot the convergence based on gpyopt \n",
    "def plot_acquisition(axis, model):\n",
    "    bounds = model.acquisition.space.get_bounds()\n",
    "\n",
    "    x_grid = np.arange(bounds[0][0], bounds[0][1], 0.001)\n",
    "    x_grid = x_grid.reshape(len(x_grid),1)\n",
    "    acqu = model.acquisition.acquisition_function(x_grid)\n",
    "    acqu_normalized = (-acqu - min(-acqu))/(max(-acqu - min(-acqu)))\n",
    "    m, v = model.model.predict(x_grid)\n",
    "\n",
    "    axis.plot(x_grid, m, 'k-',lw=1,color=\"#183661\", linewidth=1.0)\n",
    "    axis.fill_between(x_grid.reshape(-1), (m-1.96*np.sqrt(v)).reshape(-1), (m+1.96*np.sqrt(v)).reshape(-1), color=\"#3a9679\", alpha = 0.4)\n",
    "\n",
    "    factor = max(m+1.96*np.sqrt(v))-min(m-1.96*np.sqrt(v))\n",
    "    axis.plot(x_grid, 0.2*factor*acqu_normalized-abs(min(m-1.96*np.sqrt(v)))-0.25*factor,\n",
    "            'r-',lw=2)\n",
    "\n",
    "    axis.set_xlabel('Valve Setting')\n",
    "    axis.set_ylabel('Objective')\n",
    "    axis.set_ylim(min(m-1.96*np.sqrt(v))-0.25*factor,  max(m+1.96*np.sqrt(v))+0.05*factor)"
   ]
  },
  {
   "cell_type": "code",
   "execution_count": 65,
   "metadata": {},
   "outputs": [
    {
     "data": {
      "image/png": "[encoded data removed]",
      "text/plain": [
       "<Figure size 432x288 with 1 Axes>"
      ]
     },
     "metadata": {
      "needs_background": "light"
     },
     "output_type": "display_data"
    }
   ],
   "source": [
    "ax1 = plt.subplot2grid((1, 1), (0, 0))\n",
    "plot_acquisition(ax1, myBopt)\n",
    "sns.deps"
   ]
  },
  {
   "cell_type": "code",
   "execution_count": null,
   "metadata": {},
   "outputs": [],
   "source": []
  }
 ],
 "metadata": {
  "kernelspec": {
   "display_name": "Python 3",
   "language": "python",
   "name": "python3"
  },
  "language_info": {
   "codemirror_mode": {
    "name": "ipython",
    "version": 3
   },
   "file_extension": ".py",
   "mimetype": "text/x-python",
   "name": "python",
   "nbconvert_exporter": "python",
   "pygments_lexer": "ipython3",
   "version": "3.7.6"
  }
 },
 "nbformat": 4,
 "nbformat_minor": 2
}
