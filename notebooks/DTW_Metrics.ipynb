{
 "cells": [
  {
   "cell_type": "code",
   "execution_count": 1,
   "metadata": {},
   "outputs": [],
   "source": [
    "# Import the necessary library \n",
    "## Plotting Libraries \n",
    "import matplotlib.pyplot as plt\n",
    "%matplotlib notebook\n",
    "%config InlineBackend.print_figure_kwargs = {'bbox_inches':None}\n",
    "import seaborn as sns\n",
    "import scipy.signal as spy\n",
    "import scipy\n",
    "\n",
    "## Pyswmm engine with ICC \n",
    "from pyswmm_lite import Env\n",
    "\n",
    "## Bayesian Optimization\n",
    "import numpy as np\n",
    "from GPyOpt.methods import BayesianOptimization\n",
    "import tslearn.metrics as ts\n",
    "import copy"
   ]
  },
  {
   "cell_type": "code",
   "execution_count": 2,
   "metadata": {},
   "outputs": [],
   "source": [
    "NODES_LIS = {'93-49743' : 'OR39',\n",
    "             '93-49868' : 'OR34',\n",
    "             '93-49919' : 'OR44',\n",
    "             '93-49921' : 'OR45',\n",
    "             '93-50074' : 'OR38',\n",
    "             '93-50076' : 'OR46',\n",
    "             '93-50077' : 'OR48',\n",
    "             '93-50081' : 'OR47',\n",
    "             '93-50225' : 'OR36',\n",
    "             '93-90357' : 'OR43',\n",
    "             '93-90358' : 'OR35'}\n",
    "\n",
    "\n",
    "def run_swmm(valve_set1, valve_set2, valve_set3, valve_set4):\n",
    "    env = Env(\"./networks/aa_0360min_025yr.inp\")\n",
    "\n",
    "    data = {}\n",
    "    data[\"f1\"] = []\n",
    "    data[\"f2\"] = []\n",
    "    data[\"f3\"] = []\n",
    "    data[\"f4\"] = []\n",
    "    data[\"overflow1\"]  = []\n",
    "    data[\"overflow2\"]  = []\n",
    "    data[\"overflow3\"]  = []\n",
    "    data[\"overflow4\"]  = []\n",
    "    done = False\n",
    "    for i in range(0, 35000):\n",
    "        # set the gate_position \n",
    "        env.set_gate(NODES_LIS[\"93-50077\"], valve_set1)\n",
    "        env.set_gate(NODES_LIS[\"93-50076\"], valve_set2)\n",
    "        env.set_gate(NODES_LIS[\"93-50081\"], valve_set3)\n",
    "        env.set_gate(NODES_LIS[\"93-49921\"], valve_set4)\n",
    "        \n",
    "        # record_data\n",
    "        data[\"f1\"].append(env.flow(NODES_LIS[\"93-50077\"]))\n",
    "        data[\"f2\"].append(env.flow(NODES_LIS[\"93-50076\"]))\n",
    "        data[\"f4\"].append(env.flow(NODES_LIS[\"93-49921\"]))\n",
    "        data[\"f3\"].append(env.flow(NODES_LIS[\"93-50081\"]))\n",
    "        \n",
    "        data[\"overflow1\"].append(env.sim._model.getNodeResult(\"93-50077\", 4))\n",
    "        data[\"overflow2\"].append(env.sim._model.getNodeResult(\"93-50076\", 4))\n",
    "        data[\"overflow4\"].append(env.sim._model.getNodeResult(\"93-49921\", 4))\n",
    "        data[\"overflow3\"].append(env.sim._model.getNodeResult(\"93-50081\", 4))\n",
    "        \n",
    "        # step through simulation\n",
    "        done = env.step()\n",
    "        \n",
    "    overflows = {}\n",
    "    overflows[\"o1\"] = sum(data[\"overflow1\"])\n",
    "    overflows[\"o2\"] = sum(data[\"overflow2\"])\n",
    "    overflows[\"o3\"] = sum(data[\"overflow3\"])\n",
    "    overflows[\"o4\"] = sum(data[\"overflow4\"])\n",
    "    \n",
    "    env.sim._model.swmm_end()\n",
    "    env.sim._model.swmm_close()\n",
    "    return data, overflows\n",
    "\n",
    "# Plot the uncontrolled reponse \n",
    "un_data, un_overflow = run_swmm(1.0, 1.0, 1.0, 1.0)"
   ]
  },
  {
   "cell_type": "code",
   "execution_count": 3,
   "metadata": {},
   "outputs": [],
   "source": [
    "# Desired control objective\n",
    "downstream_target1 = np.asarray(copy.deepcopy(un_data[\"f1\"]))\n",
    "downstream_target1[downstream_target1 > 6.0] = 6.0\n",
    "downstream_target1d =  spy.decimate(downstream_target1, 50)"
   ]
  },
  {
   "cell_type": "code",
   "execution_count": 4,
   "metadata": {},
   "outputs": [],
   "source": [
    "def fc(x):\n",
    "    data, overflow  = run_swmm(x[0][0], 1.0, 1.0, 1.0)\n",
    "    pred_flow1 = np.asarray(data[\"f1\"])\n",
    "    pred_flow1 =  spy.decimate(pred_flow1, 50)\n",
    "    path, distance1 = ts.dtw_path(downstream_target1d,\n",
    "            pred_flow1,\n",
    "            global_constraint=\"sakoe_chiba\",\n",
    "            sakoe_chiba_radius=1)\n",
    "    # sum of the outflows\n",
    "    d = 0.0\n",
    "    for i in overflow.keys():\n",
    "        d += overflow[i]\n",
    "    loss = distance1*10.0 + (d)*10.0\n",
    "    return loss"
   ]
  },
  {
   "cell_type": "code",
   "execution_count": 5,
   "metadata": {},
   "outputs": [],
   "source": [
    "# Define gpopt\n",
    "domain = [{'name': 'var_1', 'type': 'continuous', 'domain': (0.0, 1.0)}]\n",
    "\n",
    "# --- Solve your problem\n",
    "myBopt = BayesianOptimization(f=fc,\n",
    "        domain=domain,\n",
    "        model_type = 'GP',\n",
    "        acquisition_type='EI',\n",
    "        exact_feval = True,\n",
    "        acquisition_weight = 4)\n",
    "\n",
    "myBopt.run_optimization(max_iter=10)"
   ]
  },
  {
   "cell_type": "code",
   "execution_count": 6,
   "metadata": {},
   "outputs": [
    {
     "data": {
      "text/plain": [
       "Text(0, 0.5, 'Outflow P1')"
      ]
     },
     "execution_count": 6,
     "metadata": {},
     "output_type": "execute_result"
    },
    {
     "data": {
      "image/png": "[encoded data removed]",
      "text/plain": [
       "<Figure size 432x288 with 1 Axes>"
      ]
     },
     "metadata": {
      "needs_background": "light"
     },
     "output_type": "display_data"
    }
   ],
   "source": [
    "c_data, c_overflow = run_swmm(myBopt.x_opt[0], 1.0,1.0,1.0)\n",
    "plt.plot(c_data[\"f1\"], label = \"controlled Flow\",   linewidth=2.0)\n",
    "plt.plot(downstream_target1, label = \"desired flow\", linewidth=2.0)\n",
    "plt.plot(un_data[\"f1\"], \"k--\", label = \"uncontrolled flow\", linewidth=2.0)\n",
    "plt.ylabel(\"Outflow P1\")"
   ]
  },
  {
   "cell_type": "code",
   "execution_count": 9,
   "metadata": {},
   "outputs": [
    {
     "data": {
      "text/plain": [
       "-14279.176233438542"
      ]
     },
     "execution_count": 9,
     "metadata": {},
     "output_type": "execute_result"
    }
   ],
   "source": [
    "sum(c_data[\"f1\"]) - sum(un_data[\"f1\"])"
   ]
  },
  {
   "cell_type": "code",
   "execution_count": 8,
   "metadata": {},
   "outputs": [
    {
     "data": {
      "text/plain": [
       "127577.86715022185"
      ]
     },
     "execution_count": 8,
     "metadata": {},
     "output_type": "execute_result"
    }
   ],
   "source": []
  },
  {
   "cell_type": "code",
   "execution_count": 10,
   "metadata": {},
   "outputs": [],
   "source": [
    "env = Env(\"./networks/parallel.inp\")"
   ]
  },
  {
   "cell_type": "code",
   "execution_count": null,
   "metadata": {},
   "outputs": [],
   "source": []
  }
 ],
 "metadata": {
  "kernelspec": {
   "display_name": "Python 3",
   "language": "python",
   "name": "python3"
  },
  "language_info": {
   "codemirror_mode": {
    "name": "ipython",
    "version": 3
   },
   "file_extension": ".py",
   "mimetype": "text/x-python",
   "name": "python",
   "nbconvert_exporter": "python",
   "pygments_lexer": "ipython3",
   "version": "3.7.6"
  }
 },
 "nbformat": 4,
 "nbformat_minor": 2
}
