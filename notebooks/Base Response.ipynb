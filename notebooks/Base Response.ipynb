{
 "cells": [
  {
   "cell_type": "code",
   "execution_count": 5,
   "metadata": {},
   "outputs": [],
   "source": [
    "from pyswmm_lite import Env\n",
    "import numpy as np\n",
    "import matplotlib.pyplot as plt"
   ]
  },
  {
   "cell_type": "code",
   "execution_count": 2,
   "metadata": {},
   "outputs": [],
   "source": [
    "env = Env(\"./networks/Single_AA.inp\")\n",
    "flow = np.sin(np.linspace(0.0, 1.0, 100)*np.pi) * 3.0 # Half sine wave\n",
    "flow = np.hstack((np.zeros(10), flow, np.zeros(300)))\n",
    "\n",
    "data = {}\n",
    "data[\"outflow\"] = [] \n",
    "data[\"inflow\"]  = []\n",
    "done = False\n",
    "for time in range(0, len(flow)):\n",
    "        # set the gate_position \n",
    "    env.set_gate(\"1\", 1.0)\n",
    "\n",
    "    env.sim._model.setNodeInflow(\"P1\", 1*flow[time])\n",
    "    env.sim._model.setNodeInflow(\"P2\", 0.0)\n",
    "\n",
    "\n",
    "        # record_data\n",
    "    data[\"outflow\"].append(env.flow(\"1\"))\n",
    "    data[\"inflow\"].append(env.get_inflow(\"P1\"))\n",
    "\n",
    "        # step through simulation\n",
    "    done = env.step()"
   ]
  },
  {
   "cell_type": "code",
   "execution_count": 3,
   "metadata": {},
   "outputs": [
    {
     "data": {
      "text/plain": [
       "0.12502402542415372"
      ]
     },
     "execution_count": 3,
     "metadata": {},
     "output_type": "execute_result"
    }
   ],
   "source": [
    "(sum(data[\"outflow\"]) - sum(data[\"inflow\"]))/sum(data[\"inflow\"])"
   ]
  },
  {
   "cell_type": "code",
   "execution_count": 4,
   "metadata": {},
   "outputs": [
    {
     "data": {
      "text/plain": [
       "219.88624280952524"
      ]
     },
     "execution_count": 4,
     "metadata": {},
     "output_type": "execute_result"
    }
   ],
   "source": [
    "sum(data[\"outflow\"])"
   ]
  },
  {
   "cell_type": "code",
   "execution_count": 5,
   "metadata": {},
   "outputs": [],
   "source": [
    "env = Env(\"./networks/Single_AA.inp\")\n",
    "flow = np.load(\"Inflow_aa.npy\") \n",
    "\n",
    "data = {}\n",
    "data[\"outflow\"] = [] \n",
    "data[\"inflow\"]  = []\n",
    "done = False\n",
    "for time in range(0, len(flow)):\n",
    "        # set the gate_position \n",
    "    env.set_gate(\"1\", 1.0)\n",
    "\n",
    "    env.sim._model.setNodeInflow(\"P1\", 1*flow[time])\n",
    "    env.sim._model.setNodeInflow(\"P2\", 0.0)\n",
    "\n",
    "\n",
    "        # record_data\n",
    "    data[\"outflow\"].append(env.flow(\"7\"))\n",
    "    data[\"inflow\"].append(env.get_inflow(\"P1\"))\n",
    "\n",
    "        # step through simulation\n",
    "    done = env.step()\n",
    "env.terminate()"
   ]
  },
  {
   "cell_type": "code",
   "execution_count": 6,
   "metadata": {},
   "outputs": [
    {
     "data": {
      "text/plain": [
       "0.003283671394419432"
      ]
     },
     "execution_count": 6,
     "metadata": {},
     "output_type": "execute_result"
    }
   ],
   "source": [
    "(sum(data[\"outflow\"]) - sum(data[\"inflow\"]))/sum(data[\"inflow\"])"
   ]
  },
  {
   "cell_type": "code",
   "execution_count": 7,
   "metadata": {},
   "outputs": [
    {
     "data": {
      "text/plain": [
       "275519.18975336576"
      ]
     },
     "execution_count": 7,
     "metadata": {},
     "output_type": "execute_result"
    }
   ],
   "source": [
    "sum(data[\"outflow\"])"
   ]
  },
  {
   "cell_type": "code",
   "execution_count": 8,
   "metadata": {},
   "outputs": [
    {
     "data": {
      "text/plain": [
       "274617.4363332694"
      ]
     },
     "execution_count": 8,
     "metadata": {},
     "output_type": "execute_result"
    }
   ],
   "source": [
    "sum(data[\"inflow\"])"
   ]
  },
  {
   "cell_type": "code",
   "execution_count": 13,
   "metadata": {},
   "outputs": [],
   "source": [
    "env = Env(\"./networks/Single_AA.inp\")\n",
    "\n",
    "data = {}\n",
    "data[\"outflow\"] = [] \n",
    "data[\"inflow\"]  = []\n",
    "done = False\n",
    "while not done:\n",
    "        # set the gate_position \n",
    "    env.set_gate(\"1\", 0.5)\n",
    "        # record_data\n",
    "    data[\"outflow\"].append(env.flow(\"7\"))\n",
    "    data[\"inflow\"].append(env.get_inflow(\"P1\"))\n",
    "\n",
    "        # step through simulation\n",
    "    done = env.step()\n",
    "env.terminate()"
   ]
  },
  {
   "cell_type": "code",
   "execution_count": 14,
   "metadata": {},
   "outputs": [
    {
     "data": {
      "text/plain": [
       "-0.00026420741055379016"
      ]
     },
     "execution_count": 14,
     "metadata": {},
     "output_type": "execute_result"
    }
   ],
   "source": [
    "(sum(data[\"outflow\"]) - sum(data[\"inflow\"]))/sum(data[\"inflow\"])"
   ]
  },
  {
   "cell_type": "code",
   "execution_count": 15,
   "metadata": {},
   "outputs": [
    {
     "data": {
      "text/plain": [
       "[<matplotlib.lines.Line2D at 0x1096138d0>]"
      ]
     },
     "execution_count": 15,
     "metadata": {},
     "output_type": "execute_result"
    },
    {
     "data": {
      "image/png": "[encoded data removed]",
      "text/plain": [
       "<Figure size 432x288 with 1 Axes>"
      ]
     },
     "metadata": {
      "needs_background": "light"
     },
     "output_type": "display_data"
    }
   ],
   "source": [
    "plt.plot(data[\"outflow\"])"
   ]
  },
  {
   "cell_type": "code",
   "execution_count": 16,
   "metadata": {},
   "outputs": [
    {
     "data": {
      "text/plain": [
       "0.0026773862222118083"
      ]
     },
     "execution_count": 16,
     "metadata": {},
     "output_type": "execute_result"
    }
   ],
   "source": [
    "sum(data[\"inflow\"]) - sum(data[\"outflow\"])"
   ]
  },
  {
   "cell_type": "code",
   "execution_count": null,
   "metadata": {},
   "outputs": [],
   "source": []
  }
 ],
 "metadata": {
  "kernelspec": {
   "display_name": "Python 3",
   "language": "python",
   "name": "python3"
  },
  "language_info": {
   "codemirror_mode": {
    "name": "ipython",
    "version": 3
   },
   "file_extension": ".py",
   "mimetype": "text/x-python",
   "name": "python",
   "nbconvert_exporter": "python",
   "pygments_lexer": "ipython3",
   "version": "3.6.5"
  }
 },
 "nbformat": 4,
 "nbformat_minor": 2
}
