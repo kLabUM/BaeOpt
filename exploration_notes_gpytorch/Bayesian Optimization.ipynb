{
 "cells": [
  {
   "cell_type": "code",
   "execution_count": 1,
   "metadata": {},
   "outputs": [],
   "source": [
    "import torch\n",
    "import numpy as np\n",
    "import gpytorch \n",
    "import matplotlib.pyplot as plt\n",
    "%matplotlib notebook\n",
    "%config InlineBackend.print_figure_kwargs={'bbox_inches':None}\n",
    "import seaborn as sns \n",
    "sns.set_style(\"whitegrid\")\n",
    "\n",
    "# Sample identification\n",
    "from torch.distributions import constraints, transform_to\n",
    "import torch.autograd as autograd\n",
    "import torch.optim as optim"
   ]
  },
  {
   "cell_type": "markdown",
   "metadata": {},
   "source": [
    "## Bayesian Optimization"
   ]
  },
  {
   "cell_type": "markdown",
   "metadata": {},
   "source": [
    "### Step 1: Set up the Gaussian Model"
   ]
  },
  {
   "cell_type": "code",
   "execution_count": 2,
   "metadata": {},
   "outputs": [],
   "source": [
    "class GPModel(gpytorch.models.ExactGP):\n",
    "    def __init__(self, train_x, train_y, likelihood):\n",
    "        super(GPModel, self).__init__(train_x, train_y, likelihood)\n",
    "        # Constant Mean \n",
    "        self.mean_module = gpytorch.means.ConstantMean()\n",
    "        # RBF Kenel Scaled \n",
    "        self.covr_module = gpytorch.kernels.ScaleKernel(gpytorch.kernels.RBFKernel())\n",
    "        \n",
    "    def forward(self, x):\n",
    "        # Computes a forward pass and returns a multivariate normal distribution \n",
    "        mean_x = self.mean_module(x)\n",
    "        covr_x = self.covr_module(x)\n",
    "        return gpytorch.distributions.MultivariateNormal(mean_x, covr_x)"
   ]
  },
  {
   "cell_type": "markdown",
   "metadata": {},
   "source": [
    "So mathematically speaking, when the above model is invoked it computes the mean $\\mu(x)$ and covariance matrix $k_{xx}$ and returns the multivariate gaussian distribution with the mean and covariance, i.e. $P(f|X,Y)$"
   ]
  },
  {
   "cell_type": "markdown",
   "metadata": {},
   "source": [
    "### Step 2: Set up the likelihood"
   ]
  },
  {
   "cell_type": "code",
   "execution_count": 3,
   "metadata": {},
   "outputs": [],
   "source": [
    "likelihood = gpytorch.likelihoods.GaussianLikelihood()"
   ]
  },
  {
   "cell_type": "markdown",
   "metadata": {},
   "source": [
    "This is the inference step that computes $P(y^*|x^*,X,Y)$"
   ]
  },
  {
   "cell_type": "markdown",
   "metadata": {},
   "source": [
    "### Verify the GP\n",
    "\n",
    "Before we jump into the bayesian optimization, let us verify the GP performance with the RBF kernel."
   ]
  },
  {
   "cell_type": "code",
   "execution_count": 4,
   "metadata": {},
   "outputs": [],
   "source": [
    "# Synth Data \n",
    "X = torch.linspace(0, 2.0, 100) * np.pi\n",
    "Y = torch.sin(X)\n",
    "# Add some noise with a variance of 0.4\n",
    "Y += torch.randn(Y.size()) * 0.4"
   ]
  },
  {
   "cell_type": "code",
   "execution_count": 5,
   "metadata": {},
   "outputs": [
    {
     "data": {
      "text/plain": [
       "Text(0.5, 1.0, 'Sampled Data from a Noisy Sine Wave')"
      ]
     },
     "execution_count": 5,
     "metadata": {},
     "output_type": "execute_result"
    },
    {
     "data": {
      "image/png": "[encoded data removed]",
      "text/plain": [
       "<Figure size 432x288 with 1 Axes>"
      ]
     },
     "metadata": {
      "needs_background": "light"
     },
     "output_type": "display_data"
    }
   ],
   "source": [
    "plt.plot(X.numpy(), Y.numpy(), 'x')\n",
    "plt.title(\"Sampled Data from a Noisy Sine Wave\")"
   ]
  },
  {
   "cell_type": "markdown",
   "metadata": {},
   "source": [
    "#### Initalize the model "
   ]
  },
  {
   "cell_type": "code",
   "execution_count": 6,
   "metadata": {},
   "outputs": [],
   "source": [
    "gptest_model = GPModel(X, Y, likelihood)"
   ]
  },
  {
   "cell_type": "markdown",
   "metadata": {},
   "source": [
    "#### Hyperparamter training"
   ]
  },
  {
   "cell_type": "markdown",
   "metadata": {},
   "source": [
    "Before we start prediction on the new data based on the these samples, we need to tune out predictor, in this case our kenel function, to better the data better. This can be done in a multitude of ways, but with the Gpytorch we can leverage the autograd to solve the marginal likelihood to tune the hyperparameters. \n",
    "\n",
    "This is ideal because when we stackup complex kernels, working out the math can be tedious and coding up can be annoying. Pytorch can be used to do it for you. "
   ]
  },
  {
   "cell_type": "code",
   "execution_count": 7,
   "metadata": {},
   "outputs": [
    {
     "data": {
      "text/plain": [
       "GaussianLikelihood(\n",
       "  (noise_covar): HomoskedasticNoise()\n",
       ")"
      ]
     },
     "execution_count": 7,
     "metadata": {},
     "output_type": "execute_result"
    }
   ],
   "source": [
    "# Find optimal model hyperparameters\n",
    "gptest_model.train()\n",
    "likelihood.train()"
   ]
  },
  {
   "cell_type": "code",
   "execution_count": 8,
   "metadata": {},
   "outputs": [],
   "source": [
    "# Use the adam optimizer\n",
    "optimizer = torch.optim.Adam([\n",
    "    {'params': gptest_model.parameters()},  # Includes GaussianLikelihood parameters\n",
    "], lr=0.1)"
   ]
  },
  {
   "cell_type": "code",
   "execution_count": 9,
   "metadata": {},
   "outputs": [],
   "source": [
    "# \"Loss\" for GPs - the marginal log likelihood\n",
    "mll = gpytorch.mlls.ExactMarginalLogLikelihood(likelihood, gptest_model)"
   ]
  },
  {
   "cell_type": "code",
   "execution_count": 10,
   "metadata": {},
   "outputs": [
    {
     "name": "stdout",
     "output_type": "stream",
     "text": [
      "Iter 1/50 - Loss: 0.988\n",
      "Iter 2/50 - Loss: 0.977\n",
      "Iter 3/50 - Loss: 0.950\n",
      "Iter 4/50 - Loss: 0.917\n",
      "Iter 5/50 - Loss: 0.887\n",
      "Iter 6/50 - Loss: 0.865\n",
      "Iter 7/50 - Loss: 0.849\n",
      "Iter 8/50 - Loss: 0.824\n",
      "Iter 9/50 - Loss: 0.808\n",
      "Iter 10/50 - Loss: 0.792\n",
      "Iter 11/50 - Loss: 0.780\n",
      "Iter 12/50 - Loss: 0.772\n",
      "Iter 13/50 - Loss: 0.762\n",
      "Iter 14/50 - Loss: 0.755\n",
      "Iter 15/50 - Loss: 0.753\n",
      "Iter 16/50 - Loss: 0.751\n",
      "Iter 17/50 - Loss: 0.753\n",
      "Iter 18/50 - Loss: 0.756\n",
      "Iter 19/50 - Loss: 0.758\n",
      "Iter 20/50 - Loss: 0.759\n",
      "Iter 21/50 - Loss: 0.763\n",
      "Iter 22/50 - Loss: 0.763\n",
      "Iter 23/50 - Loss: 0.762\n",
      "Iter 24/50 - Loss: 0.762\n",
      "Iter 25/50 - Loss: 0.762\n",
      "Iter 26/50 - Loss: 0.764\n",
      "Iter 27/50 - Loss: 0.757\n",
      "Iter 28/50 - Loss: 0.755\n",
      "Iter 29/50 - Loss: 0.751\n",
      "Iter 30/50 - Loss: 0.754\n",
      "Iter 31/50 - Loss: 0.750\n",
      "Iter 32/50 - Loss: 0.753\n",
      "Iter 33/50 - Loss: 0.748\n",
      "Iter 34/50 - Loss: 0.749\n",
      "Iter 35/50 - Loss: 0.750\n",
      "Iter 36/50 - Loss: 0.750\n",
      "Iter 37/50 - Loss: 0.753\n",
      "Iter 38/50 - Loss: 0.749\n",
      "Iter 39/50 - Loss: 0.750\n",
      "Iter 40/50 - Loss: 0.750\n",
      "Iter 41/50 - Loss: 0.751\n",
      "Iter 42/50 - Loss: 0.751\n",
      "Iter 43/50 - Loss: 0.749\n",
      "Iter 44/50 - Loss: 0.748\n",
      "Iter 45/50 - Loss: 0.749\n",
      "Iter 46/50 - Loss: 0.748\n",
      "Iter 47/50 - Loss: 0.748\n",
      "Iter 48/50 - Loss: 0.748\n",
      "Iter 49/50 - Loss: 0.747\n",
      "Iter 50/50 - Loss: 0.749\n"
     ]
    }
   ],
   "source": [
    "training_iter = 50\n",
    "for i in range(training_iter):\n",
    "    # Zero gradients from previous iteration\n",
    "    optimizer.zero_grad()\n",
    "    # Output from model\n",
    "    output = gptest_model(X)\n",
    "    # Calc loss and backprop gradients\n",
    "    loss = -mll(output, Y)\n",
    "    loss.backward()\n",
    "    print('Iter %d/%d - Loss: %.3f' % (i + 1, training_iter, loss.item()))\n",
    "    optimizer.step()"
   ]
  },
  {
   "cell_type": "code",
   "execution_count": 11,
   "metadata": {},
   "outputs": [
    {
     "name": "stderr",
     "output_type": "stream",
     "text": [
      "/usr/local/lib/python3.6/site-packages/gpytorch/models/exact_gp.py:177: UserWarning: The input matches the stored training data. Did you forget to call model.train()?\n",
      "  \"The input matches the stored training data. Did you forget to call model.train()?\", UserWarning\n"
     ]
    }
   ],
   "source": [
    "# Get into evaluation (predictive posterior) mode\n",
    "gptest_model.eval()\n",
    "likelihood.eval()\n",
    "\n",
    "# Test points are regularly spaced along [0,1]\n",
    "test_x = torch.linspace(0, 2, 100) * np.pi\n",
    "\n",
    "# Make predictions by feeding model through likelihood\n",
    "with torch.no_grad(), gpytorch.settings.fast_pred_var():\n",
    "    observed_pred = likelihood(gptest_model(test_x))"
   ]
  },
  {
   "cell_type": "code",
   "execution_count": 12,
   "metadata": {},
   "outputs": [
    {
     "data": {
      "image/png": "[encoded data removed]",
      "text/plain": [
       "<Figure size 288x216 with 1 Axes>"
      ]
     },
     "metadata": {
      "needs_background": "light"
     },
     "output_type": "display_data"
    }
   ],
   "source": [
    "with torch.no_grad():\n",
    "    # Initialize plot\n",
    "    f, ax = plt.subplots(1, 1, figsize=(4, 3))\n",
    "\n",
    "    # Get upper and lower confidence bounds\n",
    "    lower, upper = observed_pred.confidence_region()\n",
    "    # Plot training data as black stars\n",
    "    ax.plot(X.numpy(), Y.numpy(), 'k*')\n",
    "    # Plot predictive means as blue line\n",
    "    ax.plot(test_x.numpy(), observed_pred.mean.numpy(), 'b')\n",
    "    # Shade between the lower and upper confidence bounds\n",
    "    ax.fill_between(test_x.numpy(), lower.numpy(), upper.numpy(), alpha=0.5)\n",
    "    ax.set_ylim([-3, 3])\n",
    "    ax.legend(['Observed Data', 'Mean', 'Confidence'])"
   ]
  },
  {
   "cell_type": "markdown",
   "metadata": {},
   "source": [
    "GP's performance looks good and the model seems to be working, let us head back to the bayesian optimization."
   ]
  },
  {
   "cell_type": "markdown",
   "metadata": {},
   "source": [
    "## Step 3: Create the acquision function:\n",
    "In this example we would be using expected improvement."
   ]
  },
  {
   "cell_type": "code",
   "execution_count": 49,
   "metadata": {},
   "outputs": [],
   "source": [
    "def EI(x, observed_x, observed_y, model, likelihood, xi=0.1):\n",
    "    \"\"\"\n",
    "    Computes the expected inprovement based on the GP\n",
    "    \"\"\"\n",
    "    # Compute the mean of sampled points \n",
    "    observed_sam = likelihood(model(observed_x))\n",
    "    mean_sam = observed_sam.mean\n",
    "    # Compute the mean and covariance of new data\n",
    "    observed_new = likelihood(model(x))\n",
    "    mean_new = observed_new.mean\n",
    "    vari_new = observed_new.variance\n",
    "    # Standard Normal Distribution \n",
    "    nrml = torch.distributions.normal.Normal(0.0, 1.0)\n",
    "    # Identify the max from the sampled data\n",
    "    max_mean = mean_sam.max()\n",
    "    # Compute Z \n",
    "    Z = (mean_new - max_mean - xi)/vari_new\n",
    "    # Estimate the ei\n",
    "    ei = (mean_new - max_mean - xi)*nrml.cdf(Z) + vari_new*torch.exp(nrml.log_prob(Z))\n",
    "    if bool((vari_new > 0.0).numpy()):\n",
    "        return ei \n",
    "    else:\n",
    "        return ei * 0.0\n",
    "    \n",
    "def candidate_id(x_init,\n",
    "                observed_x,\n",
    "                observed_y,\n",
    "                model,\n",
    "                likelihood,\n",
    "                lower_bound=0, upper_bound=1):\n",
    "    \"\"\"\n",
    "    Identify the next point to sample based on the acquision function \n",
    "    and some pytorch magical beans \n",
    "    \"\"\"\n",
    "    # transform x to an unconstrained domain\n",
    "    constraint = constraints.interval(lower_bound, upper_bound)\n",
    "    unconstrained_x_init = transform_to(constraint).inv(x_init)\n",
    "    unconstrained_x = unconstrained_x_init.clone().detach().requires_grad_(True)\n",
    "    minimizer = optim.LBFGS([unconstrained_x])\n",
    "\n",
    "    def closure():\n",
    "        minimizer.zero_grad()\n",
    "        x = transform_to(constraint)(unconstrained_x)\n",
    "        y = -EI(x, observed_x, observed_y, model, likelihood)\n",
    "        autograd.backward(unconstrained_x, autograd.grad(y, unconstrained_x))\n",
    "        return y\n",
    "\n",
    "    minimizer.step(closure)\n",
    "    # after finding a candidate in the unconstrained domain,\n",
    "    # convert it back to original domain.\n",
    "    x = transform_to(constraint)(unconstrained_x)\n",
    "    return x.detach(), EI(x, observed_x, observed_y, model, likelihood).detach()"
   ]
  },
  {
   "cell_type": "markdown",
   "metadata": {},
   "source": [
    "## Bayesian Optimization Implementation "
   ]
  },
  {
   "cell_type": "code",
   "execution_count": 54,
   "metadata": {},
   "outputs": [],
   "source": [
    "# Create the function f\n",
    "def f(X, noise=0.10):\n",
    "    return -torch.sin(np.pi*X) - X**2 + 0.7*X + noise * torch.randn(*X.shape)\n",
    "# Plot the function for visual clarity\n",
    "X = torch.linspace(0, 1.0, 100)"
   ]
  },
  {
   "cell_type": "code",
   "execution_count": 56,
   "metadata": {},
   "outputs": [
    {
     "data": {
      "text/plain": [
       "<matplotlib.legend.Legend at 0x1368bf6a0>"
      ]
     },
     "execution_count": 56,
     "metadata": {},
     "output_type": "execute_result"
    },
    {
     "data": {
      "image/png": "[encoded data removed]",
      "text/plain": [
       "<Figure size 432x288 with 1 Axes>"
      ]
     },
     "metadata": {
      "needs_background": "light"
     },
     "output_type": "display_data"
    }
   ],
   "source": [
    "# plot the actial vave \n",
    "plt.plot(X.numpy(), f(X, noise=0.0).numpy(),'k')\n",
    "# Plot the noise bounds \n",
    "plt.fill_between(X.numpy(), f(X, noise=0.0).numpy() - 2.0*0.0, f(X, noise=0.0).numpy() + 2.0*0.0, alpha=0.3)\n",
    "plt.legend([\"f(x)\", \"Noise\"])"
   ]
  },
  {
   "cell_type": "code",
   "execution_count": 67,
   "metadata": {},
   "outputs": [],
   "source": [
    "X_sampled = torch.tensor([0.20]) # Some inital starting point \n",
    "Y_sampled = f(X_sampled)\n",
    "\n",
    "# Set up the optimization thingy \n",
    "gp_likihood = gpytorch.likelihoods.GaussianLikelihood()\n",
    "gp_model    = GPModel(X_sampled, Y_sampled, gp_likihood)\n",
    "\n",
    "# Set up the number of iter \n",
    "num_ties = 30\n",
    "\n",
    "# Datalog\n",
    "datalog = {}\n",
    "datalog[\"x_next\"] = []\n",
    "datalog[\"acqui\"] = []\n",
    "datalog[\"acqui_com\"] = []\n",
    "\n",
    "# Bayopt loop \n",
    "for i in range(0, num_ties):\n",
    "    # Train the model based on the X_sampled and Y_sampled \n",
    "    \n",
    "    # Find optimal model hyperparameters\n",
    "    gp_model.train()\n",
    "    gp_likihood.train()\n",
    "    \n",
    "    ## Optimizer \n",
    "    optimizer = torch.optim.Adam([{'params': gp_model.parameters()},], lr=0.1)\n",
    "    \n",
    "    ## \"Loss\" for GPs - the marginal log likelihood\n",
    "    mll = gpytorch.mlls.ExactMarginalLogLikelihood(gp_likihood, gp_model)\n",
    "    \n",
    "    ## Tune the hyperparms \n",
    "    training_iter = 5\n",
    "    for i in range(training_iter):\n",
    "        # Zero gradients from previous iteration\n",
    "        optimizer.zero_grad()\n",
    "        # Output from model\n",
    "        output = gptest_model(X)\n",
    "        # Calc loss and backprop gradients\n",
    "        loss = -mll(output, Y)\n",
    "        loss.backward()\n",
    "        # print('Iter %d/%d - Loss: %.3f' % (i + 1, training_iter, loss.item()))\n",
    "        optimizer.step()\n",
    "        \n",
    "    # Get into evaluation (predictive posterior) mode\n",
    "    gp_model.eval()\n",
    "    gp_likihood.eval()\n",
    "    \n",
    "    temp_x = []\n",
    "    temp_a = []\n",
    "    \n",
    "    for i in range(0, 5):\n",
    "        # Get the candidate for eval \n",
    "        x0 = torch.FloatTensor(1).uniform_(0.0, 1.0)\n",
    "        x_new, acq = candidate_id(x0,\n",
    "                                  X_sampled,\n",
    "                                  Y_sampled,\n",
    "                                  gp_model,\n",
    "                                  gp_likihood,\n",
    "                                  lower_bound=0.0, upper_bound=1.0)\n",
    "        temp_x.append(x_new)\n",
    "        temp_a.append(acq)\n",
    "    \n",
    "    argmin = torch.max(torch.cat(temp_a), dim=0)[1].item()\n",
    "    x_new = temp_x[argmin]\n",
    "    acq = temp_a[argmin]\n",
    "    datalog[\"x_next\"].append(x_new.numpy())\n",
    "    datalog[\"acqui\"].append(acq.numpy())\n",
    "\n",
    "    temp_c = []\n",
    "    ta = torch.linspace(0.0, 1.0, 10)\n",
    "    for i in ta:\n",
    "        temp_c.append(EI(i.reshape(1,), X_sampled, Y_sampled, gp_model, gp_likihood))\n",
    "    datalog[\"acqui_com\"].append(temp_c)\n",
    "\n",
    "    # Append to the sampled point \n",
    "    X_sampled = torch.cat((X_sampled, x_new), dim=0)\n",
    "    Y_sampled = torch.cat((Y_sampled, f(x_new, noise=0.0)), dim=0)\n",
    "    \n",
    "    # reinitalize the model and liklihood \n",
    "    gp_likihood = gpytorch.likelihoods.GaussianLikelihood()\n",
    "    gp_model    = GPModel(X_sampled, Y_sampled, gp_likihood)"
   ]
  },
  {
   "cell_type": "code",
   "execution_count": 68,
   "metadata": {},
   "outputs": [],
   "source": [
    "# Get into evaluation (predictive posterior) mode\n",
    "gp_model.eval()\n",
    "gp_likihood.eval()\n",
    "\n",
    "# Test points are regularly spaced along [0,1]\n",
    "test_gp_x = torch.linspace(0, 1, 100)\n",
    "\n",
    "# Make predictions by feeding model through likelihood\n",
    "with torch.no_grad(), gpytorch.settings.fast_pred_var():\n",
    "    observed_pred = gp_likihood(gp_model(test_gp_x))"
   ]
  },
  {
   "cell_type": "code",
   "execution_count": 69,
   "metadata": {},
   "outputs": [
    {
     "data": {
      "image/png": "[encoded data removed]",
      "text/plain": [
       "<Figure size 288x216 with 1 Axes>"
      ]
     },
     "metadata": {
      "needs_background": "light"
     },
     "output_type": "display_data"
    }
   ],
   "source": [
    "with torch.no_grad():\n",
    "    # Initialize plot\n",
    "    fi, ax = plt.subplots(1, 1, figsize=(4, 3))\n",
    "\n",
    "    # Get upper and lower confidence bounds\n",
    "    lower, upper = observed_pred.confidence_region()\n",
    "    # Plot training data as black stars\n",
    "    ax.plot(X_sampled.numpy(), Y_sampled.numpy(), 'k*')\n",
    "    # Plot predictive means as blue line\n",
    "    ax.plot(test_gp_x.numpy(), observed_pred.mean.numpy(), 'b')\n",
    "    # Shade between the lower and upper confidence bounds\n",
    "    ax.fill_between(test_gp_x.numpy(), lower.numpy(), upper.numpy(), alpha=0.5)\n",
    "    ax.legend(['Observed Data', 'Mean', 'Confidence'])"
   ]
  },
  {
   "cell_type": "code",
   "execution_count": 70,
   "metadata": {},
   "outputs": [
    {
     "data": {
      "text/plain": [
       "[<matplotlib.lines.Line2D at 0x1379b5080>]"
      ]
     },
     "execution_count": 70,
     "metadata": {},
     "output_type": "execute_result"
    },
    {
     "data": {
      "image/png": "[encoded data removed]",
      "text/plain": [
       "<Figure size 432x288 with 1 Axes>"
      ]
     },
     "metadata": {
      "needs_background": "light"
     },
     "output_type": "display_data"
    }
   ],
   "source": [
    "plt.plot(datalog[\"x_next\"], datalog[\"acqui\"], 'o')"
   ]
  },
  {
   "cell_type": "code",
   "execution_count": null,
   "metadata": {},
   "outputs": [],
   "source": []
  },
  {
   "cell_type": "code",
   "execution_count": 71,
   "metadata": {},
   "outputs": [
    {
     "data": {
      "image/png": "[encoded data removed]",
      "text/plain": [
       "<Figure size 432x288 with 1 Axes>"
      ]
     },
     "metadata": {
      "needs_background": "light"
     },
     "output_type": "display_data"
    }
   ],
   "source": [
    "for i in range(0,30):\n",
    "    plt.plot(torch.linspace(0.0, 1.0, 10).numpy(), datalog[\"acqui_com\"][i])\n",
    "    plt.plot(datalog[\"x_next\"][i], datalog[\"acqui\"][i], 'o')"
   ]
  },
  {
   "cell_type": "code",
   "execution_count": 39,
   "metadata": {},
   "outputs": [
    {
     "data": {
      "text/plain": [
       "[array([0.62889314], dtype=float32),\n",
       " array([0.7921812], dtype=float32),\n",
       " array([0.80924517], dtype=float32),\n",
       " array([0.5282169], dtype=float32),\n",
       " array([0.6667561], dtype=float32),\n",
       " array([0.72207636], dtype=float32),\n",
       " array([0.8647712], dtype=float32),\n",
       " array([0.79040486], dtype=float32),\n",
       " array([0.6888699], dtype=float32),\n",
       " array([0.99998045], dtype=float32),\n",
       " array([0.69691956], dtype=float32),\n",
       " array([0.69023705], dtype=float32),\n",
       " array([0.42285213], dtype=float32),\n",
       " array([0.6320981], dtype=float32),\n",
       " array([0.6344891], dtype=float32),\n",
       " array([0.76284516], dtype=float32),\n",
       " array([0.69833326], dtype=float32),\n",
       " array([0.70301306], dtype=float32),\n",
       " array([0.8106223], dtype=float32),\n",
       " array([0.787801], dtype=float32),\n",
       " array([0.58014214], dtype=float32),\n",
       " array([0.7120049], dtype=float32),\n",
       " array([0.68510073], dtype=float32),\n",
       " array([0.7857636], dtype=float32),\n",
       " array([0.5543575], dtype=float32),\n",
       " array([0.8273612], dtype=float32),\n",
       " array([0.7644636], dtype=float32),\n",
       " array([0.6900234], dtype=float32),\n",
       " array([0.6955382], dtype=float32),\n",
       " array([0.7504524], dtype=float32)]"
      ]
     },
     "execution_count": 39,
     "metadata": {},
     "output_type": "execute_result"
    }
   ],
   "source": [
    "datalog[\"x_next\"]"
   ]
  },
  {
   "cell_type": "code",
   "execution_count": null,
   "metadata": {},
   "outputs": [],
   "source": []
  }
 ],
 "metadata": {
  "kernelspec": {
   "display_name": "Python 3",
   "language": "python",
   "name": "python3"
  },
  "language_info": {
   "codemirror_mode": {
    "name": "ipython",
    "version": 3
   },
   "file_extension": ".py",
   "mimetype": "text/x-python",
   "name": "python",
   "nbconvert_exporter": "python",
   "pygments_lexer": "ipython3",
   "version": "3.6.5"
  }
 },
 "nbformat": 4,
 "nbformat_minor": 2
}
