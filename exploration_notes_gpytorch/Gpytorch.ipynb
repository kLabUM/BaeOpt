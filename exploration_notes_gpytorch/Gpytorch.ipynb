{
 "cells": [
  {
   "cell_type": "code",
   "execution_count": 63,
   "metadata": {},
   "outputs": [
    {
     "data": {
      "text/plain": [
       "<torch._C.Generator at 0x1123403f0>"
      ]
     },
     "execution_count": 63,
     "metadata": {},
     "output_type": "execute_result"
    }
   ],
   "source": [
    "import torch\n",
    "import numpy as np\n",
    "import gpytorch \n",
    "import matplotlib.pyplot as plt\n",
    "%matplotlib notebook\n",
    "%config InlineBackend.print_figure_kwargs={'bbox_inches':None}\n",
    "import seaborn as sns \n",
    "sns.set_style(\"whitegrid\")\n",
    "from torch.distributions import constraints, transform_to\n",
    "import torch.autograd as autograd\n",
    "import torch.optim as optim\n",
    "# Set the radom seed \n",
    "torch.manual_seed(42)"
   ]
  },
  {
   "cell_type": "markdown",
   "metadata": {},
   "source": [
    "# Gaussian Processes \n",
    "\n",
    "1. Create a generic class for GP\n",
    "2. Make a likelyhood function\n",
    "3. Priors on the Mean and covariance \n",
    "4. Define the kernel "
   ]
  },
  {
   "cell_type": "markdown",
   "metadata": {},
   "source": []
  },
  {
   "cell_type": "code",
   "execution_count": 2,
   "metadata": {},
   "outputs": [],
   "source": [
    "class GPModel(gpytorch.models.ExactGP):\n",
    "    def __init__(self, train_x, train_y, likelihood):\n",
    "        super(GPModel, self).__init__(train_x, train_y, likelihood)\n",
    "        self.mean_module = gpytorch.means.ConstantMean()\n",
    "        wn_variances = torch.randn(train_x.shape[0])\n",
    "        self.covr_module = gpytorch.kernels.ScaleKernel(gpytorch.kernels.RBFKernel())\n",
    "        \n",
    "    def forward(self, x):\n",
    "        mean_x = self.mean_module(x)\n",
    "        covr_x = self.covr_module(x)\n",
    "        return gpytorch.distributions.MultivariateNormal(mean_x, covr_x)"
   ]
  },
  {
   "cell_type": "code",
   "execution_count": 3,
   "metadata": {},
   "outputs": [],
   "source": [
    "# Training data is 11 points in [0,1] inclusive regularly spaced\n",
    "train_x = torch.linspace(0, 1, 100)\n",
    "# True function is sin(2*pi*x) with Gaussian noise\n",
    "train_y = torch.sin(train_x * (2 * np.pi)) + torch.randn(train_x.size()) * 0.50"
   ]
  },
  {
   "cell_type": "code",
   "execution_count": 4,
   "metadata": {},
   "outputs": [],
   "source": [
    "# initialize likelihood and model\n",
    "likelihood = gpytorch.likelihoods.GaussianLikelihood()\n",
    "model = GPModel(train_x, train_y, likelihood)"
   ]
  },
  {
   "cell_type": "code",
   "execution_count": 5,
   "metadata": {},
   "outputs": [],
   "source": [
    "# Find optimal model hyperparameters\n",
    "model.train()\n",
    "likelihood.train()\n",
    "\n",
    "# Use the adam optimizer\n",
    "optimizer = torch.optim.Adam([\n",
    "    {'params': model.parameters()},  # Includes GaussianLikelihood parameters\n",
    "    ], lr=0.1)\n",
    "\n",
    "# \"Loss\" for GPs - the marginal log likelihood\n",
    "mll = gpytorch.mlls.ExactMarginalLogLikelihood(likelihood, model)\n",
    "\n",
    "training_iter = 50\n",
    "for i in range(training_iter):\n",
    "    # Zero gradients from previous iteration\n",
    "    optimizer.zero_grad()\n",
    "    # Output from model\n",
    "    output = model(train_x)\n",
    "    # Calc loss and backprop gradients\n",
    "    loss = -mll(output, train_y)\n",
    "    loss.backward()\n",
    "    \"\"\"\n",
    "        print('Iter %d/%d - Loss: %.3f  log_noise: %.3f' % (\n",
    "        i + 1, training_iter, loss.item(),\n",
    "        model.likelihood.noise.item()\n",
    "    ))\n",
    "    \"\"\"\n",
    "    optimizer.step()"
   ]
  },
  {
   "cell_type": "code",
   "execution_count": 6,
   "metadata": {},
   "outputs": [],
   "source": [
    "# Get into evaluation (predictive posterior) mode\n",
    "model.eval()\n",
    "likelihood.eval()\n",
    "\n",
    "# Test points are regularly spaced along [0,1]\n",
    "# Make predictions by feeding model through likelihood\n",
    "with torch.no_grad(), gpytorch.settings.fast_pred_var():\n",
    "    test_x = torch.linspace(0, 1, 51)\n",
    "    observed_pred = likelihood(model(test_x))"
   ]
  },
  {
   "cell_type": "code",
   "execution_count": 7,
   "metadata": {},
   "outputs": [
    {
     "data": {
      "image/png": "[encoded data removed]",
      "text/plain": [
       "<Figure size 288x216 with 1 Axes>"
      ]
     },
     "metadata": {
      "needs_background": "light"
     },
     "output_type": "display_data"
    }
   ],
   "source": [
    "with torch.no_grad():\n",
    "    # Initialize plot\n",
    "    f, ax = plt.subplots(1, 1, figsize=(4, 3))\n",
    "\n",
    "    # Get upper and lower confidence bounds\n",
    "    lower, upper = observed_pred.confidence_region()\n",
    "    # Plot training data as black stars\n",
    "    ax.plot(train_x.numpy(), train_y.numpy(), 'k*')\n",
    "    # Plot predictive means as blue line\n",
    "    ax.plot(test_x.numpy(), observed_pred.mean.numpy(), 'b')\n",
    "    # Shade between the lower and upper confidence bounds\n",
    "    ax.fill_between(test_x.numpy(), lower.numpy(), upper.numpy(), alpha=0.5)\n",
    "    ax.set_ylim([-3, 3])\n",
    "    ax.legend(['Observed Data', 'Mean', 'Confidence'])"
   ]
  },
  {
   "cell_type": "code",
   "execution_count": 8,
   "metadata": {},
   "outputs": [
    {
     "data": {
      "text/plain": [
       "tensor([0.5044, 0.4920, 0.4848, 0.4813, 0.4800, 0.4797, 0.4797, 0.4797, 0.4795,\n",
       "        0.4793, 0.4791, 0.4790, 0.4790, 0.4790, 0.4790, 0.4790, 0.4790, 0.4790,\n",
       "        0.4790, 0.4790, 0.4790, 0.4790, 0.4790, 0.4789, 0.4789, 0.4789, 0.4789,\n",
       "        0.4789, 0.4789, 0.4790, 0.4790, 0.4790, 0.4790, 0.4790, 0.4790, 0.4790,\n",
       "        0.4790, 0.4790, 0.4790, 0.4790, 0.4791, 0.4793, 0.4795, 0.4796, 0.4797,\n",
       "        0.4797, 0.4800, 0.4813, 0.4848, 0.4920, 0.5044])"
      ]
     },
     "execution_count": 8,
     "metadata": {},
     "output_type": "execute_result"
    }
   ],
   "source": [
    "observed_pred.stddev"
   ]
  },
  {
   "cell_type": "markdown",
   "metadata": {},
   "source": [
    "So GP effectively captures the uncertanity/error bar on input gaussian noise. "
   ]
  },
  {
   "cell_type": "markdown",
   "metadata": {},
   "source": [
    "# Let us do bayesian optimization using these GP."
   ]
  },
  {
   "cell_type": "markdown",
   "metadata": {},
   "source": [
    "1. Define a acquision function for the next sample point \n",
    "2. Sample the objective function \n",
    "3. Augument the GP with the new data."
   ]
  },
  {
   "cell_type": "code",
   "execution_count": 36,
   "metadata": {},
   "outputs": [],
   "source": [
    "# Expected improvement\n",
    "def expected_improvement(x_new):\n",
    "    x_sampled = test_x \n",
    "    xi=0.01\n",
    "    x_new = torch.from_numpy(x_new).float()\n",
    "    # Compute the mean of sampled points \n",
    "    observed_sam = likelihood(model(x_sampled))\n",
    "    mean_sam = observed_sam.mean.detach().requires_grad_(False)\n",
    "    # Compute the mean and covariance of new data\n",
    "    observed_new = likelihood(model(x_new))\n",
    "    mean_new = observed_new.mean.detach().requires_grad_(False)\n",
    "    vari_new = observed_new.variance.detach().requires_grad_(False)\n",
    "    \n",
    "    nrml = torch.distributions.normal.Normal(0.0, 1.0)\n",
    "    max_mean = mean_sam.max()\n",
    "    Z = (mean_new - max_mean - xi)/vari_new\n",
    "    if bool((vari_new > 0.0).numpy()):\n",
    "        return float(((mean_new - max_mean - xi)*nrml.cdf(Z) + vari_new*torch.exp(nrml.log_prob(Z))).numpy())\n",
    "    else:\n",
    "        return 0.0"
   ]
  },
  {
   "cell_type": "code",
   "execution_count": null,
   "metadata": {},
   "outputs": [],
   "source": []
  },
  {
   "cell_type": "code",
   "execution_count": 50,
   "metadata": {},
   "outputs": [],
   "source": [
    "from scipy.optimize import minimize, Bounds"
   ]
  },
  {
   "cell_type": "code",
   "execution_count": 51,
   "metadata": {},
   "outputs": [
    {
     "data": {
      "text/plain": [
       "      fun: 4.132539288548287e-08\n",
       " hess_inv: <1x1 LbfgsInvHessProduct with dtype=float64>\n",
       "      jac: array([0.])\n",
       "  message: b'CONVERGENCE: NORM_OF_PROJECTED_GRADIENT_<=_PGTOL'\n",
       "     nfev: 4\n",
       "      nit: 1\n",
       "   status: 0\n",
       "  success: True\n",
       "        x: array([1.])"
      ]
     },
     "execution_count": 51,
     "metadata": {},
     "output_type": "execute_result"
    }
   ],
   "source": [
    "b =  Bounds(0, 1)\n",
    "x0 = np.asarray([0.21])\n",
    "x0 = torch.from_numpy(x0)\n",
    "minimize(expected_improvement, x0, bounds=b, method=\"L-BFGS-B\")"
   ]
  },
  {
   "cell_type": "code",
   "execution_count": 55,
   "metadata": {},
   "outputs": [
    {
     "ename": "SyntaxError",
     "evalue": "can't assign to literal (<ipython-input-55-c7483d435cbd>, line 1)",
     "output_type": "error",
     "traceback": [
      "\u001b[0;36m  File \u001b[0;32m\"<ipython-input-55-c7483d435cbd>\"\u001b[0;36m, line \u001b[0;32m1\u001b[0m\n\u001b[0;31m    with x as 10:\u001b[0m\n\u001b[0m        ^\u001b[0m\n\u001b[0;31mSyntaxError\u001b[0m\u001b[0;31m:\u001b[0m can't assign to literal\n"
     ]
    }
   ],
   "source": [
    "with x as 10:\n",
    "    print(x)"
   ]
  },
  {
   "cell_type": "code",
   "execution_count": 80,
   "metadata": {},
   "outputs": [],
   "source": [
    "def EI(x_new):\n",
    "    x_sampled = test_x \n",
    "    xi=0.01\n",
    "    # Compute the mean of sampled points \n",
    "    observed_sam = likelihood(model(x_sampled))\n",
    "    mean_sam = observed_sam.mean\n",
    "    # Compute the mean and covariance of new data\n",
    "    observed_new = likelihood(model(x_new))\n",
    "    mean_new = observed_new.mean\n",
    "    vari_new = observed_new.variance\n",
    "    \n",
    "    nrml = torch.distributions.normal.Normal(0.0, 1.0)\n",
    "    max_mean = mean_sam.max()\n",
    "    Z = (mean_new - max_mean - xi)/vari_new\n",
    "    if bool((vari_new > 0.0).numpy()):\n",
    "        return (mean_new - max_mean - xi)*nrml.cdf(Z) + vari_new*torch.exp(nrml.log_prob(Z))\n",
    "    else:\n",
    "        return (mean_new - max_mean - xi)*nrml.cdf(Z) + vari_new*torch.exp(nrml.log_prob(Z)) * 0.0\n",
    "    \n",
    "def find_a_candidate(x_init, lower_bound=0, upper_bound=1):\n",
    "    # transform x to an unconstrained domain\n",
    "    constraint = constraints.interval(lower_bound, upper_bound)\n",
    "    unconstrained_x_init = transform_to(constraint).inv(x_init)\n",
    "    unconstrained_x = unconstrained_x_init.clone().detach().requires_grad_(True)\n",
    "    minimizer = optim.LBFGS([unconstrained_x])\n",
    "\n",
    "    def closure():\n",
    "        minimizer.zero_grad()\n",
    "        x = transform_to(constraint)(unconstrained_x)\n",
    "        y = EI(x)\n",
    "        autograd.backward(unconstrained_x, autograd.grad(y, unconstrained_x))\n",
    "        return y\n",
    "\n",
    "    minimizer.step(closure)\n",
    "    # after finding a candidate in the unconstrained domain,\n",
    "    # convert it back to original domain.\n",
    "    x = transform_to(constraint)(unconstrained_x)\n",
    "    return x.detach()"
   ]
  },
  {
   "cell_type": "code",
   "execution_count": 81,
   "metadata": {},
   "outputs": [
    {
     "data": {
      "text/plain": [
       "tensor([0.0730])"
      ]
     },
     "execution_count": 81,
     "metadata": {},
     "output_type": "execute_result"
    }
   ],
   "source": [
    "find_a_candidate(x0.float(), 0, 1)"
   ]
  },
  {
   "cell_type": "code",
   "execution_count": null,
   "metadata": {},
   "outputs": [],
   "source": []
  }
 ],
 "metadata": {
  "kernelspec": {
   "display_name": "Python 3",
   "language": "python",
   "name": "python3"
  },
  "language_info": {
   "codemirror_mode": {
    "name": "ipython",
    "version": 3
   },
   "file_extension": ".py",
   "mimetype": "text/x-python",
   "name": "python",
   "nbconvert_exporter": "python",
   "pygments_lexer": "ipython3",
   "version": "3.6.5"
  }
 },
 "nbformat": 4,
 "nbformat_minor": 2
}
