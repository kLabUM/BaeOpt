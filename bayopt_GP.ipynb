{
 "cells": [
  {
   "cell_type": "markdown",
   "metadata": {},
   "source": [
    "# Gaussian Process"
   ]
  },
  {
   "cell_type": "markdown",
   "metadata": {},
   "source": [
    "Consider the standard model:\n",
    "    $$ y = f(x) + \\epsilon$$\n",
    "    $$ f(x) = x^Tw $$\n",
    "    \n",
    "Where $x$ is the input vector, $w$ is a vector of weights and $\\epsilon$ is the gaussian noise.\n",
    "\n",
    "$$\\varepsilon \\sim \\mathcal { N } \\left( 0 , \\sigma _ { n } ^ { 2 } \\right)$$"
   ]
  },
  {
   "cell_type": "code",
   "execution_count": null,
   "metadata": {},
   "outputs": [],
   "source": []
  }
 ],
 "metadata": {
  "kernelspec": {
   "display_name": "Python 3",
   "language": "python",
   "name": "python3"
  },
  "language_info": {
   "codemirror_mode": {
    "name": "ipython",
    "version": 3
   },
   "file_extension": ".py",
   "mimetype": "text/x-python",
   "name": "python",
   "nbconvert_exporter": "python",
   "pygments_lexer": "ipython3",
   "version": "3.6.5"
  }
 },
 "nbformat": 4,
 "nbformat_minor": 2
}
